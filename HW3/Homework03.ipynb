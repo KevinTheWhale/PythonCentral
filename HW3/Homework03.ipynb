{
 "cells": [
  {
   "cell_type": "markdown",
   "metadata": {},
   "source": [
    "Before you turn this homework in, make sure everything runs as expected. First, **restart the kernel** and then **run all cells** (in the menubar, select Kernel$\\rightarrow$Restart \\& Run all). If you get error messages, the grader will get the same errors and won't be able to grade your work. \n",
    "\n",
    "Make sure you fill in any place that says `YOUR CODE HERE` or \"YOUR ANSWER HERE\". You may delete the line(s) that say \"**raise** NotImplementedError()\" and replace them with your actual work. Write all your work in the cells provided in this notebook. **DO NOT** add or delete any cells. \n",
    "\n",
    "Please fill in your name in the cell below."
   ]
  },
  {
   "cell_type": "code",
   "execution_count": null,
   "metadata": {},
   "outputs": [],
   "source": [
    "NAME = \"Kevin Pham\""
   ]
  },
  {
   "cell_type": "markdown",
   "metadata": {},
   "source": [
    "---"
   ]
  },
  {
   "cell_type": "markdown",
   "metadata": {
    "deletable": false,
    "editable": false,
    "nbgrader": {
     "cell_type": "markdown",
     "checksum": "098c36b77de8ef1e5216536e42e36b11",
     "grade": false,
     "grade_id": "cell-a6f3f12388a2e526",
     "locked": true,
     "schema_version": 3,
     "solution": false,
     "task": false
    }
   },
   "source": [
    "# Homework 3\n",
    "\n",
    "In all problems below, please comment your code sufficiently well so that the grader can follow what you are doing with ease. For non-coding answers, please make sure to formulate your explanation and answers in the form of complete English sentences. "
   ]
  },
  {
   "cell_type": "markdown",
   "metadata": {
    "deletable": false,
    "editable": false,
    "nbgrader": {
     "cell_type": "markdown",
     "checksum": "dad3094130e71e35a84de9c6aa47f543",
     "grade": false,
     "grade_id": "cell-ef495698be86d216",
     "locked": true,
     "schema_version": 3,
     "solution": false,
     "task": false
    }
   },
   "source": [
    "## Problem 1 (a)\n",
    "\n",
    "Use the code given below to create a sequence of n Bernoulli trials with success probabilty p per trial. In a Bernoulli trial, a 1 counts as a success. A string of consecutive successes is known as a success run. Write a function (named \"count_runs\") that takes the sequence of Bernoulli trials as its input and returns the counts for runs of length k for each k observed in a dictionary.\n",
    "\n",
    "Example: n=13 Bernoulli trials [0, 1, 0, 1, 0, 0, 0, 1, 0, 1, 1, 0, 0] were simulated with p=0.5. There are 3 runs of length k=1, and 1 run of length k=2. Hence, your code should return {1:3, 2:1}. Your code should work even with a different seed or with different values of n and/or p. "
   ]
  },
  {
   "cell_type": "code",
   "execution_count": 2,
   "metadata": {
    "deletable": false,
    "editable": false,
    "nbgrader": {
     "cell_type": "code",
     "checksum": "05a0e1fface6ce33b5dc2cde54cd7cc9",
     "grade": false,
     "grade_id": "cell-032344f2fca38646",
     "locked": true,
     "schema_version": 3,
     "solution": false,
     "task": false
    }
   },
   "outputs": [
    {
     "name": "stdout",
     "output_type": "stream",
     "text": [
      "[0, 1, 0, 1, 0, 0, 0, 1, 0, 1, 1, 0, 0]\n"
     ]
    }
   ],
   "source": [
    "import random\n",
    "\n",
    "random.seed(10)\n",
    "n=13\n",
    "p=0.5\n",
    "seq = random.choices([1, 0],[p,1-p],k=n) # create sequence of n Bernoulli trials\n",
    "print(seq)"
   ]
  },
  {
   "cell_type": "code",
   "execution_count": 7,
   "metadata": {
    "deletable": false,
    "nbgrader": {
     "cell_type": "code",
     "checksum": "08820fd7295dca330eeea7aa88790753",
     "grade": false,
     "grade_id": "cell-631ba149fea50a1d",
     "locked": false,
     "schema_version": 3,
     "solution": true,
     "task": false
    }
   },
   "outputs": [
    {
     "ename": "TypeError",
     "evalue": "'int' object is not iterable",
     "output_type": "error",
     "traceback": [
      "\u001b[1;31m---------------------------------------------------------------------------\u001b[0m",
      "\u001b[1;31mTypeError\u001b[0m                                 Traceback (most recent call last)",
      "Input \u001b[1;32mIn [7]\u001b[0m, in \u001b[0;36m<cell line: 18>\u001b[1;34m()\u001b[0m\n\u001b[0;32m     14\u001b[0m         final_dict[\u001b[38;5;28mlen\u001b[39m(i)] \u001b[38;5;241m=\u001b[39m trim_list\u001b[38;5;241m.\u001b[39mcount(i) \u001b[38;5;66;03m# queue in by length of the string per unique key\u001b[39;00m\n\u001b[0;32m     16\u001b[0m     \u001b[38;5;28;01mreturn\u001b[39;00m(final_dict) \u001b[38;5;66;03m# return the dictionary\u001b[39;00m\n\u001b[1;32m---> 18\u001b[0m \u001b[38;5;28mprint\u001b[39m(\u001b[43mrun_counts\u001b[49m\u001b[43m(\u001b[49m\u001b[43mseq\u001b[49m\u001b[43m[\u001b[49m\u001b[38;5;241;43m1\u001b[39;49m\u001b[43m]\u001b[49m\u001b[43m)\u001b[49m)\n",
      "Input \u001b[1;32mIn [7]\u001b[0m, in \u001b[0;36mrun_counts\u001b[1;34m(seq)\u001b[0m\n\u001b[0;32m      6\u001b[0m trim_list \u001b[38;5;241m=\u001b[39m [] \u001b[38;5;66;03m# trimmed list that will exclude the 0's\u001b[39;00m\n\u001b[0;32m      7\u001b[0m \u001b[38;5;66;03m# 'Joins' consecutive 1's into a single string per entry of a list while excluding 0's\u001b[39;00m\n\u001b[1;32m----> 8\u001b[0m str_list \u001b[38;5;241m=\u001b[39m \u001b[38;5;124m'\u001b[39m\u001b[38;5;124m'\u001b[39m\u001b[38;5;241m.\u001b[39mjoin([\u001b[38;5;28mstr\u001b[39m(value) \u001b[38;5;28;01mfor\u001b[39;00m value \u001b[38;5;129;01min\u001b[39;00m seq])\u001b[38;5;241m.\u001b[39msplit(\u001b[38;5;124m'\u001b[39m\u001b[38;5;124m0\u001b[39m\u001b[38;5;124m'\u001b[39m) \n\u001b[0;32m     10\u001b[0m [trim_list\u001b[38;5;241m.\u001b[39mappend(value) \u001b[38;5;28;01mfor\u001b[39;00m value \u001b[38;5;129;01min\u001b[39;00m str_list \u001b[38;5;28;01mif\u001b[39;00m value \u001b[38;5;241m!=\u001b[39m \u001b[38;5;124m'\u001b[39m\u001b[38;5;124m'\u001b[39m] \u001b[38;5;66;03m# trim down the list to remove the empty spaces\u001b[39;00m\n\u001b[0;32m     11\u001b[0m adj_set \u001b[38;5;241m=\u001b[39m \u001b[38;5;28mlist\u001b[39m(\u001b[38;5;28mset\u001b[39m(trim_list))[::\u001b[38;5;241m-\u001b[39m\u001b[38;5;241m1\u001b[39m] \u001b[38;5;66;03m# To traverse only the unique keys of the dictionary\u001b[39;00m\n",
      "\u001b[1;31mTypeError\u001b[0m: 'int' object is not iterable"
     ]
    }
   ],
   "source": [
    "# COMPLETE\n",
    "def run_counts(seq):  # define function.\n",
    "   \n",
    "    # Between each '0's are going to be combined strings of 1's.\n",
    "    final_dict = {} # final dict. for output\n",
    "    trim_list = [] # trimmed list that will exclude the 0's\n",
    "    # 'Joins' consecutive 1's into a single string per entry of a list while excluding 0's\n",
    "    str_list = ''.join([str(value) for value in seq]).split('0') \n",
    "    \n",
    "    [trim_list.append(value) for value in str_list if value != ''] # trim down the list to remove the empty spaces\n",
    "    adj_set = list(set(trim_list))[::-1] # To traverse only the unique keys of the dictionary\n",
    "    \n",
    "    for i in adj_set: # Start queuing in the dictionary\n",
    "        final_dict[len(i)] = trim_list.count(i) # queue in by length of the string per unique key\n",
    "    \n",
    "    return(final_dict) # return the dictionary\n",
    "    \n",
    "print(run_counts(seq[1]))\n",
    "\n",
    "    \n",
    "    # YOUR CODE HERE\n",
    "    # raise NotImplementedError()"
   ]
  },
  {
   "cell_type": "code",
   "execution_count": null,
   "metadata": {
    "deletable": false,
    "editable": false,
    "nbgrader": {
     "cell_type": "code",
     "checksum": "623e23a40a601fac35ec0990ff943075",
     "grade": true,
     "grade_id": "cell-86f7e5fef8b7d4dd",
     "locked": true,
     "points": 3,
     "schema_version": 3,
     "solution": false,
     "task": false
    }
   },
   "outputs": [],
   "source": [
    "# Check if your function works by executing the code below. \n",
    "# If the assert statements below DO NOT produce any errors, your code works on the test cases. \n",
    "\n",
    "assert run_counts([0, 1, 0, 1, 0, 0, 0, 1, 0, 1, 1, 0, 0])=={1:3,2:1}\n",
    "assert run_counts([1, 0, 0, 1, 1, 0, 1, 0, 0, 1, 0, 0, 0, 0, 1, 1, 1, 0, 1, 1, 0, 1]) == {1: 4, 2: 2, 3: 1}\n"
   ]
  },
  {
   "cell_type": "markdown",
   "metadata": {
    "deletable": false,
    "editable": false,
    "nbgrader": {
     "cell_type": "markdown",
     "checksum": "1442bbad5abbdd4bcd2fdb2798b98b6a",
     "grade": false,
     "grade_id": "cell-59f87a1d0eb2a98c",
     "locked": true,
     "schema_version": 3,
     "solution": false,
     "task": false
    }
   },
   "source": [
    "## Problem 1 (b)\n",
    "\n",
    "Continuing with the Bernoulli trials from the previous problem. We want to numerically estimate the probability to have at least one run of length 5 or longer for n=100 and p=0.5. Write code to estimate this probability with two after decimal digits of accuracy and report your result in form of a print statement of the following form: \n",
    "\"The estimated probability to see at least one run of length (run_length) in (n) trials with success probability (p) is (estimated_probability)\". Where you code should automatically supply the values of run_length, n, p, and the estimated_probability. "
   ]
  },
  {
   "cell_type": "code",
   "execution_count": 13,
   "metadata": {
    "deletable": false,
    "nbgrader": {
     "cell_type": "code",
     "checksum": "407480936517661c7dcdf426b73d74a3",
     "grade": true,
     "grade_id": "cell-24926ec4f814a84e",
     "locked": false,
     "points": 2,
     "schema_version": 3,
     "solution": true,
     "task": false
    }
   },
   "outputs": [
    {
     "name": "stdout",
     "output_type": "stream",
     "text": [
      "The estimation for n = 100 with p = 0.5 with length 5 0.8129\n"
     ]
    }
   ],
   "source": [
    "# COMPLETE\n",
    "n = 100 # trials\n",
    "p = 0.5 # probability per trial\n",
    "num = 10000 # total number of iterations\n",
    "\n",
    "# empty list for the sequence of bernoulli trials\n",
    "trials = []\n",
    "# empty list to append the successes\n",
    "result = []\n",
    "\n",
    "for i in range(num): # start traversing through each iterations\n",
    "    trials.append(random.choices([1, 0],[p,1-p],k=n))\n",
    "    if(max(run_counts(trials[i]))>=5): # check each trial to check if it's length >= 5\n",
    "        result.append(True)\n",
    "\n",
    "print(\"The estimation for n = 100 with p = 0.5 with length 5\", sum(result)/num)\n",
    "\n",
    "\n",
    "\n",
    "# raise NotImplementedError()"
   ]
  },
  {
   "cell_type": "markdown",
   "metadata": {
    "deletable": false,
    "editable": false,
    "nbgrader": {
     "cell_type": "markdown",
     "checksum": "39907ad453db4b3a7ad80c4c2719094c",
     "grade": false,
     "grade_id": "cell-fd9199e661b90b15",
     "locked": true,
     "schema_version": 3,
     "solution": false,
     "task": false
    }
   },
   "source": [
    "# Problem 1 (c) \n",
    "\n",
    "What is more likely - to see at least one run of length 5 or longer in 100 trials with p=0.5 or to see at least one run of length 7 or longer in 100 trials with p=0.7? Explain how you come to your conclusion. Justify any choices you make in your simulation code. "
   ]
  },
  {
   "cell_type": "code",
   "execution_count": 14,
   "metadata": {
    "deletable": false,
    "nbgrader": {
     "cell_type": "code",
     "checksum": "74de881dc19949c9c9bc2b18279272ed",
     "grade": true,
     "grade_id": "cell-99194fcbaaef3c27",
     "locked": false,
     "points": 0,
     "schema_version": 3,
     "solution": true,
     "task": false
    }
   },
   "outputs": [
    {
     "name": "stdout",
     "output_type": "stream",
     "text": [
      "Estimation with n = 100 and p = 0.7 of length 7 is 0.9992\n"
     ]
    }
   ],
   "source": [
    "# YOUR CODE HERE\n",
    "# checking with p = 0.7 to compare with p = 0.5\n",
    "p = 0.7 # set new probability\n",
    "\n",
    "# reset the list of bernoulli trials\n",
    "trials = []\n",
    "# reset the list for appended successes\n",
    "result = []\n",
    "\n",
    "for i in range(num):\n",
    "    trials.append(random.choices([1, 0],[p,1-p],k=n))\n",
    "    if(max(run_counts(trials[i]))>=5): # check each trial to check if it's length >= 5\n",
    "        result.append(True)\n",
    "\n",
    "print(\"Estimation with n = 100 and p = 0.7 of length 7 is\",sum(result)/num)\n",
    "\n",
    "# using the same n = 100 and iterations as before\n",
    "# raise NotImplementedError()"
   ]
  },
  {
   "cell_type": "markdown",
   "metadata": {
    "deletable": false,
    "nbgrader": {
     "cell_type": "markdown",
     "checksum": "335885b3f09c9e33f11a5d56bd805f00",
     "grade": true,
     "grade_id": "cell-2d53817c1f1588a8",
     "locked": false,
     "points": 1,
     "schema_version": 3,
     "solution": true,
     "task": false
    }
   },
   "source": [
    "Computing the above results, it can be seen that it is more likely to get a length of 7 with p = 0.7 vs. its predecessor being length 5 for p = 0.5. Even using an iteration as high as 10000, the probability remains stable during repeats of the program."
   ]
  },
  {
   "cell_type": "markdown",
   "metadata": {
    "deletable": false,
    "editable": false,
    "nbgrader": {
     "cell_type": "markdown",
     "checksum": "670b227fca408596e6954bc4f130674f",
     "grade": false,
     "grade_id": "cell-fabf9e8053e019e3",
     "locked": true,
     "schema_version": 3,
     "solution": false,
     "task": false
    }
   },
   "source": [
    "## Problem 2\n",
    "\n",
    "A stick of length 1 is broken randomly along its length into two pieces. This means that the break point is a Uniform(0,1) random variable. What is the probability that the longer piece is more than twice as long as the shorter piece? \n",
    "\n",
    "a) Write a simulation that approximates the answer to this problem to two after decimal digit accuracy. \n",
    "\n",
    "**Note:** you should *not* use your knowledge of the theoretical answer in your simulation. That defies the purpose of a simulation. Simulate a uniform random variable to represent the break-point, instead. And actually compare the length of the \"pieces\" in your code. "
   ]
  },
  {
   "cell_type": "code",
   "execution_count": 19,
   "metadata": {
    "deletable": false,
    "nbgrader": {
     "cell_type": "code",
     "checksum": "2a26662c77d2156cb8c0b346fad36736",
     "grade": true,
     "grade_id": "cell-eedec05f0fd650d1",
     "locked": false,
     "points": 3,
     "schema_version": 3,
     "solution": true,
     "task": false
    }
   },
   "outputs": [
    {
     "name": "stdout",
     "output_type": "stream",
     "text": [
      "For n = 30000 the approximation is 0.67\n"
     ]
    }
   ],
   "source": [
    "# COMPLETE\n",
    "stick_list = []\n",
    "n = 30000\n",
    "\n",
    "for i in range(n):\n",
    "    break_pt = random.uniform(0, 1) # break the stick of length 1 in a random spot\n",
    "    if((break_pt/(1-break_pt)>2 or (1-break_pt)/break_pt>2)): # check to see which of the two sticks is longer\n",
    "        stick_list.append(True) # append the success\n",
    "\n",
    "\n",
    "print(\"For n =\",n,\"the approximation is\",round(sum(stick_list)/n,2)) # round to 2 decimal digits\n",
    "# raise NotImplementedError()"
   ]
  },
  {
   "cell_type": "markdown",
   "metadata": {
    "deletable": false,
    "editable": false,
    "nbgrader": {
     "cell_type": "markdown",
     "checksum": "9f09cd8b39c5a8b9ec8ac15dc3e1bbba",
     "grade": false,
     "grade_id": "cell-2f66d1f68f4a942a",
     "locked": true,
     "schema_version": 3,
     "solution": false,
     "task": false
    }
   },
   "source": [
    "b) Find the actual theoretical answer (using your Math 161A probability knowledge). Provide a short explanation for how you derive your answer. "
   ]
  },
  {
   "cell_type": "markdown",
   "metadata": {
    "deletable": false,
    "nbgrader": {
     "cell_type": "markdown",
     "checksum": "4f72778b5d34c1d86ae5e27a469c1271",
     "grade": true,
     "grade_id": "cell-b03e8954539eddc8",
     "locked": false,
     "points": 1,
     "schema_version": 3,
     "solution": true,
     "task": false
    }
   },
   "source": [
    "From 161A, If one interval is more than twice as long as the other, then it means that one of the two intervals is longer than 2/3 (and the other is less than 1/3).Letting 'A' be the event of one interval being greater than 2/3 then the complement of the event 'A' (A') is that neither interval is greater than 2/3, which also means neither interval is less than 1/3 as well. Since this falls under a uniform distribution, the probability of A' being the probability that the break point falls between 1/3 and 2/3, would be exactly 1/3. Therefore P(A) = 1 - P(A') = 2/3."
   ]
  },
  {
   "cell_type": "markdown",
   "metadata": {},
   "source": [
    "## Problem 3\n",
    "\n",
    "Use the random package to simulate rolling five fair, six-sided dice. We'll call the result a \"full house\" if two and three of the dice, respectively show the same face. Example: 2,4,2,4,4 is a full house. 5,5,5,5,5 is not a full house. "
   ]
  },
  {
   "cell_type": "markdown",
   "metadata": {},
   "source": [
    "(a) Using your Math 161A knowledge, find the theoretical probability of obtaining a \"full house\", when rolling five fair, six-sided dice. Show your work in deriving your answer. \n",
    "\n",
    "Hint: Latex notation for combinations is \"\\binom{n}{k}\" to produce $\\binom{n}{k}$. Wrap Latex math code in dollar symbols (\\$) to compile it. "
   ]
  },
  {
   "cell_type": "markdown",
   "metadata": {
    "deletable": false,
    "nbgrader": {
     "cell_type": "markdown",
     "checksum": "d042f94106a51cb2732a7421a35c0a26",
     "grade": true,
     "grade_id": "cell-c185f3c9fb9b3cb9",
     "locked": false,
     "points": 1,
     "schema_version": 3,
     "solution": true,
     "task": false
    }
   },
   "source": [
    "YOUR ANSWER HERE"
   ]
  },
  {
   "cell_type": "markdown",
   "metadata": {
    "deletable": false,
    "editable": false,
    "nbgrader": {
     "cell_type": "markdown",
     "checksum": "d4327f90af13ada71714e397c5883b9f",
     "grade": false,
     "grade_id": "cell-55038c0b55e4c0df",
     "locked": true,
     "schema_version": 3,
     "solution": false,
     "task": false
    }
   },
   "source": [
    "(b) Write a function (named \"count_rolls()\") that takes the result of simulating rolling five fair, six-sided dice and returns a dictionary that keeps track of how often each number appeared.\n",
    "\n",
    "Example: If the rolls were 4,3,4,2,5 then your dictionary could be {4: 2, 3: 1, 2: 1, 5: 1}. I do not care about the order in which the keys appear in the dictionary. An equally good answer would be {2:1, 3:1, 4:2, 5:1}, for example."
   ]
  },
  {
   "cell_type": "code",
   "execution_count": 16,
   "metadata": {
    "deletable": false,
    "nbgrader": {
     "cell_type": "code",
     "checksum": "3c06c5f70619ab4e3ce65442436abfd8",
     "grade": false,
     "grade_id": "cell-358bc28873f8d117",
     "locked": false,
     "schema_version": 3,
     "solution": true,
     "task": false
    }
   },
   "outputs": [
    {
     "name": "stdout",
     "output_type": "stream",
     "text": [
      "[4, 3, 4, 2, 5]\n"
     ]
    },
    {
     "data": {
      "text/plain": [
       "{4: 2, 3: 1, 2: 1, 5: 1}"
      ]
     },
     "execution_count": 16,
     "metadata": {},
     "output_type": "execute_result"
    }
   ],
   "source": [
    "# COMPLETE\n",
    "import random \n",
    "random.seed(10)                               # feel free to change or remove random seed\n",
    "                                              # this random seed corresponds to the example described above. \n",
    "\n",
    "result = random.choices(range(1,7),[1]*6,k=5) # simulate five die rolls\n",
    "print(result)                                 # look at the rolls (feel free to delete later)\n",
    "\n",
    "def count_rolls(result):\n",
    "    die_dict = {} # empty dictionary for result\n",
    "    for i in range(len(result)): # traverse and add each key corresponding to what side each die lands on\n",
    "        if result[i] in die_dict: # add each dict key by side of the die facing up\n",
    "            die_dict[result[i]] += 1 # increment for each respective side facing up\n",
    "        else:\n",
    "            die_dict[result[i]] = 1 # adding a new side to the dictionary \n",
    "    return(die_dict) # return the dict when done\n",
    "\n",
    "dexample = count_rolls(result)\n",
    "count_rolls(result)\n",
    "# YOUR CODE HERE\n",
    "# raise NotImplementedError()"
   ]
  },
  {
   "cell_type": "code",
   "execution_count": 17,
   "metadata": {
    "deletable": false,
    "editable": false,
    "nbgrader": {
     "cell_type": "code",
     "checksum": "106a6e3cc2651eda521263ef96c25a42",
     "grade": true,
     "grade_id": "cell-df2878ab73ef6163",
     "locked": true,
     "points": 2,
     "schema_version": 3,
     "solution": false,
     "task": false
    }
   },
   "outputs": [],
   "source": [
    "# Check if your function works by executing the code below. \n",
    "# If the assert statements below DO NOT produce any errors, your code works on the test cases. \n",
    "\n",
    "assert count_rolls([4, 3, 4, 2, 5]) == {4: 2, 3: 1, 2: 1, 5: 1}\n",
    "assert count_rolls([3, 4, 6, 3, 4]) == {3: 2, 4: 2, 6: 1}\n"
   ]
  },
  {
   "cell_type": "markdown",
   "metadata": {
    "deletable": false,
    "editable": false,
    "nbgrader": {
     "cell_type": "markdown",
     "checksum": "d8b51c770e86f6bd7165baf9340dc253",
     "grade": false,
     "grade_id": "cell-e9fd447349b1283c",
     "locked": true,
     "schema_version": 3,
     "solution": false,
     "task": false
    }
   },
   "source": [
    "(c) Simulate rolling five fair, six-sided dice n=10,000 times. Use your simulation results to estimate the probability of a full house with three after decimal digits accuracy. "
   ]
  },
  {
   "cell_type": "code",
   "execution_count": 18,
   "metadata": {
    "deletable": false,
    "nbgrader": {
     "cell_type": "code",
     "checksum": "6be22c6fc16ac246d3f12c87e69aef33",
     "grade": true,
     "grade_id": "cell-deb5efb0ac393d4d",
     "locked": false,
     "points": 2,
     "schema_version": 3,
     "solution": true,
     "task": false
    }
   },
   "outputs": [
    {
     "name": "stdout",
     "output_type": "stream",
     "text": [
      "The estimated probability based on n = 10000 iterations is 0.038\n"
     ]
    }
   ],
   "source": [
    "# YOUR CODE HERE\n",
    "n = 10000\n",
    "full_house = 0\n",
    "for i in range(n): # traverse through each trial\n",
    "    roll = count_rolls(random.choices(range(1,7),[1]*6,k=5)) # run the above die simulator\n",
    "    if (len(roll) == 2 & 2 in roll.values()):\n",
    "        full_house += 1 # increment each time a full house has been satisfied\n",
    "\n",
    "print(\"The estimated probability based on n =\",n,\"iterations is\",round(full_house/n,3)) # final statement with 3 decimal digit accuracy\n",
    "#raise NotImplementedError()"
   ]
  },
  {
   "cell_type": "markdown",
   "metadata": {
    "deletable": false,
    "editable": false,
    "nbgrader": {
     "cell_type": "markdown",
     "checksum": "76e230415318e686023d694f0ac0bc64",
     "grade": false,
     "grade_id": "cell-e042be5229002282",
     "locked": true,
     "schema_version": 3,
     "solution": false,
     "task": false
    }
   },
   "source": [
    "## Problem 4\n",
    "\n",
    "Consider the (uncommented) mystery function defined below whose input d is a dictionary. Assume that all of the keys of the input dictionary are strings and all values of the input dictionary are integers. "
   ]
  },
  {
   "cell_type": "code",
   "execution_count": null,
   "metadata": {
    "deletable": false,
    "editable": false,
    "nbgrader": {
     "cell_type": "code",
     "checksum": "40db7fe9b8e9146a5caa8626df2ab771",
     "grade": false,
     "grade_id": "cell-df926812685b4223",
     "locked": true,
     "schema_version": 3,
     "solution": false,
     "task": false
    }
   },
   "outputs": [],
   "source": [
    "def mystery(d):\n",
    "    r = len(d)\n",
    "    val = list(d.values())\n",
    "    keys = list(d.keys())\n",
    "\n",
    "    zeroes= []\n",
    "    for i in range(r):\n",
    "        if not val[i]:\n",
    "            zeroes.append(i)\n",
    "\n",
    "    for zero in zeroes:\n",
    "        del d[keys[zero]]\n",
    "    \n",
    "    r = len(d)\n",
    "    val = list(d.values())\n",
    "    keys = list(d.keys())\n",
    "    dd = {}\n",
    "\n",
    "    for i in range(r):\n",
    "        if val[i]//2 == val[i]/2:\n",
    "            keys[i] = keys[i].upper()\n",
    "        else:\n",
    "            keys[i] = keys[i].lower()\n",
    "\n",
    "        dd[keys[i]] = val[i]\n",
    "    \n",
    "    return dd"
   ]
  },
  {
   "cell_type": "markdown",
   "metadata": {
    "deletable": false,
    "editable": false,
    "nbgrader": {
     "cell_type": "markdown",
     "checksum": "0e8ccd98d98ea2fcc2589d9a85956ede",
     "grade": false,
     "grade_id": "cell-2388f7af6e413d80",
     "locked": true,
     "schema_version": 3,
     "solution": false,
     "task": false
    }
   },
   "source": [
    "(a) Summarize what the mystery function does in a few short succinct English sentences. A line-by-line translation of Python code into English is *not* a succinct summary. "
   ]
  },
  {
   "cell_type": "markdown",
   "metadata": {
    "deletable": false,
    "nbgrader": {
     "cell_type": "markdown",
     "checksum": "55ec0eee46d3962de7480c33b3f78626",
     "grade": true,
     "grade_id": "cell-1c23f3637a563602",
     "locked": false,
     "points": 2,
     "schema_version": 3,
     "solution": true,
     "task": false
    }
   },
   "source": [
    "YOUR ANSWER HERE"
   ]
  },
  {
   "cell_type": "markdown",
   "metadata": {
    "deletable": false,
    "editable": false,
    "nbgrader": {
     "cell_type": "markdown",
     "checksum": "e6ab0e3b3957ef695991c1759f4ed6ed",
     "grade": false,
     "grade_id": "cell-8fb1b3f33f7bf303",
     "locked": true,
     "schema_version": 3,
     "solution": false,
     "task": false
    }
   },
   "source": [
    "(b) Define an input dictionary d below of length at least 5, so that the input d is not identical to mystery(d) and so that mystery(d) is exactly `{'AAA': 4, 'bb':9, 'CCC':20}`"
   ]
  },
  {
   "cell_type": "code",
   "execution_count": null,
   "metadata": {
    "deletable": false,
    "nbgrader": {
     "cell_type": "code",
     "checksum": "18a78cbebdf8453a72f77290b99f320f",
     "grade": true,
     "grade_id": "cell-a539720e981dd776",
     "locked": false,
     "points": 1,
     "schema_version": 3,
     "solution": true,
     "task": false
    }
   },
   "outputs": [],
   "source": [
    "# YOUR CODE HERE\n",
    "raise NotImplementedError()"
   ]
  },
  {
   "cell_type": "markdown",
   "metadata": {
    "deletable": false,
    "editable": false,
    "nbgrader": {
     "cell_type": "markdown",
     "checksum": "c28a5ee8bc086ed2750dee622d09c5d2",
     "grade": false,
     "grade_id": "cell-e9fbeb2796f9d9a6",
     "locked": true,
     "schema_version": 3,
     "solution": false,
     "task": false
    }
   },
   "source": [
    "(c) Instead of the complicated code used to define the mystery function above, write a one-line dictionary comprehension statement that achieves the same effect when applied to a dictionary `d` that has string keys and integer values.  "
   ]
  },
  {
   "cell_type": "code",
   "execution_count": null,
   "metadata": {
    "deletable": false,
    "nbgrader": {
     "cell_type": "code",
     "checksum": "427617e14d2e20c2c0f94334d5262734",
     "grade": true,
     "grade_id": "cell-df433bce48997a2d",
     "locked": false,
     "points": 2,
     "schema_version": 3,
     "solution": true,
     "task": false
    }
   },
   "outputs": [],
   "source": [
    "# YOUR CODE HERE\n",
    "raise NotImplementedError()"
   ]
  }
 ],
 "metadata": {
  "kernelspec": {
   "display_name": "Python 3 (ipykernel)",
   "language": "python",
   "name": "python3"
  },
  "language_info": {
   "codemirror_mode": {
    "name": "ipython",
    "version": 3
   },
   "file_extension": ".py",
   "mimetype": "text/x-python",
   "name": "python",
   "nbconvert_exporter": "python",
   "pygments_lexer": "ipython3",
   "version": "3.9.7"
  }
 },
 "nbformat": 4,
 "nbformat_minor": 2
}
