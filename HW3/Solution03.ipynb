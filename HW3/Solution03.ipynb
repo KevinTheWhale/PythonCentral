{
 "cells": [
  {
   "cell_type": "markdown",
   "metadata": {
    "nbgrader": {
     "grade": false,
     "grade_id": "cell-a6f3f12388a2e526",
     "locked": true,
     "schema_version": 3,
     "solution": false,
     "task": false
    }
   },
   "source": [
    "# Solution for Homework 3\n",
    "\n",
    "In all problems below, please comment your code sufficiently well so that the grader can follow what you are doing with ease. For non-coding answers, please make sure to formulate your explanation and answers in the form of complete English sentences. "
   ]
  },
  {
   "cell_type": "markdown",
   "metadata": {
    "nbgrader": {
     "grade": false,
     "grade_id": "cell-ef495698be86d216",
     "locked": true,
     "schema_version": 3,
     "solution": false,
     "task": false
    }
   },
   "source": [
    "## Problem 1 (a)\n",
    "\n",
    "Use the code given below to create a sequence of n Bernoulli trials with success probabilty p per trial. In a Bernoulli trial, a 1 counts as a success. A string of consecutive successes is known as a success run. Write a function (named \"count_runs\") that takes the sequence of Bernoulli trials as its input and returns the counts for runs of length k for each k observed in a dictionary.\n",
    "\n",
    "Example: n=13 Bernoulli trials [0, 1, 0, 1, 0, 0, 0, 1, 0, 1, 1, 0, 0] were simulated with p=0.5. There are 3 runs of length k=1, and 1 run of length k=2. Hence, your code should return {1:3, 2:1}. Your code should work even with a different seed or with different values of n and/or p. "
   ]
  },
  {
   "cell_type": "code",
   "execution_count": 1,
   "metadata": {
    "nbgrader": {
     "grade": false,
     "grade_id": "cell-032344f2fca38646",
     "locked": true,
     "schema_version": 3,
     "solution": false,
     "task": false
    }
   },
   "outputs": [
    {
     "name": "stdout",
     "output_type": "stream",
     "text": [
      "[0, 1, 0, 1, 0, 0, 0, 1, 0, 1, 1, 0, 0]\n"
     ]
    }
   ],
   "source": [
    "import random\n",
    "\n",
    "random.seed(10)\n",
    "n=13\n",
    "p=0.5\n",
    "seq = random.choices([1, 0],[p,1-p],k=n) # create sequence of n Bernoulli trials\n",
    "print(seq)"
   ]
  },
  {
   "cell_type": "code",
   "execution_count": 2,
   "metadata": {
    "nbgrader": {
     "grade": false,
     "grade_id": "cell-631ba149fea50a1d",
     "locked": false,
     "schema_version": 3,
     "solution": true,
     "task": false
    }
   },
   "outputs": [],
   "source": [
    "def run_counts(seq):  \n",
    "    \n",
    "    counts = {}                                 # make empty dictionary\n",
    "        # the run lengths will be the keys and their counts will be the values\n",
    "    bernoulli_string = \"\".join([str(i) for i in seq]) \n",
    "        # make outcomes into string of 0 and 1\n",
    "    run_list = bernoulli_string.split('0')            \n",
    "        # split by 0's - to separate runs of 1's\n",
    "    run_list = [item for item in run_list if len(item)>0] \n",
    "        # get rid of \"empty runs\"         \n",
    "\n",
    "    for run in run_list:                         # iterate over all runs\n",
    "        counts[len(run)] = counts.get(len(run),0) + 1   \n",
    "            # increase count of each run of the same length you come across by 1\n",
    "    return counts"
   ]
  },
  {
   "cell_type": "code",
   "execution_count": 3,
   "metadata": {
    "nbgrader": {
     "grade": true,
     "grade_id": "cell-86f7e5fef8b7d4dd",
     "locked": true,
     "points": 3,
     "schema_version": 3,
     "solution": false,
     "task": false
    }
   },
   "outputs": [],
   "source": [
    "# Check if your function works by executing the code below. \n",
    "# If the assert statements below DO NOT produce any errors, your code works on the test cases. \n",
    "\n",
    "assert run_counts([0, 1, 0, 1, 0, 0, 0, 1, 0, 1, 1, 0, 0])=={1:3,2:1}\n",
    "assert run_counts([1, 0, 0, 1, 1, 0, 1, 0, 0, 1, 0, 0, 0, 0, 1, 1, 1, 0, 1, 1, 0, 1]) == {1: 4, 2: 2, 3: 1}\n",
    "\n",
    "### BEGIN HIDDEN TESTS\n",
    "\"\"\"Check that function works as it is supposed to\"\"\"\n",
    "from nose.tools import assert_equal\n",
    "assert_equal(run_counts([1, 0, 0, 1, 1, 0, 1, 0, 0, 1, 0, 0, 0, 0, 1]),{1: 4, 2: 1})\n",
    "assert_equal(run_counts([1, 1, 0, 1, 1, 0, 1, 0, 1, 1, 0, 0, 1, 1, 1, 1, 1, 0, 0, 0, 0, 1, 0, 1, 0]),{2: 3, 1: 3, 5: 1})\n",
    "### END HIDDEN TESTS"
   ]
  },
  {
   "cell_type": "markdown",
   "metadata": {
    "nbgrader": {
     "grade": false,
     "grade_id": "cell-59f87a1d0eb2a98c",
     "locked": true,
     "schema_version": 3,
     "solution": false,
     "task": false
    }
   },
   "source": [
    "## Problem 1 (b)\n",
    "\n",
    "Continuing with the Bernoulli trials from the previous problem. We want to numerically estimate the probability to have at least one run of length 5 or longer for n=100 and p=0.5. Write code to estimate this probability with two after decimal digits of accuracy and report your result in form of a print statement of the following form: \n",
    "\"The estimated probability to see at least one run of length (run_length) in (n) trials with success probability (p) is (estimated_probability)\". Where you code should automatically supply the values of run_length, n, p, and the estimated_probability. "
   ]
  },
  {
   "cell_type": "code",
   "execution_count": 4,
   "metadata": {
    "nbgrader": {
     "grade": true,
     "grade_id": "cell-24926ec4f814a84e",
     "locked": false,
     "points": 2,
     "schema_version": 3,
     "solution": true,
     "task": false
    }
   },
   "outputs": [
    {
     "name": "stdout",
     "output_type": "stream",
     "text": [
      "The estimated probability to see at least one run of length 5 or longer in 100 trials with success probability 0.5 is: 0.81\n"
     ]
    }
   ],
   "source": [
    "random.seed(12)\n",
    "n=100           # length of sequence to be generated\n",
    "p=0.5           # success probability\n",
    "r=5             # run length\n",
    "m = 10000       # number of sequences to be generated\n",
    "long_run = []\n",
    "\n",
    "for i in range(m):\n",
    "    seq = random.choices([1, 0],[p,1-p],k=n)  # generate one Bernoulli sequence of length n\n",
    "    run_dict = run_counts(seq)                # count run lengths\n",
    "    run_dict = {key:value for (key,value) in run_dict.items() if key>=r} # identify all runs of length >r\n",
    "    long_run.append(sum(run_dict.values())>0)  \n",
    "        # checks if there is at least one run of length 5 or longer\n",
    "        # and appends the Boolean to the long_run list\n",
    "        \n",
    "print(\"The estimated probability to see at least one run of length\",r,\"or longer \\\n",
    "in\",n,\"trials with success probability\",p, \"is:\", round(sum(long_run)/m,2))"
   ]
  },
  {
   "cell_type": "markdown",
   "metadata": {
    "nbgrader": {
     "grade": false,
     "grade_id": "cell-fd9199e661b90b15",
     "locked": true,
     "schema_version": 3,
     "solution": false,
     "task": false
    }
   },
   "source": [
    "# Problem 1 (c) \n",
    "\n",
    "What is more likely - to see at least one run of length 5 or longer in 100 trials with p=0.5 or to see at least one run of length 7 or longer in 100 trials with p=0.7? Explain how you come to your conclusion. Justify any choices you make in your simulation code. "
   ]
  },
  {
   "cell_type": "code",
   "execution_count": 5,
   "metadata": {
    "nbgrader": {
     "grade": true,
     "grade_id": "cell-99194fcbaaef3c27",
     "locked": false,
     "points": 0,
     "schema_version": 3,
     "solution": true,
     "task": false
    }
   },
   "outputs": [
    {
     "name": "stdout",
     "output_type": "stream",
     "text": [
      "The estimated probability to see at least one run of length 7 or longer in 100 trials with success probability 0.7 is: 0.95\n"
     ]
    }
   ],
   "source": [
    "random.seed(12)\n",
    "n=100\n",
    "p=0.7\n",
    "r=7\n",
    "m = 10000\n",
    "long_run = []\n",
    "\n",
    "for i in range(m):\n",
    "    seq = random.choices([1, 0],[p,1-p],k=n) # generate one Bernoulli sequence of length n\n",
    "    run_dict = run_counts(seq)               # count run lengths\n",
    "    run_dict = {key:value for (key,value) in run_dict.items() if key>=r} # identify all runs of length >r\n",
    "    long_run.append(sum(run_dict.values())>0) \n",
    "        # checks if there is at least one run of length 5 or longer\n",
    "        # and appends the Boolean to the long_run list\n",
    "        \n",
    "print(\"The estimated probability to see at least one run of length\",r,\"or longer \\\n",
    "in\",n,\"trials with success probability\",p, \"is:\", round(sum(long_run)/m,2))\n",
    "### END SOLUTION"
   ]
  },
  {
   "cell_type": "markdown",
   "metadata": {
    "nbgrader": {
     "grade": true,
     "grade_id": "cell-2d53817c1f1588a8",
     "locked": false,
     "points": 1,
     "schema_version": 3,
     "solution": true,
     "task": false
    }
   },
   "source": [
    "Run the code a couple of times with reasonable large m (I used m=10,000) to see how much the results change across runs. If they change a lot, increase the value of m. Once you're satisfied that results are fairly stable run the code with (p=0.5 and r=5) as well as with (p=0.7 and r=7). The probability to see at least one run of length 5 in 100 Bernoulli's with p=0.5 is about 0.81. The probability to see at least one run of length 7 in 100 Bernoulli's with p=0.7 is about 0.95. Hence, the p=0.7 run of length 7 is more likely. "
   ]
  },
  {
   "cell_type": "markdown",
   "metadata": {
    "nbgrader": {
     "grade": false,
     "grade_id": "cell-fabf9e8053e019e3",
     "locked": true,
     "schema_version": 3,
     "solution": false,
     "task": false
    }
   },
   "source": [
    "## Problem 2\n",
    "\n",
    "A stick of length 1 is broken randomly along its length into two pieces. This means that the break point is a Uniform(0,1) random variable. What is the probability that the longer piece is more than twice as long as the shorter piece? \n",
    "\n",
    "a) Write a simulation that approximates the answer to this problem to two after decimal digit accuracy. \n",
    "\n",
    "**Note:** you should *not* use your knowledge of the theoretical answer in your simulation. That defies the purpose of a simulation. Simulate a uniform random variable to represent the break-point, instead. And actually compare the length of the \"pieces\" in your code. "
   ]
  },
  {
   "cell_type": "code",
   "execution_count": 6,
   "metadata": {
    "nbgrader": {
     "grade": true,
     "grade_id": "cell-eedec05f0fd650d1",
     "locked": false,
     "points": 3,
     "schema_version": 3,
     "solution": true,
     "task": false
    }
   },
   "outputs": [
    {
     "name": "stdout",
     "output_type": "stream",
     "text": [
      "The simulated value of the probability that the longer piece is at least twice as longas the shorter piece is 0.67\n"
     ]
    }
   ],
   "source": [
    "### BEGIN SOLUTION \n",
    "import random as random \n",
    "#random.seed(10)\n",
    "n=100000\n",
    "prob = []\n",
    "\n",
    "for i in range(n):\n",
    "    bp = random.uniform(0,1) # generate break-point\n",
    "    pieces = [bp, 1-bp]\n",
    "    prob.append(max(pieces)>2*min(pieces))\n",
    "    \n",
    "print(\"The simulated value of the probability \\\n",
    "that the longer piece is at least twice as long\\\n",
    "as the shorter piece is\", round(sum(prob)/n,2))"
   ]
  },
  {
   "cell_type": "markdown",
   "metadata": {
    "nbgrader": {
     "grade": false,
     "grade_id": "cell-2f66d1f68f4a942a",
     "locked": true,
     "schema_version": 3,
     "solution": false,
     "task": false
    }
   },
   "source": [
    "b) Find the actual theoretical answer (using your Math 161A probability knowledge). Provide a short explanation for how you derive your answer. "
   ]
  },
  {
   "cell_type": "markdown",
   "metadata": {
    "nbgrader": {
     "grade": true,
     "grade_id": "cell-b03e8954539eddc8",
     "locked": false,
     "points": 1,
     "schema_version": 3,
     "solution": true,
     "task": false
    }
   },
   "source": [
    "To have the longer piece be at least twice as long as the shorter piece, the break-point has to lie either in the interval $[0,1/3)$ - in which case the long piece will be on the right, or the break point has to be in the interval $(2/3,1]$ in which case the long piece is on the left. The probability that a uniform(0,1) random variable falls into an interval $(a,b) \\subset [0,1]$ is $b-a$. Hence, the probability that the break-point falls into either interval above is $\\frac{1}{3} + \\frac{1}{3} = \\frac{2}{3}$."
   ]
  },
  {
   "cell_type": "markdown",
   "metadata": {},
   "source": [
    "## Problem 3\n",
    "\n",
    "Use the random package to simulate rolling five fair, six-sided dice. We'll call the result a \"full house\" if two and three of the dice, respectively show the same face. Example: 2,4,2,4,4 is a full house. 5,5,5,5,5 is not a full house. "
   ]
  },
  {
   "cell_type": "markdown",
   "metadata": {},
   "source": [
    "(a) Using your Math 161A knowledge, find the theoretical probability of obtaining a \"full house\", when rolling five fair, six-sided dice. Show your work in deriving your answer. \n",
    "\n",
    "Hint: Latex notation for combinations is \"\\binom{n}{k}\" to produce $\\binom{n}{k}$. Wrap Latex math code in dollar symbols (\\$) to compile it. "
   ]
  },
  {
   "cell_type": "markdown",
   "metadata": {
    "nbgrader": {
     "grade": true,
     "grade_id": "cell-c185f3c9fb9b3cb9",
     "locked": false,
     "points": 1,
     "schema_version": 3,
     "solution": true,
     "task": false
    }
   },
   "source": [
    "Since all dice are fair, all possible outcomes are equally likely. In this case, to compute a probability, you could count favorables (number of different ways in which you can make a \"full house\") and possibles (number of different ways in which you can toss five dice). There are $6^5$ different ways to toss five six-sided dice (we're making order of the dice matter, here) and there are $6\\binom{5}{3}5\\binom{2}{2}$ ways to create \"full houses\". That's because you have six choices for the number that appears three times (and then $\\binom{5}{3}$ choices of where to put these numbers - remember that order mattters) and then you have 5 choices (you can't pick the number that was already picked) to fill in the remaining two empty slots. Hence \n",
    "\n",
    "$$ \\mbox{Full House} = \\frac{6\\binom{5}{3}5}{6^5} = \\frac{300}{7776} = 0.0386$$"
   ]
  },
  {
   "cell_type": "markdown",
   "metadata": {
    "nbgrader": {
     "grade": false,
     "grade_id": "cell-55038c0b55e4c0df",
     "locked": true,
     "schema_version": 3,
     "solution": false,
     "task": false
    }
   },
   "source": [
    "(b) Write a function (named \"count_rolls()\") that takes the result of simulating rolling five fair, six-sided dice and returns a dictionary that keeps track of how often each number appeared.\n",
    "\n",
    "Example: If the rolls were 4,3,4,2,5 then your dictionary could be {4: 2, 3: 1, 2: 1, 5: 1}. I do not care about the order in which the keys appear in the dictionary. An equally good answer would be {2:1, 3:1, 4:2, 5:1}, for example."
   ]
  },
  {
   "cell_type": "code",
   "execution_count": 7,
   "metadata": {
    "nbgrader": {
     "grade": false,
     "grade_id": "cell-358bc28873f8d117",
     "locked": false,
     "schema_version": 3,
     "solution": true,
     "task": false
    }
   },
   "outputs": [
    {
     "name": "stdout",
     "output_type": "stream",
     "text": [
      "[4, 3, 4, 2, 5]\n"
     ]
    }
   ],
   "source": [
    "import random \n",
    "random.seed(10)                               # feel free to change or remove random seed\n",
    "                                              # this random seed corresponds to the example described above. \n",
    "\n",
    "result = random.choices(range(1,7),[1]*6,k=5) # simulate five die rolls\n",
    "print(result)                                 # look at the rolls (feel free to delete later)\n",
    "\n",
    "def count_rolls(result):\n",
    "    \n",
    "    counts = {}                                 # make empty dictionary\n",
    "    # the rolls will be the keys and their counts will be the values\n",
    "    for roll in result:                         # iterate over all five rolls\n",
    "        counts[roll] = counts.get(roll,0) + 1   # increase count of each roll you come across by 1\n",
    "    \n",
    "    return counts"
   ]
  },
  {
   "cell_type": "code",
   "execution_count": 8,
   "metadata": {
    "nbgrader": {
     "grade": true,
     "grade_id": "cell-df2878ab73ef6163",
     "locked": true,
     "points": 2,
     "schema_version": 3,
     "solution": false,
     "task": false
    }
   },
   "outputs": [],
   "source": [
    "# Check if your function works by executing the code below. \n",
    "# If the assert statements below DO NOT produce any errors, your code works on the test cases. \n",
    "\n",
    "assert count_rolls([4, 3, 4, 2, 5]) == {4: 2, 3: 1, 2: 1, 5: 1}\n",
    "assert count_rolls([3, 4, 6, 3, 4]) == {3: 2, 4: 2, 6: 1}\n",
    "\n",
    "### BEGIN HIDDEN TESTS\n",
    "\"\"\"Check that function works as it is supposed to\"\"\"\n",
    "from nose.tools import assert_equal\n",
    "assert count_rolls([4, 5, 6, 2, 1]) == {4: 1, 5: 1, 6: 1, 2: 1, 1: 1}\n",
    "assert count_rolls([4, 2, 1, 1, 4]) == {4: 2, 2: 1, 1: 2}\n",
    "assert count_rolls([5, 3, 2, 2, 5]) == {5: 2, 3: 1, 2: 2}\n",
    "### END HIDDEN TESTS"
   ]
  },
  {
   "cell_type": "markdown",
   "metadata": {
    "nbgrader": {
     "grade": false,
     "grade_id": "cell-e9fd447349b1283c",
     "locked": true,
     "schema_version": 3,
     "solution": false,
     "task": false
    }
   },
   "source": [
    "(c) Simulate rolling five fair, six-sided dice n=10,000 times. Use your simulation results to estimate the probability of a full house with three after decimal digits accuracy. "
   ]
  },
  {
   "cell_type": "code",
   "execution_count": 9,
   "metadata": {
    "nbgrader": {
     "grade": true,
     "grade_id": "cell-deb5efb0ac393d4d",
     "locked": false,
     "points": 2,
     "schema_version": 3,
     "solution": true,
     "task": false
    }
   },
   "outputs": [
    {
     "name": "stdout",
     "output_type": "stream",
     "text": [
      "The probability of a full house is estimated to be  0.038\n"
     ]
    }
   ],
   "source": [
    "import random \n",
    "random.seed(10)\n",
    "n=10000\n",
    "full_house = []\n",
    "\n",
    "for i in range(n):\n",
    "    result = random.choices(range(1,7),[1]*6,k=5)    # simulate five rolls\n",
    "    counts = count_rolls(result)                     # count how often each number appears\n",
    "    full_house.append(set(counts.values()) == {2,3}) # check whether result is full house and save Boolean\n",
    "    \n",
    "print(\"The probability of a full house is estimated to be \", round(sum(full_house)/n,3))"
   ]
  },
  {
   "cell_type": "markdown",
   "metadata": {
    "nbgrader": {
     "grade": false,
     "grade_id": "cell-e042be5229002282",
     "locked": true,
     "schema_version": 3,
     "solution": false,
     "task": false
    }
   },
   "source": [
    "## Problem 4\n",
    "\n",
    "Consider the (uncommented) mystery function defined below whose input d is a dictionary. Assume that all of the keys of the input dictionary are strings and all values of the input dictionary are integers. "
   ]
  },
  {
   "cell_type": "code",
   "execution_count": 10,
   "metadata": {
    "nbgrader": {
     "grade": false,
     "grade_id": "cell-df926812685b4223",
     "locked": true,
     "schema_version": 3,
     "solution": false,
     "task": false
    }
   },
   "outputs": [],
   "source": [
    "def mystery(d):\n",
    "    r = len(d)\n",
    "    val = list(d.values())\n",
    "    keys = list(d.keys())\n",
    "\n",
    "    zeroes= []\n",
    "    for i in range(r):\n",
    "        if not val[i]:\n",
    "            zeroes.append(i)\n",
    "\n",
    "    for zero in zeroes:\n",
    "        del d[keys[zero]]\n",
    "    \n",
    "    r = len(d)\n",
    "    val = list(d.values())\n",
    "    keys = list(d.keys())\n",
    "    dd = {}\n",
    "\n",
    "    for i in range(r):\n",
    "        if val[i]//2 == val[i]/2:\n",
    "            keys[i] = keys[i].upper()\n",
    "        else:\n",
    "            keys[i] = keys[i].lower()\n",
    "\n",
    "        dd[keys[i]] = val[i]\n",
    "    \n",
    "    return dd"
   ]
  },
  {
   "cell_type": "markdown",
   "metadata": {
    "nbgrader": {
     "grade": false,
     "grade_id": "cell-2388f7af6e413d80",
     "locked": true,
     "schema_version": 3,
     "solution": false,
     "task": false
    }
   },
   "source": [
    "(a) Summarize what the mystery function does in a few short succinct English sentences. A line-by-line translation of Python code into English is *not* a succinct summary. "
   ]
  },
  {
   "cell_type": "markdown",
   "metadata": {
    "nbgrader": {
     "grade": true,
     "grade_id": "cell-1c23f3637a563602",
     "locked": false,
     "points": 2,
     "schema_version": 3,
     "solution": true,
     "task": false
    }
   },
   "source": [
    "Key-value pairs for which the value is zero are removed from the dictionary. Keys with even values are made all upper case. Keys with odd values are made all lower case. "
   ]
  },
  {
   "cell_type": "markdown",
   "metadata": {
    "nbgrader": {
     "grade": false,
     "grade_id": "cell-8fb1b3f33f7bf303",
     "locked": true,
     "schema_version": 3,
     "solution": false,
     "task": false
    }
   },
   "source": [
    "(b) Define an input dictionary d below of length at least 5, so that the input d is not identical to mystery(d) and so that mystery(d) is exactly `{'AAA': 4, 'bb':9, 'CCC':20}`"
   ]
  },
  {
   "cell_type": "code",
   "execution_count": 11,
   "metadata": {
    "nbgrader": {
     "grade": true,
     "grade_id": "cell-a539720e981dd776",
     "locked": false,
     "points": 1,
     "schema_version": 3,
     "solution": true,
     "task": false
    }
   },
   "outputs": [
    {
     "name": "stdout",
     "output_type": "stream",
     "text": [
      "True\n",
      "True\n",
      "True\n"
     ]
    }
   ],
   "source": [
    "d = {'aAa':4, 'Bb': 9, 'ccC': 20, 'D':0, 'e': 0}\n",
    "\n",
    "# Fill in the dictionary d above with keys and values so that the three statements below all evaluate to True. \n",
    "print(len(d) >= 5)\n",
    "print(mystery(d) != d)\n",
    "print(mystery(d) == {'AAA': 4, 'bb':9, 'CCC':20})"
   ]
  },
  {
   "cell_type": "markdown",
   "metadata": {
    "nbgrader": {
     "grade": false,
     "grade_id": "cell-e9fbeb2796f9d9a6",
     "locked": true,
     "schema_version": 3,
     "solution": false,
     "task": false
    }
   },
   "source": [
    "(c) Instead of the complicated code used to define the mystery function above, write a one-line dictionary comprehension statement that achieves the same effect when applied to a dictionary `d` that has string keys and integer values.  "
   ]
  },
  {
   "cell_type": "code",
   "execution_count": 12,
   "metadata": {
    "nbgrader": {
     "grade": true,
     "grade_id": "cell-df433bce48997a2d",
     "locked": false,
     "points": 2,
     "schema_version": 3,
     "solution": true,
     "task": false
    }
   },
   "outputs": [
    {
     "data": {
      "text/plain": [
       "{'AAA': 4, 'bb': 9, 'CCC': 20}"
      ]
     },
     "execution_count": 12,
     "metadata": {},
     "output_type": "execute_result"
    }
   ],
   "source": [
    "# using the same d defined in part (b) \n",
    "\n",
    "{k.upper() if v//2 == v/2 else k.lower():v for (k,v) in d.items() if v !=0}"
   ]
  }
 ],
 "metadata": {
  "celltoolbar": "Create Assignment",
  "kernelspec": {
   "display_name": "Python 3",
   "language": "python",
   "name": "python3"
  },
  "language_info": {
   "codemirror_mode": {
    "name": "ipython",
    "version": 3
   },
   "file_extension": ".py",
   "mimetype": "text/x-python",
   "name": "python",
   "nbconvert_exporter": "python",
   "pygments_lexer": "ipython3",
   "version": "3.8.8"
  }
 },
 "nbformat": 4,
 "nbformat_minor": 2
}
