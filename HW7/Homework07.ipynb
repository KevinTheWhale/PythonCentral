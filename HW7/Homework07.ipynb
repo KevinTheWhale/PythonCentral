{
 "cells": [
  {
   "cell_type": "markdown",
   "metadata": {},
   "source": [
    "Before you turn this homework in, make sure everything runs as expected. First, **restart the kernel** and then **run all cells** (in the menubar, select Kernel$\\rightarrow$Restart \\& Run all). If you get error messages, the grader will get the same errors and won't be able to grade your work. \n",
    "\n",
    "Make sure you fill in any place that says `YOUR CODE HERE` or \"YOUR ANSWER HERE\". You may delete the line(s) that say \"**raise** NotImplementedError()\" and replace them with your actual work. Write all your work in the cells provided in this notebook. **DO NOT** add or delete any cells. \n",
    "\n",
    "Please fill in your name in the cell below."
   ]
  },
  {
   "cell_type": "code",
   "execution_count": null,
   "metadata": {},
   "outputs": [],
   "source": [
    "NAME = \"Kevin Pham\""
   ]
  },
  {
   "cell_type": "markdown",
   "metadata": {},
   "source": [
    "---"
   ]
  },
  {
   "cell_type": "markdown",
   "metadata": {
    "deletable": false,
    "editable": false,
    "nbgrader": {
     "cell_type": "markdown",
     "checksum": "61f484de974d664d8e5af8c078d0bae0",
     "grade": false,
     "grade_id": "cell-13b6f13920352efb",
     "locked": true,
     "schema_version": 3,
     "solution": false,
     "task": false
    }
   },
   "source": [
    "# Homework 7\n",
    "\n",
    "**Disclaimer:** For this assignment, there are some things that you are asked to do that we have not explicitly done in class. \n",
    "For example, you will be asked to modify figures in Matplotlib in new ways. Please use your favorite search engine to look up how to do these things. Realistically, when you use Python in your jobs in the future you will be spending a significant portion of your time to look up new things. And it's never too early to practice that skill. \n",
    "\n",
    "## Problem\n",
    "\n",
    "You can find the data files \"Mouse_metadata.csv\" and \"Study_results.csv\" which you will need for this homework on Canvas. You are being asked to create several graphs in this HW. You can find examples of what your graphs are suppose to look like in the additional graph document you can find on Canvas. \n",
    "\n",
    "In a pharmaceutical study, 249 mice identified with squamous cell carcinoma (skin cancer) tumor growth were treated with a variety of drug regimens. Over the course of 45 days, tumor development was observed and measured. The scientists measured the tumor growth over time (volume in $mm^3$) and the number of metastatic sites. The purpose of the study was to compare the performace of the new drug \"Capomulin\" to several other existing drug regimens. \n",
    "\n",
    "Begin by loading the two data sets into Pandas as data frames. "
   ]
  },
  {
   "cell_type": "code",
   "execution_count": 293,
   "metadata": {
    "deletable": false,
    "nbgrader": {
     "cell_type": "code",
     "checksum": "51e823439f7b5999fd41cfc3aaca9744",
     "grade": true,
     "grade_id": "cell-a0a286a56cdbaeea",
     "locked": false,
     "points": 0,
     "schema_version": 3,
     "solution": true,
     "task": false
    }
   },
   "outputs": [
    {
     "data": {
      "text/html": [
       "<div>\n",
       "<style scoped>\n",
       "    .dataframe tbody tr th:only-of-type {\n",
       "        vertical-align: middle;\n",
       "    }\n",
       "\n",
       "    .dataframe tbody tr th {\n",
       "        vertical-align: top;\n",
       "    }\n",
       "\n",
       "    .dataframe thead th {\n",
       "        text-align: right;\n",
       "    }\n",
       "</style>\n",
       "<table border=\"1\" class=\"dataframe\">\n",
       "  <thead>\n",
       "    <tr style=\"text-align: right;\">\n",
       "      <th></th>\n",
       "      <th>Mouse ID</th>\n",
       "      <th>Drug Regimen</th>\n",
       "      <th>Sex</th>\n",
       "      <th>Age_months</th>\n",
       "      <th>Weight (g)</th>\n",
       "    </tr>\n",
       "  </thead>\n",
       "  <tbody>\n",
       "    <tr>\n",
       "      <th>0</th>\n",
       "      <td>s185</td>\n",
       "      <td>Capomulin</td>\n",
       "      <td>Female</td>\n",
       "      <td>3</td>\n",
       "      <td>17</td>\n",
       "    </tr>\n",
       "    <tr>\n",
       "      <th>1</th>\n",
       "      <td>x401</td>\n",
       "      <td>Capomulin</td>\n",
       "      <td>Female</td>\n",
       "      <td>16</td>\n",
       "      <td>15</td>\n",
       "    </tr>\n",
       "    <tr>\n",
       "      <th>2</th>\n",
       "      <td>m601</td>\n",
       "      <td>Capomulin</td>\n",
       "      <td>Male</td>\n",
       "      <td>22</td>\n",
       "      <td>17</td>\n",
       "    </tr>\n",
       "    <tr>\n",
       "      <th>3</th>\n",
       "      <td>f966</td>\n",
       "      <td>Capomulin</td>\n",
       "      <td>Male</td>\n",
       "      <td>16</td>\n",
       "      <td>17</td>\n",
       "    </tr>\n",
       "    <tr>\n",
       "      <th>4</th>\n",
       "      <td>u364</td>\n",
       "      <td>Capomulin</td>\n",
       "      <td>Male</td>\n",
       "      <td>18</td>\n",
       "      <td>17</td>\n",
       "    </tr>\n",
       "    <tr>\n",
       "      <th>...</th>\n",
       "      <td>...</td>\n",
       "      <td>...</td>\n",
       "      <td>...</td>\n",
       "      <td>...</td>\n",
       "      <td>...</td>\n",
       "    </tr>\n",
       "    <tr>\n",
       "      <th>244</th>\n",
       "      <td>q633</td>\n",
       "      <td>Zoniferol</td>\n",
       "      <td>Male</td>\n",
       "      <td>12</td>\n",
       "      <td>25</td>\n",
       "    </tr>\n",
       "    <tr>\n",
       "      <th>245</th>\n",
       "      <td>s337</td>\n",
       "      <td>Zoniferol</td>\n",
       "      <td>Male</td>\n",
       "      <td>14</td>\n",
       "      <td>27</td>\n",
       "    </tr>\n",
       "    <tr>\n",
       "      <th>246</th>\n",
       "      <td>w140</td>\n",
       "      <td>Zoniferol</td>\n",
       "      <td>Female</td>\n",
       "      <td>19</td>\n",
       "      <td>30</td>\n",
       "    </tr>\n",
       "    <tr>\n",
       "      <th>247</th>\n",
       "      <td>w575</td>\n",
       "      <td>Zoniferol</td>\n",
       "      <td>Female</td>\n",
       "      <td>16</td>\n",
       "      <td>28</td>\n",
       "    </tr>\n",
       "    <tr>\n",
       "      <th>248</th>\n",
       "      <td>x613</td>\n",
       "      <td>Zoniferol</td>\n",
       "      <td>Female</td>\n",
       "      <td>2</td>\n",
       "      <td>29</td>\n",
       "    </tr>\n",
       "  </tbody>\n",
       "</table>\n",
       "<p>249 rows × 5 columns</p>\n",
       "</div>"
      ],
      "text/plain": [
       "    Mouse ID Drug Regimen     Sex  Age_months  Weight (g)\n",
       "0       s185    Capomulin  Female           3          17\n",
       "1       x401    Capomulin  Female          16          15\n",
       "2       m601    Capomulin    Male          22          17\n",
       "3       f966    Capomulin    Male          16          17\n",
       "4       u364    Capomulin    Male          18          17\n",
       "..       ...          ...     ...         ...         ...\n",
       "244     q633    Zoniferol    Male          12          25\n",
       "245     s337    Zoniferol    Male          14          27\n",
       "246     w140    Zoniferol  Female          19          30\n",
       "247     w575    Zoniferol  Female          16          28\n",
       "248     x613    Zoniferol  Female           2          29\n",
       "\n",
       "[249 rows x 5 columns]"
      ]
     },
     "metadata": {},
     "output_type": "display_data"
    },
    {
     "data": {
      "text/html": [
       "<div>\n",
       "<style scoped>\n",
       "    .dataframe tbody tr th:only-of-type {\n",
       "        vertical-align: middle;\n",
       "    }\n",
       "\n",
       "    .dataframe tbody tr th {\n",
       "        vertical-align: top;\n",
       "    }\n",
       "\n",
       "    .dataframe thead th {\n",
       "        text-align: right;\n",
       "    }\n",
       "</style>\n",
       "<table border=\"1\" class=\"dataframe\">\n",
       "  <thead>\n",
       "    <tr style=\"text-align: right;\">\n",
       "      <th></th>\n",
       "      <th>Mouse ID</th>\n",
       "      <th>Timepoint</th>\n",
       "      <th>Tumor Volume (mm3)</th>\n",
       "      <th>Metastatic Sites</th>\n",
       "    </tr>\n",
       "  </thead>\n",
       "  <tbody>\n",
       "    <tr>\n",
       "      <th>0</th>\n",
       "      <td>a203</td>\n",
       "      <td>0</td>\n",
       "      <td>45.000000</td>\n",
       "      <td>0</td>\n",
       "    </tr>\n",
       "    <tr>\n",
       "      <th>1</th>\n",
       "      <td>a203</td>\n",
       "      <td>5</td>\n",
       "      <td>48.508468</td>\n",
       "      <td>0</td>\n",
       "    </tr>\n",
       "    <tr>\n",
       "      <th>2</th>\n",
       "      <td>a203</td>\n",
       "      <td>10</td>\n",
       "      <td>51.852437</td>\n",
       "      <td>1</td>\n",
       "    </tr>\n",
       "    <tr>\n",
       "      <th>3</th>\n",
       "      <td>a203</td>\n",
       "      <td>15</td>\n",
       "      <td>52.777870</td>\n",
       "      <td>1</td>\n",
       "    </tr>\n",
       "    <tr>\n",
       "      <th>4</th>\n",
       "      <td>a203</td>\n",
       "      <td>20</td>\n",
       "      <td>55.173336</td>\n",
       "      <td>1</td>\n",
       "    </tr>\n",
       "    <tr>\n",
       "      <th>...</th>\n",
       "      <td>...</td>\n",
       "      <td>...</td>\n",
       "      <td>...</td>\n",
       "      <td>...</td>\n",
       "    </tr>\n",
       "    <tr>\n",
       "      <th>1882</th>\n",
       "      <td>z969</td>\n",
       "      <td>25</td>\n",
       "      <td>63.145652</td>\n",
       "      <td>2</td>\n",
       "    </tr>\n",
       "    <tr>\n",
       "      <th>1883</th>\n",
       "      <td>z969</td>\n",
       "      <td>30</td>\n",
       "      <td>65.841013</td>\n",
       "      <td>3</td>\n",
       "    </tr>\n",
       "    <tr>\n",
       "      <th>1884</th>\n",
       "      <td>z969</td>\n",
       "      <td>35</td>\n",
       "      <td>69.176246</td>\n",
       "      <td>4</td>\n",
       "    </tr>\n",
       "    <tr>\n",
       "      <th>1885</th>\n",
       "      <td>z969</td>\n",
       "      <td>40</td>\n",
       "      <td>70.314904</td>\n",
       "      <td>4</td>\n",
       "    </tr>\n",
       "    <tr>\n",
       "      <th>1886</th>\n",
       "      <td>z969</td>\n",
       "      <td>45</td>\n",
       "      <td>73.867845</td>\n",
       "      <td>4</td>\n",
       "    </tr>\n",
       "  </tbody>\n",
       "</table>\n",
       "<p>1887 rows × 4 columns</p>\n",
       "</div>"
      ],
      "text/plain": [
       "     Mouse ID  Timepoint  Tumor Volume (mm3)  Metastatic Sites\n",
       "0        a203          0           45.000000                 0\n",
       "1        a203          5           48.508468                 0\n",
       "2        a203         10           51.852437                 1\n",
       "3        a203         15           52.777870                 1\n",
       "4        a203         20           55.173336                 1\n",
       "...       ...        ...                 ...               ...\n",
       "1882     z969         25           63.145652                 2\n",
       "1883     z969         30           65.841013                 3\n",
       "1884     z969         35           69.176246                 4\n",
       "1885     z969         40           70.314904                 4\n",
       "1886     z969         45           73.867845                 4\n",
       "\n",
       "[1887 rows x 4 columns]"
      ]
     },
     "metadata": {},
     "output_type": "display_data"
    },
    {
     "data": {
      "text/plain": [
       "Index(['Mouse ID', 'Timepoint', 'Tumor Volume (mm3)', 'Metastatic Sites'], dtype='object')"
      ]
     },
     "execution_count": 293,
     "metadata": {},
     "output_type": "execute_result"
    }
   ],
   "source": [
    "# COMPLETE\n",
    "# YOUR CODE HERE\n",
    "# queue in appropriate libraries\n",
    "import pandas as pd\n",
    "import matplotlib as mp\n",
    "import matplotlib.pyplot as plt\n",
    "\n",
    "# queue in data\n",
    "meta_df = pd.read_csv(\"Mouse_metadata.csv\")\n",
    "result_df = pd.read_csv( \"Study_results.csv\")\n",
    "display(meta_df)\n",
    "display(result_df)\n",
    "\n",
    "meta_df.columns # show just the columns of the meta data\n",
    "result_df.columns # show just the colunms of the result data\n",
    "# raise NotImplementedError()"
   ]
  },
  {
   "cell_type": "markdown",
   "metadata": {
    "deletable": false,
    "editable": false,
    "nbgrader": {
     "cell_type": "markdown",
     "checksum": "7c62650d25c13bd618a032d02dc71f11",
     "grade": false,
     "grade_id": "cell-256587c1c7a51cbb",
     "locked": true,
     "schema_version": 3,
     "solution": false,
     "task": false
    }
   },
   "source": [
    "(a) Describe the two data files. How many rows and columns are in each file? What variables are in the columns? What is in the rows? What is the Pandas index currently used? Do the two files have any common columns?"
   ]
  },
  {
   "cell_type": "markdown",
   "metadata": {
    "deletable": false,
    "nbgrader": {
     "cell_type": "markdown",
     "checksum": "508c96358887a74ebabac764e167bbb4",
     "grade": true,
     "grade_id": "cell-003dd665be18ca95",
     "locked": false,
     "points": 1,
     "schema_version": 3,
     "solution": true,
     "task": false
    }
   },
   "source": [
    "For the 'Mouse Metadata' we have 249 rows with 5 columns with the following column variables: Mouse ID, Drug Regimen, Sex, Age_months, and Weight (g). Each row represents a unique entry per mouse. The current index is just the default indices starting with 0 and ending with 248.\n",
    "\n",
    "For the 'Study_results' we have 1887 rows with 4 columns with the following column variables: Mouse ID, Timepoint, Tumor Volume (mm3), and Metastatic Sites. Each row per up to 10 total rows shows incremented Timepoint results to 'Tumor Volume (mm3)' per each unique 'Mouse ID'. The current index is using the default indices\n",
    "\n",
    "Between the two files, there are no common columns."
   ]
  },
  {
   "cell_type": "markdown",
   "metadata": {
    "deletable": false,
    "editable": false,
    "nbgrader": {
     "cell_type": "markdown",
     "checksum": "fe1e721463c16f05b3c86dcda2f3b32f",
     "grade": false,
     "grade_id": "cell-58bdc12dfe4d0b35",
     "locked": true,
     "schema_version": 3,
     "solution": false,
     "task": false
    }
   },
   "source": [
    "(b) Write Pandas code to find the number of male and female mice that were subjected to each drug regimen. Save the results as a Pandas data frame with the names of the drugs as the index and two columns (one for male, one for female). The two columns should contain the counts of individuals subjected to each drug regimen. Display your resulting data frame to the console so that the grader can see it. "
   ]
  },
  {
   "cell_type": "code",
   "execution_count": 138,
   "metadata": {
    "deletable": false,
    "nbgrader": {
     "cell_type": "code",
     "checksum": "f5dde786612b72300e2b5ad69cd0ed9c",
     "grade": true,
     "grade_id": "cell-da0e011044c79db0",
     "locked": false,
     "points": 2,
     "schema_version": 3,
     "solution": true,
     "task": false
    }
   },
   "outputs": [
    {
     "data": {
      "text/html": [
       "<div>\n",
       "<style scoped>\n",
       "    .dataframe tbody tr th:only-of-type {\n",
       "        vertical-align: middle;\n",
       "    }\n",
       "\n",
       "    .dataframe tbody tr th {\n",
       "        vertical-align: top;\n",
       "    }\n",
       "\n",
       "    .dataframe thead th {\n",
       "        text-align: right;\n",
       "    }\n",
       "</style>\n",
       "<table border=\"1\" class=\"dataframe\">\n",
       "  <thead>\n",
       "    <tr style=\"text-align: right;\">\n",
       "      <th></th>\n",
       "      <th>Male</th>\n",
       "      <th>Female</th>\n",
       "    </tr>\n",
       "  </thead>\n",
       "  <tbody>\n",
       "    <tr>\n",
       "      <th>Propriva</th>\n",
       "      <td>13</td>\n",
       "      <td>12</td>\n",
       "    </tr>\n",
       "    <tr>\n",
       "      <th>Infubinol</th>\n",
       "      <td>13</td>\n",
       "      <td>12</td>\n",
       "    </tr>\n",
       "    <tr>\n",
       "      <th>Naftisol</th>\n",
       "      <td>12</td>\n",
       "      <td>13</td>\n",
       "    </tr>\n",
       "    <tr>\n",
       "      <th>Ceftamin</th>\n",
       "      <td>12</td>\n",
       "      <td>13</td>\n",
       "    </tr>\n",
       "    <tr>\n",
       "      <th>Ketapril</th>\n",
       "      <td>16</td>\n",
       "      <td>9</td>\n",
       "    </tr>\n",
       "    <tr>\n",
       "      <th>Ramicane</th>\n",
       "      <td>16</td>\n",
       "      <td>9</td>\n",
       "    </tr>\n",
       "    <tr>\n",
       "      <th>Stelasyn</th>\n",
       "      <td>9</td>\n",
       "      <td>15</td>\n",
       "    </tr>\n",
       "    <tr>\n",
       "      <th>Capomulin</th>\n",
       "      <td>12</td>\n",
       "      <td>13</td>\n",
       "    </tr>\n",
       "    <tr>\n",
       "      <th>Placebo</th>\n",
       "      <td>12</td>\n",
       "      <td>13</td>\n",
       "    </tr>\n",
       "    <tr>\n",
       "      <th>Zoniferol</th>\n",
       "      <td>10</td>\n",
       "      <td>15</td>\n",
       "    </tr>\n",
       "  </tbody>\n",
       "</table>\n",
       "</div>"
      ],
      "text/plain": [
       "           Male  Female\n",
       "Propriva     13      12\n",
       "Infubinol    13      12\n",
       "Naftisol     12      13\n",
       "Ceftamin     12      13\n",
       "Ketapril     16       9\n",
       "Ramicane     16       9\n",
       "Stelasyn      9      15\n",
       "Capomulin    12      13\n",
       "Placebo      12      13\n",
       "Zoniferol    10      15"
      ]
     },
     "metadata": {},
     "output_type": "display_data"
    }
   ],
   "source": [
    "# COMPLETE\n",
    "# YOUR CODE HERE\n",
    "# Find number of male and female mice that were subjected to each regimen\n",
    "\n",
    "# indices = Drug Regimen\n",
    "meta_df.set_index('Drug Regimen', inplace = True)\n",
    "# empty list to collect the counts of each drug regimen for each sex\n",
    "male = []\n",
    "female = []\n",
    "\n",
    "\n",
    "for i in set(meta_df.index): # traverse through each treatment\n",
    "    male.append(len(meta_df[meta_df['Sex'] == 'Male'].loc[i])) # append each count of each treatment for males by finding length of their sliced dataframe\n",
    "    female.append(len(meta_df[meta_df['Sex'] == 'Female'].loc[i])) # append each count of each treatment for females by finding length of their sliced dataframe\n",
    "\n",
    "new = pd.DataFrame({\"Male\": male, \"Female\": female}, index = set(meta_df.index)) # queue into new dataframe with modified indices being the 'Drug Regimen'\n",
    "display(new) # display it\n",
    "\n",
    "\n",
    "\n",
    "\n",
    "# raise NotImplementedError()"
   ]
  },
  {
   "cell_type": "markdown",
   "metadata": {
    "deletable": false,
    "editable": false,
    "nbgrader": {
     "cell_type": "markdown",
     "checksum": "827ee539bf2335e673c323ac71ef6603",
     "grade": false,
     "grade_id": "cell-0c1365ae75cd6a55",
     "locked": true,
     "schema_version": 3,
     "solution": false,
     "task": false
    }
   },
   "source": [
    "(c) Use Matplotlib to create a side-by-side bar plot that shows the numbers of males and females under each drug regimen. Make sure to label your plot (label the bar groups with the names of the drugs, create a legend, label the y-axis and title your plot). Use different colors for males (blue) and females (red). Look up how to rotate axis lables (to make all the drug names readable). "
   ]
  },
  {
   "cell_type": "code",
   "execution_count": 166,
   "metadata": {
    "deletable": false,
    "nbgrader": {
     "cell_type": "code",
     "checksum": "6766c6e525a6e38b408af67e096f1961",
     "grade": true,
     "grade_id": "cell-cad4f3f4e7b29187",
     "locked": false,
     "points": 3,
     "schema_version": 3,
     "solution": true,
     "task": false
    }
   },
   "outputs": [
    {
     "data": {
      "image/png": "[encoded data removed]",
      "text/plain": [
       "<Figure size 720x360 with 1 Axes>"
      ]
     },
     "metadata": {
      "needs_background": "light"
     },
     "output_type": "display_data"
    }
   ],
   "source": [
    "# COMPLETE\n",
    "# YOUR CODE HERE\n",
    "x_pos = range(len(male)); # spacing between each unique drug\n",
    "\n",
    "# apply graph cosmetics\n",
    "\n",
    "plt.figure(figsize = (10,5)); # predetermined shape for the bar graph\n",
    "plt.bar(x_pos, male, width = -0.3, align = 'edge', label='Male', color = 'blue'); # graph the males\n",
    "plt.bar(x_pos, female, width = 0.3, align = 'edge', label='Female', color = 'red'); # graph the females\n",
    "\n",
    "plt.ylabel('Count'); # y-axis labels\n",
    "plt.xlabel('Drug Regimen'); # x-axis labels\n",
    "plt.title('Drug Regimen Count'); # add a title\n",
    "plt.legend(); # add a legend\n",
    "\n",
    "plt.xticks(x_pos,new.index); # labels for each bar\n",
    "\n",
    "\n",
    "# raise NotImplementedError()"
   ]
  },
  {
   "cell_type": "markdown",
   "metadata": {
    "deletable": false,
    "editable": false,
    "nbgrader": {
     "cell_type": "markdown",
     "checksum": "5b2821311d88228a89092ac80952adc1",
     "grade": false,
     "grade_id": "cell-07a874e8274de0f3",
     "locked": true,
     "schema_version": 3,
     "solution": false,
     "task": false
    }
   },
   "source": [
    "(d) Use Pandas to find the average tumor size for each drug regimen, separately at each time-point. Store your results in a Pandas data frame with time point as the index and ten columns (one column per drug regimen). Display your resulting data frame using a print statement. \n",
    "\n",
    "**Hint:** Recall, that ```unstack()``` is the opposite of the ```melt()``` procedure. Read up on details in either your text or on the Python documentation website. "
   ]
  },
  {
   "cell_type": "code",
   "execution_count": 289,
   "metadata": {
    "deletable": false,
    "nbgrader": {
     "cell_type": "code",
     "checksum": "9fb422294bbd2f8794537467bb8ea82c",
     "grade": true,
     "grade_id": "cell-6d97fc8215a3cbf3",
     "locked": false,
     "points": 2,
     "schema_version": 3,
     "solution": true,
     "task": false
    }
   },
   "outputs": [
    {
     "name": "stdout",
     "output_type": "stream",
     "text": [
      "Drug Regimen  Capomulin   Ceftamin  Infubinol   Ketapril   Naftisol  \\\n",
      "Timepoint                                                             \n",
      "0             45.000000  45.000000  45.000000  45.000000  45.000000   \n",
      "5             44.266086  46.503051  46.541247  47.389175  46.796098   \n",
      "10            43.084291  48.285125  49.403909  49.582269  48.694210   \n",
      "15            42.064317  50.094055  51.296397  52.399974  50.933018   \n",
      "20            40.716325  52.157049  53.197691  54.920935  53.644087   \n",
      "25            39.939528  54.287674  55.715252  57.678982  56.731968   \n",
      "30            38.769339  56.769517  58.299397  60.994507  59.559509   \n",
      "35            37.816839  58.827548  60.742461  63.371686  62.685087   \n",
      "40            36.958001  61.467895  63.162824  66.068580  65.600754   \n",
      "45            36.236114  64.132421  65.755562  70.662958  69.265506   \n",
      "\n",
      "Drug Regimen    Placebo   Propriva   Ramicane   Stelasyn  Zoniferol  \n",
      "Timepoint                                                            \n",
      "0             45.000000  45.000000  45.000000  45.000000  45.000000  \n",
      "5             47.125589  47.235574  43.944859  47.470830  46.851818  \n",
      "10            49.423329  49.066132  42.531957  49.335368  48.689881  \n",
      "15            51.359742  51.043900  41.495061  51.448025  50.779059  \n",
      "20            54.364417  53.264805  40.238325  53.970080  53.170334  \n",
      "25            57.482574  55.504138  38.974300  56.172821  55.432935  \n",
      "30            59.809063  58.196374  38.703137  59.870528  57.713531  \n",
      "35            62.420615  60.103457  37.451996  62.432021  60.089372  \n",
      "40            65.052675  63.045537  36.574081  65.356386  62.916692  \n",
      "45            68.084082  66.258529  34.955595  68.438310  65.960888  \n"
     ]
    }
   ],
   "source": [
    "# COMPLETE*\n",
    "# YOUR CODE HERE\n",
    "# IMPLEMENT STACK\n",
    "# Each timepoint will have their own average and timepoint will also be the indices\n",
    "# make a new DF with relevant info, use their IDs to match their treatment\n",
    "\n",
    "data = pd.merge(meta_df.loc[:, ['Mouse ID', 'Drug Regimen']], \n",
    "                     result_df.loc[:, ['Mouse ID','Timepoint', 'Tumor Volume (mm3)']]) # This only works because of the common columns\n",
    "# it will extend the shortened information to match the long one.\n",
    "# df.loc[:, [columns]] # whatever row, specific columns INDEX, so still using indices\n",
    "data_grouped = data.groupby(['Timepoint','Drug Regimen']) # group it by relevant info\n",
    "\n",
    "tumor_size = data_grouped['Tumor Volume (mm3)'].mean().unstack() # take the mean of each respective timepoints then unstack\n",
    "print(tumor_size)\n",
    "#raise NotImplementedError()"
   ]
  },
  {
   "cell_type": "markdown",
   "metadata": {
    "deletable": false,
    "editable": false,
    "nbgrader": {
     "cell_type": "markdown",
     "checksum": "899e67da6e36c49a42fb417227ac7f12",
     "grade": false,
     "grade_id": "cell-3eeae9b0741e35e7",
     "locked": true,
     "schema_version": 3,
     "solution": false,
     "task": false
    }
   },
   "source": [
    "(e) Use Matplotlib to create a line-graph of the average tumor size as a function of time for each drug regimen. Include all ten drugs in the same plot and use different colors for different drugs. Make sure to label your plot (include x- and y-axis labels, title, legend for which curve belongs to which drug). Please place the legend outside the plot (you should look up how to do this)."
   ]
  },
  {
   "cell_type": "code",
   "execution_count": 290,
   "metadata": {
    "deletable": false,
    "nbgrader": {
     "cell_type": "code",
     "checksum": "012167ec8f306bea55608405618ca953",
     "grade": true,
     "grade_id": "cell-07af4dc972c475c7",
     "locked": false,
     "points": 2,
     "schema_version": 3,
     "solution": true,
     "task": false
    }
   },
   "outputs": [
    {
     "data": {
      "image/png": "[encoded data removed]",
      "text/plain": [
       "<Figure size 432x288 with 1 Axes>"
      ]
     },
     "metadata": {
      "needs_background": "light"
     },
     "output_type": "display_data"
    }
   ],
   "source": [
    "#\n",
    "# set-up for axis\n",
    "ax = plt.axes()\n",
    "x_axis = tumor_size.index # horizontal axis units\n",
    "\n",
    "# each individual column should be traversed through\n",
    "for i in tumor_size.columns:\n",
    "    y = tumor_size.loc[:,i] # for each col entry\n",
    "    ax.plot(x_axis,y,label=i) # plot it for each col label\n",
    "\n",
    "# graph cosmetics\n",
    "\n",
    "# x and y labels\n",
    "plt.xlabel('Time (days)'); \n",
    "plt.ylabel('Tumor size (mm3)');\n",
    "\n",
    "# add a title\n",
    "plt.title('Average Tumor Size');\n",
    "\n",
    "# add a legend\n",
    "plt.legend(loc = 'center left', bbox_to_anchor = (1,0.5));\n",
    "# YOUR CODE HERE\n",
    "# raise NotImplementedError()"
   ]
  },
  {
   "cell_type": "markdown",
   "metadata": {
    "deletable": false,
    "editable": false,
    "nbgrader": {
     "cell_type": "markdown",
     "checksum": "60a2e94af023d30b461c8b9eb97f1e6b",
     "grade": false,
     "grade_id": "cell-f3d9a1a3ad7c7633",
     "locked": true,
     "schema_version": 3,
     "solution": false,
     "task": false
    }
   },
   "source": [
    "(f) Use Pandas to create a Data Frame that has one row per mouse, index values should be Mouse IDs, and has exactly the following columns: \"Weight\" (initial mouse weight in grams), \"Sex\", \"Age\" (of mouse at the beginning of trial in months), \"Tumor\" (tumor volume on day 45 - include only mice who lived until day 45), \"Drug Regimen\". Display your resulting data frame using a print statement. "
   ]
  },
  {
   "cell_type": "code",
   "execution_count": 301,
   "metadata": {
    "deletable": false,
    "nbgrader": {
     "cell_type": "code",
     "checksum": "d67492252af7ebc87b7599365c747d54",
     "grade": true,
     "grade_id": "cell-1dc3caf86d2dba85",
     "locked": false,
     "points": 3,
     "schema_version": 3,
     "solution": true,
     "task": false
    }
   },
   "outputs": [
    {
     "name": "stdout",
     "output_type": "stream",
     "text": [
      "          Weight     Sex  Age      Tumor Drug Regimen\n",
      "Mouse ID                                             \n",
      "s185          17  Female    3  23.343598    Capomulin\n",
      "x401          15  Female   16  28.484033    Capomulin\n",
      "m601          17    Male   22  28.430964    Capomulin\n",
      "u364          17    Male   18  31.023923    Capomulin\n",
      "y793          17    Male   17  31.896238    Capomulin\n",
      "...          ...     ...  ...        ...          ...\n",
      "p136          28  Female    5  63.488697    Zoniferol\n",
      "q511          28  Female    2  68.611061    Zoniferol\n",
      "q633          25    Male   12  70.827796    Zoniferol\n",
      "s337          27    Male   14  62.109651    Zoniferol\n",
      "w575          28  Female   16  68.401286    Zoniferol\n",
      "\n",
      "[130 rows x 5 columns]\n"
     ]
    }
   ],
   "source": [
    "# COMPLETE\n",
    "# YOUR CODE HERE\n",
    "# Merge the data with the relevant col variables using 'Mouse ID' as the key \n",
    "prob_df = pd.merge(meta_df.loc[:, ['Mouse ID', 'Weight (g)', 'Sex', 'Age_months', 'Drug Regimen']], \n",
    "                     result_df.loc[result_df['Timepoint'] ==45, ['Mouse ID','Tumor Volume (mm3)']], on = \"Mouse ID\")\n",
    "\n",
    "# Rename the column names and set the index to match \n",
    "prob_df.rename(columns = {'Mouse ID':'Mouse ID', 'Weight (g)':'Weight', 'Sex':'Sex', 'Age_months':'Age', 'Tumor Volume (mm3)':'Tumor', \n",
    "                            'Drug Regimen':'Drug Regimen'},inplace = True)\n",
    "prob_df.set_index([\"Mouse ID\"], inplace = True)\n",
    "\n",
    "# Rearrange the columns correctly\n",
    "prob_df = prob_df[['Weight', 'Sex', 'Age', 'Tumor', 'Drug Regimen']]\n",
    "\n",
    "print(prob_df)\n",
    "# raise NotImplementedError()"
   ]
  },
  {
   "cell_type": "markdown",
   "metadata": {
    "deletable": false,
    "editable": false,
    "nbgrader": {
     "cell_type": "markdown",
     "checksum": "ab9c224414bb91105c8cd63e87330c36",
     "grade": false,
     "grade_id": "cell-fc14ac6ce0c63059",
     "locked": true,
     "schema_version": 3,
     "solution": false,
     "task": false
    }
   },
   "source": [
    "(g) Use Matplotlib to create a scatterplot of final tumor size on day 45 against initial mouse weight for the mice who survived until day 45. Use different colors for different drug treatments. Make sure to label your plot (include x- and y-axis labels, title, and a legend for which color belongs to which drug). Please place the legend outside the plot. "
   ]
  },
  {
   "cell_type": "code",
   "execution_count": 303,
   "metadata": {
    "deletable": false,
    "nbgrader": {
     "cell_type": "code",
     "checksum": "e0a5e825f6104a3c40952bd850f417f2",
     "grade": true,
     "grade_id": "cell-455b0cfddd312c83",
     "locked": false,
     "points": 3,
     "schema_version": 3,
     "solution": true,
     "task": false
    }
   },
   "outputs": [
    {
     "data": {
      "image/png": "[encoded data removed]",
      "text/plain": [
       "<Figure size 432x288 with 1 Axes>"
      ]
     },
     "metadata": {
      "needs_background": "light"
     },
     "output_type": "display_data"
    }
   ],
   "source": [
    "# COMPLETE\n",
    "# YOUR CODE HERE\n",
    "prob_df = pd.merge(meta_df.loc[:, ['Mouse ID', 'Weight (g)','Drug Regimen']], \n",
    "                     result_df.loc[result_df['Timepoint'] ==45, ['Mouse ID','Tumor Volume (mm3)']], on = \"Mouse ID\")\n",
    "\n",
    "treat = prob_df['Drug Regimen'].unique() # each of the unique drugs studied\n",
    "plt.style.use('seaborn-deep') # set the theme for the plot\n",
    "\n",
    "# For each of the treatment under study we will plot those points on the scatterplot with it's own label and color\n",
    "for i in range(len(treat)):\n",
    "    x = prob_df.loc[prob_df['Drug Regimen'] == treat[i],:]['Weight (g)']\n",
    "    y = prob_df.loc[prob_df['Drug Regimen'] == treat[i],:]['Tumor Volume (mm3)']\n",
    "    plt.scatter(x, y, label=treat[i], alpha = 1, s = 50)\n",
    "\n",
    "# graph cosmetics\n",
    "plt.xlabel('Weight (g)')\n",
    "plt.ylabel('Tumor Volume (mm3)')\n",
    "plt.title('Tumor Volume by Mouse Weight and Drug Treatment')    \n",
    "plt.legend(loc='center left', bbox_to_anchor=(1, 0.5));\n",
    "# raise NotImplementedError()"
   ]
  },
  {
   "cell_type": "markdown",
   "metadata": {
    "deletable": false,
    "editable": false,
    "nbgrader": {
     "cell_type": "markdown",
     "checksum": "7420d544610c2b2a4b391b0d03c6a9e2",
     "grade": false,
     "grade_id": "cell-b30ee8f87c13fe1b",
     "locked": true,
     "schema_version": 3,
     "solution": false,
     "task": false
    }
   },
   "source": [
    "(h) Comment on what you see in the plot you just created. Do the mice seem to have been randomly assigned to the treatments? "
   ]
  },
  {
   "cell_type": "markdown",
   "metadata": {
    "deletable": false,
    "nbgrader": {
     "cell_type": "markdown",
     "checksum": "23ef42fe0758288017d0e4b58b5dcc8d",
     "grade": true,
     "grade_id": "cell-cf8aa5dcb55383cc",
     "locked": false,
     "points": 1,
     "schema_version": 3,
     "solution": true,
     "task": false
    }
   },
   "source": [
    "It appears that the mice were not randomly assigned treatments. Mice that weighed less were all prescribed Capomulin and Ramicane, while larger mice were prescribed the other drugs. \n",
    "\n",
    "The mice with lower weights ended up having smaller tumors but it's difficult to discern how much of this is due to the drugs and how much of it is due to their initial weight. \n",
    "\n",
    "We can see that within the group of mice receiving Capomulin and Ramican, larger mice ended up with larger tumors, which indicate that initial weight likely had an effect on tumor size which means that we should not be comparing the smaller mice's treatment to the larger mice's treatment."
   ]
  },
  {
   "cell_type": "markdown",
   "metadata": {
    "deletable": false,
    "editable": false,
    "nbgrader": {
     "cell_type": "markdown",
     "checksum": "532eb9c02a571aefde861f68eeec4e2a",
     "grade": false,
     "grade_id": "cell-ad1810f77b3e351f",
     "locked": true,
     "schema_version": 3,
     "solution": false,
     "task": false
    }
   },
   "source": [
    "(i) Create a side-by-side boxplot for initial mouse weight across drug regimens. Order the drugs, so that the boxplots for the drugs \"Capomulin\" and \"Ramicane\" appear on the left. \n",
    "\n",
    "**Note:** Look at the [matplotlib gallery](https://matplotlib.org/stable/gallery/index.html) and scroll down to the \"Statistics\" section to understand how to create a side-by-side boxplot. \n",
    "\n",
    "**Hint:** start with a list of lists of values you want to plot. "
   ]
  },
  {
   "cell_type": "code",
   "execution_count": 305,
   "metadata": {
    "deletable": false,
    "nbgrader": {
     "cell_type": "code",
     "checksum": "61b5948e8a82d204c7cc52232b86d449",
     "grade": true,
     "grade_id": "cell-e52f32eb9f1cc065",
     "locked": false,
     "points": 3,
     "schema_version": 3,
     "solution": true,
     "task": false
    }
   },
   "outputs": [
    {
     "data": {
      "image/png": "[encoded data removed]",
      "text/plain": [
       "<Figure size 432x288 with 1 Axes>"
      ]
     },
     "metadata": {
      "needs_background": "light"
     },
     "output_type": "display_data"
    }
   ],
   "source": [
    "# COMPLETE\n",
    "# YOUR CODE HERE\n",
    "# correct order of drugs\n",
    "ordered_drugs = ['Capomulin', 'Ramicane', 'Ceftamin', 'Infubinol', 'Ketapril', 'Naftisol',\n",
    "       'Placebo', 'Propriva', 'Stelasyn', 'Zoniferol']\n",
    "\n",
    "# Create a dictionary where each drug is the key and each value is a list of weights associated with that drug\n",
    "drug_dict = {drug:list(meta_df.loc[meta_df['Drug Regimen'] == drug]['Weight (g)']) for drug in ordered_drugs}\n",
    "\n",
    "# Plot the boxplot using the dictionary keys as the x labels\n",
    "ax = plt.axes() \n",
    "ax.boxplot(drug_dict.values())\n",
    "ax.set_xticklabels(drug_dict.keys());\n",
    "\n",
    "# graph cosmetics\n",
    "plt.ylabel('Weight (g)'); \n",
    "plt.title('Initial weight of Mice per treatment')\n",
    "plt.xticks(ha = 'right', rotation = 45);\n",
    "\n",
    "# raise NotImplementedError()"
   ]
  },
  {
   "cell_type": "code",
   "execution_count": null,
   "metadata": {},
   "outputs": [],
   "source": []
  }
 ],
 "metadata": {
  "kernelspec": {
   "display_name": "Python 3 (ipykernel)",
   "language": "python",
   "name": "python3"
  },
  "language_info": {
   "codemirror_mode": {
    "name": "ipython",
    "version": 3
   },
   "file_extension": ".py",
   "mimetype": "text/x-python",
   "name": "python",
   "nbconvert_exporter": "python",
   "pygments_lexer": "ipython3",
   "version": "3.9.7"
  }
 },
 "nbformat": 4,
 "nbformat_minor": 2
}
