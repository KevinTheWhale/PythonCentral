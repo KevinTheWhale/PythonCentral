{
 "cells": [
  {
   "cell_type": "markdown",
   "metadata": {},
   "source": [
    "Before you turn this homework in, make sure everything runs as expected. First, **restart the kernel** and then **run all cells** (in the menubar, select Kernel$\\rightarrow$Restart \\& Run all). If you get error messages, the grader will get the same errors and won't be able to grade your work. \n",
    "\n",
    "Make sure you fill in any place that says `YOUR CODE HERE` or \"YOUR ANSWER HERE\". You may delete the line(s) that say \"**raise** NotImplementedError()\" and replace them with your actual work. Write all your work in the cells provided in this notebook. **DO NOT** add or delete any cells. \n",
    "\n",
    "Please fill in your name in the cell below."
   ]
  },
  {
   "cell_type": "code",
   "execution_count": 1,
   "metadata": {},
   "outputs": [],
   "source": [
    "NAME = \"Kevin Pham\""
   ]
  },
  {
   "cell_type": "markdown",
   "metadata": {},
   "source": [
    "---"
   ]
  },
  {
   "cell_type": "markdown",
   "metadata": {
    "deletable": false,
    "editable": false,
    "nbgrader": {
     "cell_type": "markdown",
     "checksum": "85f97d44322ffa112115254f82ebff03",
     "grade": false,
     "grade_id": "cell-ef495698be86d216",
     "locked": true,
     "schema_version": 3,
     "solution": false,
     "task": false
    }
   },
   "source": [
    "## Problem 1\n",
    "\n",
    "The file \"Temp.txt\" which you can download from the homework tab on Canvas, contains the monthly high-temperatures (in degrees Celsius) at Heathrow airport for the years 1948 through 2016. Save the file on your computer (in a folder that you can find again). Run the code below, changing the path to the appropriate path on **your** computer. It's ok to use forward slashes in the path name, regardless of whether you're working on Windows or MacOS. "
   ]
  },
  {
   "cell_type": "code",
   "execution_count": 2,
   "metadata": {},
   "outputs": [],
   "source": [
    "# COMPLETE\n",
    "\n",
    "# create empty list for data input\n",
    "temperatures = []\n",
    "\n",
    "from pathlib import Path\n",
    "\n",
    "# set the appropriate path. Change \"\\\" into \"/\" to correct pathing syntax\n",
    "data_folder = Path('/Users/Kevin/Documents/SJSU/Spring 2023/Math 167PS/Homeworks')\n",
    "# make sure to change this path to the actual folder where YOU have saved the data file. \n",
    "\n",
    "file_to_open = data_folder / \"Temp.txt\" # selection of file to open in the directed folder\n",
    "\n",
    "file_to_open\n",
    "# open the actual file\n",
    "f = open(file_to_open)\n",
    "\n",
    "# queue all data into the empty list declared earlier\n",
    "for row in f:\n",
    "    temperatures.append(float(row)) # queue all data in sequential order and all entries queued are float values\n",
    "\n"
   ]
  },
  {
   "cell_type": "markdown",
   "metadata": {
    "deletable": false,
    "editable": false,
    "nbgrader": {
     "cell_type": "markdown",
     "checksum": "3addfc70b72b05d36342f995d835cd32",
     "grade": false,
     "grade_id": "cell-90600cd732395818",
     "locked": true,
     "schema_version": 3,
     "solution": false,
     "task": false
    }
   },
   "source": [
    "You have now created an object called temperatures. \n",
    "\n",
    "Answer the following questions by inserting your code into the code box (after the \"# your code here\" prompt. Comment out or delete the \"raise NotImplementedError()\") and answering the question in the form of a complete English sentence in the respective Markdown box. \n",
    "\n",
    "a) What kind of object type is \"temperatures\"?"
   ]
  },
  {
   "cell_type": "code",
   "execution_count": 3,
   "metadata": {
    "deletable": false,
    "nbgrader": {
     "cell_type": "code",
     "checksum": "c3f47727e253fd45b2b27e363771f4dd",
     "grade": true,
     "grade_id": "cell-1274844462a16520",
     "locked": false,
     "points": 1,
     "schema_version": 3,
     "solution": true,
     "task": false
    }
   },
   "outputs": [
    {
     "name": "stdout",
     "output_type": "stream",
     "text": [
      "<class 'list'>\n"
     ]
    }
   ],
   "source": [
    "# COMPLETE \n",
    "# YOUR CODE HERE\n",
    "print(type(temperatures))\n",
    "# raise NotImplementedError()"
   ]
  },
  {
   "cell_type": "markdown",
   "metadata": {
    "deletable": false,
    "nbgrader": {
     "cell_type": "markdown",
     "checksum": "a60cbb57dff6891a80c6942df500e65f",
     "grade": true,
     "grade_id": "cell-34240bd2605d2f58",
     "locked": false,
     "points": 1,
     "schema_version": 3,
     "solution": true,
     "task": false
    }
   },
   "source": [
    "temperatures is a 'list' object"
   ]
  },
  {
   "cell_type": "markdown",
   "metadata": {},
   "source": [
    "b) Describe what the \"float()\" and \"append()\" commands do, respectively, that have been applied above. Try to leave out the \"float()\" command. What happens then? "
   ]
  },
  {
   "cell_type": "markdown",
   "metadata": {
    "deletable": false,
    "nbgrader": {
     "cell_type": "markdown",
     "checksum": "2653d6fd0d4d164f0fc1c89923901faa",
     "grade": true,
     "grade_id": "cell-500e86f52b100e06",
     "locked": false,
     "points": 2,
     "schema_version": 3,
     "solution": true,
     "task": false
    }
   },
   "source": [
    "float() - Changes the datatype of a number into float type numerical value\n",
    "\n",
    "append() - Adds items to the end of a list"
   ]
  },
  {
   "cell_type": "markdown",
   "metadata": {
    "deletable": false,
    "editable": false,
    "nbgrader": {
     "cell_type": "markdown",
     "checksum": "ea10dd8b94337c18b98c1262adef51f3",
     "grade": false,
     "grade_id": "cell-1ed6dd0ce4068fd0",
     "locked": true,
     "schema_version": 3,
     "solution": false,
     "task": false
    }
   },
   "source": [
    "c) How many temperatures have been recorded in the file?"
   ]
  },
  {
   "cell_type": "code",
   "execution_count": 4,
   "metadata": {
    "deletable": false,
    "nbgrader": {
     "cell_type": "code",
     "checksum": "dbc06dc4272e2b3a0cd8d01d2ca6858e",
     "grade": true,
     "grade_id": "cell-4102cec12478cb95",
     "locked": false,
     "points": 0.5,
     "schema_version": 3,
     "solution": true,
     "task": false
    }
   },
   "outputs": [
    {
     "name": "stdout",
     "output_type": "stream",
     "text": [
      "828\n"
     ]
    }
   ],
   "source": [
    "# COMPLETE\n",
    "# YOUR CODE HERE\n",
    "print(len(temperatures))\n",
    "# raise NotImplementedError()"
   ]
  },
  {
   "cell_type": "markdown",
   "metadata": {
    "deletable": false,
    "nbgrader": {
     "cell_type": "markdown",
     "checksum": "d44ea0463e761488492da1a6a2d5ddb0",
     "grade": true,
     "grade_id": "cell-6ad7e392521a4a0e",
     "locked": false,
     "points": 0.5,
     "schema_version": 3,
     "solution": true,
     "task": false
    }
   },
   "source": [
    "828 total entries"
   ]
  },
  {
   "cell_type": "markdown",
   "metadata": {
    "deletable": false,
    "editable": false,
    "nbgrader": {
     "cell_type": "markdown",
     "checksum": "f61e1abf01d6a8746451fb557e8da1fa",
     "grade": false,
     "grade_id": "cell-5d583cf14544aa4b",
     "locked": true,
     "schema_version": 3,
     "solution": false,
     "task": false
    }
   },
   "source": [
    "d) What are the highest and lowest temperatures recorded?"
   ]
  },
  {
   "cell_type": "code",
   "execution_count": 5,
   "metadata": {
    "deletable": false,
    "nbgrader": {
     "cell_type": "code",
     "checksum": "5d080e038ed4c41f8f093cadae3129f7",
     "grade": true,
     "grade_id": "cell-31ed00b609d91dea",
     "locked": false,
     "points": 1,
     "schema_version": 3,
     "solution": true,
     "task": false
    }
   },
   "outputs": [
    {
     "name": "stdout",
     "output_type": "stream",
     "text": [
      "28.2\n",
      "0.8\n"
     ]
    }
   ],
   "source": [
    "# COMPLETE\n",
    "# YOUR CODE HERE\n",
    "print(max(temperatures)) # finding max and print\n",
    "print(min(temperatures)) # finding min and print\n",
    "# raise NotImplementedError()"
   ]
  },
  {
   "cell_type": "markdown",
   "metadata": {
    "deletable": false,
    "nbgrader": {
     "cell_type": "markdown",
     "checksum": "e7b582d3c953ee1738d64a6724411862",
     "grade": true,
     "grade_id": "cell-c0b16d7f7383f06d",
     "locked": false,
     "points": 1,
     "schema_version": 3,
     "solution": true,
     "task": false
    }
   },
   "source": [
    "max: 28.2\n",
    "min: 0.8"
   ]
  },
  {
   "cell_type": "markdown",
   "metadata": {
    "deletable": false,
    "editable": false,
    "nbgrader": {
     "cell_type": "markdown",
     "checksum": "8f4416119966c3042ae60a535eaaf38d",
     "grade": false,
     "grade_id": "cell-7a234034741311d6",
     "locked": true,
     "schema_version": 3,
     "solution": false,
     "task": false
    }
   },
   "source": [
    "e) The first observation in the `temperatures` object is from a January 1948. Using only the commands you learned from chapter 5 (that is, using base python and no additional python libraries), find the the mean January high temperature at London Heathrow between the years 1948 and 2016. Have your code round your answer to two decimal digits accuracy and return the answer as a float.  "
   ]
  },
  {
   "cell_type": "code",
   "execution_count": 6,
   "metadata": {
    "deletable": false,
    "nbgrader": {
     "cell_type": "code",
     "checksum": "14993c96831d6bbc263320e6c34545cc",
     "grade": true,
     "grade_id": "cell-befa8725c629dacc",
     "locked": false,
     "points": 2,
     "schema_version": 3,
     "solution": true,
     "task": false
    }
   },
   "outputs": [
    {
     "name": "stdout",
     "output_type": "stream",
     "text": [
      "7.56\n"
     ]
    }
   ],
   "source": [
    "# COMPLETE\n",
    "# YOUR CODE HERE\n",
    "jan = temperatures[0:828:12] # list of just january temperatures\n",
    "avg = sum(jan)/len(jan) # take the average of the january temperatures\n",
    "print(round(avg,2)) # list of just jan. between 1948 - 2016 avg rounded to 2 decimal points\n",
    "# raise NotImplementedError()"
   ]
  },
  {
   "cell_type": "markdown",
   "metadata": {
    "deletable": false,
    "editable": false,
    "nbgrader": {
     "cell_type": "markdown",
     "checksum": "6d3f542fa3343d6fbae0930ef1eddf1e",
     "grade": false,
     "grade_id": "cell-339113f64bcb4534",
     "locked": true,
     "schema_version": 3,
     "solution": false,
     "task": false
    }
   },
   "source": [
    "f) Find the median monthly high temperature (using only the commands you learned from chapter 5 and base python, not using additional modules or libraries). Use Python to round your result to two after-decimal digits. State the result and explain briefly how you find the median in the markdown box below. "
   ]
  },
  {
   "cell_type": "code",
   "execution_count": 7,
   "metadata": {
    "deletable": false,
    "nbgrader": {
     "cell_type": "code",
     "checksum": "97288dbeefb3f5b7e5f72f607a3b2dd4",
     "grade": true,
     "grade_id": "cell-559818acd1c52615",
     "locked": false,
     "points": 1,
     "schema_version": 3,
     "solution": true,
     "task": false
    }
   },
   "outputs": [
    {
     "name": "stdout",
     "output_type": "stream",
     "text": [
      "14.7\n"
     ]
    }
   ],
   "source": [
    "# COMPLETE\n",
    "# YOUR CODE HERE\n",
    "tempSort = sorted(temperatures) # sort them from descending to ascending\n",
    "\n",
    "# find median position\n",
    "midIndex = (len(temperatures)-1)//2\n",
    "# check if it's even or odd\n",
    "if(midIndex % 2):\n",
    "    print(tempSort[midIndex]) # odd # of elements\n",
    "else:\n",
    "    print((tempSort[midIndex] + tempSort[midIndex+1])/2) # even # of elements\n",
    "# raise NotImplementedError()"
   ]
  },
  {
   "cell_type": "markdown",
   "metadata": {
    "deletable": false,
    "nbgrader": {
     "cell_type": "markdown",
     "checksum": "62f3029f7a8a92b456c18fbb2608acaf",
     "grade": true,
     "grade_id": "cell-522e5e9fef2c8465",
     "locked": false,
     "points": 1,
     "schema_version": 3,
     "solution": true,
     "task": false
    }
   },
   "source": [
    "Median: 14.7"
   ]
  },
  {
   "cell_type": "markdown",
   "metadata": {
    "deletable": false,
    "editable": false,
    "nbgrader": {
     "cell_type": "markdown",
     "checksum": "2e444a1b44623277998c2a79a09b96a6",
     "grade": false,
     "grade_id": "cell-fba2aab074745cee",
     "locked": true,
     "schema_version": 3,
     "solution": false,
     "task": false
    }
   },
   "source": [
    "## Problem 2 \n",
    "\n",
    "Much of data science these days is based on text data. The text to be analyzed may be literature or postings on social media. The tasks to be performed could be sentiment analysis (trying to guess whether the writing is \"pro\" or \"con\" on a certain issue) to automatically detecting postings by Malicious bots. However, before you can perform any kind of machine learning procedure on a text, you have to first learn how to \"clean\" the text. That usually means removing all non-text elements and sometimes also removing filler words such as \"the\", \"it\", \"and\" etc. After that, what is usually analyzed is the frequency with which certain words appear and most often actually not the *order* in which they appear. \n",
    "\n",
    "The text below are the first three paragraphs of Franz Kafka's book \"Metamorphosis\". Our goal is to clean this text passage. "
   ]
  },
  {
   "cell_type": "code",
   "execution_count": 8,
   "metadata": {
    "deletable": false,
    "editable": false,
    "nbgrader": {
     "cell_type": "code",
     "checksum": "f900eb78bb94d97d003d0d1d541cc72f",
     "grade": false,
     "grade_id": "cell-6b3f5de1cf97e9e0",
     "locked": true,
     "schema_version": 3,
     "solution": false,
     "task": false
    }
   },
   "outputs": [],
   "source": [
    "text = \"\"\"One morning, when Gregor Samsa woke from troubled dreams, he found\n",
    "himself transformed in his bed into a horrible vermin.  He lay on\n",
    "his armour-like back, and if he lifted his head a little he could\n",
    "see his brown belly, slightly domed and divided by arches into stiff\n",
    "sections.  The bedding was hardly able to cover it and seemed ready\n",
    "to slide off any moment.  His many legs, pitifully thin compared\n",
    "with the size of the rest of him, waved about helplessly as he\n",
    "looked.\n",
    "\n",
    "\"What's happened to me?\" he thought.  It wasn't a dream.  His room,\n",
    "a proper human room although a little too small, lay peacefully\n",
    "between its four familiar walls.  A collection of textile samples\n",
    "lay spread out on the table - Samsa was a travelling salesman - and\n",
    "above it there hung a picture that he had recently cut out of an\n",
    "illustrated magazine and housed in a nice, gilded frame.  It showed\n",
    "a lady fitted out with a fur hat and fur boa who sat upright,\n",
    "raising a heavy fur muff that covered the whole of her lower arm\n",
    "towards the viewer.\n",
    "\n",
    "Gregor then turned to look out the window at the dull weather.\n",
    "Drops of rain could be heard hitting the pane, which made him feel\n",
    "quite sad.  \"How about if I sleep a little bit longer and forget all\n",
    "this nonsense\", he thought, but that was something he was unable to\n",
    "do because he was used to sleeping on his right, and in his present\n",
    "state couldn't get into that position.  However hard he threw\n",
    "himself onto his right, he always rolled back to where he was.  He\n",
    "must have tried it a hundred times, shut his eyes so that he\n",
    "wouldn't have to look at the floundering legs, and only stopped when\n",
    "he began to feel a mild, dull pain there that he had never felt\n",
    "before.\"\"\""
   ]
  },
  {
   "cell_type": "markdown",
   "metadata": {
    "deletable": false,
    "editable": false,
    "nbgrader": {
     "cell_type": "markdown",
     "checksum": "a4af973a32090ba3056e47cf1667cec7",
     "grade": false,
     "grade_id": "cell-4859f6c152b98634",
     "locked": true,
     "schema_version": 3,
     "solution": false,
     "task": false
    }
   },
   "source": [
    "a) Look at the text. What non-alphabetic character elements do you see in the text?"
   ]
  },
  {
   "cell_type": "markdown",
   "metadata": {
    "deletable": false,
    "nbgrader": {
     "cell_type": "markdown",
     "checksum": "5179b9354da36274477781e343fe5ffc",
     "grade": true,
     "grade_id": "cell-b91c05534addb82e",
     "locked": false,
     "points": 1,
     "schema_version": 3,
     "solution": true,
     "task": false
    }
   },
   "source": [
    "non-alphanumerics: \" ' . , - ?"
   ]
  },
  {
   "cell_type": "markdown",
   "metadata": {
    "deletable": false,
    "editable": false,
    "nbgrader": {
     "cell_type": "markdown",
     "checksum": "538e7d78972e95eacc6abb3bf0e57ffb",
     "grade": false,
     "grade_id": "cell-48d73327e92845c7",
     "locked": true,
     "schema_version": 3,
     "solution": false,
     "task": false
    }
   },
   "source": [
    "b) Using only the commands covered in class so far (in base python without use of additional libraries), write code to remove all non-alphabetic characters (such as punctuation or hyphens)."
   ]
  },
  {
   "cell_type": "code",
   "execution_count": 9,
   "metadata": {
    "deletable": false,
    "nbgrader": {
     "cell_type": "code",
     "checksum": "2f81bba2fedd201a489616d7ca8eaf9f",
     "grade": true,
     "grade_id": "cell-4b64fbe18b6c49ed",
     "locked": false,
     "points": 2,
     "schema_version": 3,
     "solution": true,
     "task": false
    }
   },
   "outputs": [
    {
     "name": "stdout",
     "output_type": "stream",
     "text": [
      "One morning when Gregor Samsa woke from troubled dreams he found\n",
      "himself transformed in his bed into a horrible vermin  He lay on\n",
      "his armourlike back and if he lifted his head a little he could\n",
      "see his brown belly slightly domed and divided by arches into stiff\n",
      "sections  The bedding was hardly able to cover it and seemed ready\n",
      "to slide off any moment  His many legs pitifully thin compared\n",
      "with the size of the rest of him waved about helplessly as he\n",
      "looked\n",
      "\n",
      "Whats happened to me he thought  It wasnt a dream  His room\n",
      "a proper human room although a little too small lay peacefully\n",
      "between its four familiar walls  A collection of textile samples\n",
      "lay spread out on the table  Samsa was a travelling salesman  and\n",
      "above it there hung a picture that he had recently cut out of an\n",
      "illustrated magazine and housed in a nice gilded frame  It showed\n",
      "a lady fitted out with a fur hat and fur boa who sat upright\n",
      "raising a heavy fur muff that covered the whole of her lower arm\n",
      "towards the viewer\n",
      "\n",
      "Gregor then turned to look out the window at the dull weather\n",
      "Drops of rain could be heard hitting the pane which made him feel\n",
      "quite sad  How about if I sleep a little bit longer and forget all\n",
      "this nonsense he thought but that was something he was unable to\n",
      "do because he was used to sleeping on his right and in his present\n",
      "state couldnt get into that position  However hard he threw\n",
      "himself onto his right he always rolled back to where he was  He\n",
      "must have tried it a hundred times shut his eyes so that he\n",
      "wouldnt have to look at the floundering legs and only stopped when\n",
      "he began to feel a mild dull pain there that he had never felt\n",
      "before\n"
     ]
    }
   ],
   "source": [
    "# COMPLETE\n",
    "# YOUR CODE HERE\n",
    "\n",
    "# remove \"\n",
    "text = text.replace('\"',\"\")\n",
    "\n",
    "# remove '\n",
    "text = text.replace(\"'\",\"\")\n",
    "\n",
    "# remove - \n",
    "text = text.replace(\"-\",\"\")\n",
    "\n",
    "# remove ?\n",
    "text = text.replace(\"?\",\"\")\n",
    "\n",
    "# remove .\n",
    "text = text.replace(\".\",\"\")\n",
    "\n",
    "# remove ,\n",
    "text = text.replace(\",\",\"\")\n",
    "\n",
    "print(text) # print out without any non-alphanumerics\n",
    "# raise NotImplementedError()"
   ]
  },
  {
   "cell_type": "markdown",
   "metadata": {
    "deletable": false,
    "editable": false,
    "nbgrader": {
     "cell_type": "markdown",
     "checksum": "32207b82a63b01152a56cac936acf742",
     "grade": false,
     "grade_id": "cell-d3b4342173920c17",
     "locked": true,
     "schema_version": 3,
     "solution": false,
     "task": false
    }
   },
   "source": [
    "c) Write code to make everything lower case and convert the text into a list of single words. "
   ]
  },
  {
   "cell_type": "code",
   "execution_count": 10,
   "metadata": {
    "deletable": false,
    "nbgrader": {
     "cell_type": "code",
     "checksum": "29a38852d5f6edf9f02883a477aeba80",
     "grade": true,
     "grade_id": "cell-1f0da4f57b41fe5e",
     "locked": false,
     "points": 2,
     "schema_version": 3,
     "solution": true,
     "task": false
    }
   },
   "outputs": [
    {
     "name": "stdout",
     "output_type": "stream",
     "text": [
      "['one', 'morning', 'when', 'gregor', 'samsa', 'woke', 'from', 'troubled', 'dreams', 'he', 'found', 'himself', 'transformed', 'in', 'his', 'bed', 'into', 'a', 'horrible', 'vermin', 'he', 'lay', 'on', 'his', 'armourlike', 'back', 'and', 'if', 'he', 'lifted', 'his', 'head', 'a', 'little', 'he', 'could', 'see', 'his', 'brown', 'belly', 'slightly', 'domed', 'and', 'divided', 'by', 'arches', 'into', 'stiff', 'sections', 'the', 'bedding', 'was', 'hardly', 'able', 'to', 'cover', 'it', 'and', 'seemed', 'ready', 'to', 'slide', 'off', 'any', 'moment', 'his', 'many', 'legs', 'pitifully', 'thin', 'compared', 'with', 'the', 'size', 'of', 'the', 'rest', 'of', 'him', 'waved', 'about', 'helplessly', 'as', 'he', 'looked', 'whats', 'happened', 'to', 'me', 'he', 'thought', 'it', 'wasnt', 'a', 'dream', 'his', 'room', 'a', 'proper', 'human', 'room', 'although', 'a', 'little', 'too', 'small', 'lay', 'peacefully', 'between', 'its', 'four', 'familiar', 'walls', 'a', 'collection', 'of', 'textile', 'samples', 'lay', 'spread', 'out', 'on', 'the', 'table', 'samsa', 'was', 'a', 'travelling', 'salesman', 'and', 'above', 'it', 'there', 'hung', 'a', 'picture', 'that', 'he', 'had', 'recently', 'cut', 'out', 'of', 'an', 'illustrated', 'magazine', 'and', 'housed', 'in', 'a', 'nice', 'gilded', 'frame', 'it', 'showed', 'a', 'lady', 'fitted', 'out', 'with', 'a', 'fur', 'hat', 'and', 'fur', 'boa', 'who', 'sat', 'upright', 'raising', 'a', 'heavy', 'fur', 'muff', 'that', 'covered', 'the', 'whole', 'of', 'her', 'lower', 'arm', 'towards', 'the', 'viewer', 'gregor', 'then', 'turned', 'to', 'look', 'out', 'the', 'window', 'at', 'the', 'dull', 'weather', 'drops', 'of', 'rain', 'could', 'be', 'heard', 'hitting', 'the', 'pane', 'which', 'made', 'him', 'feel', 'quite', 'sad', 'how', 'about', 'if', 'i', 'sleep', 'a', 'little', 'bit', 'longer', 'and', 'forget', 'all', 'this', 'nonsense', 'he', 'thought', 'but', 'that', 'was', 'something', 'he', 'was', 'unable', 'to', 'do', 'because', 'he', 'was', 'used', 'to', 'sleeping', 'on', 'his', 'right', 'and', 'in', 'his', 'present', 'state', 'couldnt', 'get', 'into', 'that', 'position', 'however', 'hard', 'he', 'threw', 'himself', 'onto', 'his', 'right', 'he', 'always', 'rolled', 'back', 'to', 'where', 'he', 'was', 'he', 'must', 'have', 'tried', 'it', 'a', 'hundred', 'times', 'shut', 'his', 'eyes', 'so', 'that', 'he', 'wouldnt', 'have', 'to', 'look', 'at', 'the', 'floundering', 'legs', 'and', 'only', 'stopped', 'when', 'he', 'began', 'to', 'feel', 'a', 'mild', 'dull', 'pain', 'there', 'that', 'he', 'had', 'never', 'felt', 'before']\n"
     ]
    }
   ],
   "source": [
    "# COMPLETE\n",
    "# YOUR CODE HERE\n",
    "textList = text.lower().split()\n",
    "print(textList) # ordering methods matter. Make all the words into lowercase first then convert to a list\n",
    "# raise NotImplementedError()"
   ]
  },
  {
   "cell_type": "markdown",
   "metadata": {
    "deletable": false,
    "editable": false,
    "nbgrader": {
     "cell_type": "markdown",
     "checksum": "235ec7029c656664fa49306aa8a862ed",
     "grade": false,
     "grade_id": "cell-c6d3acee7f698a50",
     "locked": true,
     "schema_version": 3,
     "solution": false,
     "task": false
    }
   },
   "source": [
    "d) How many total words are in the list (if armour-like is considered to be two words)? Count, how often the word \"he\" appears in the three paragraphs. Don't count if \"he\" is part of another word, e.g., \"tHEn\". "
   ]
  },
  {
   "cell_type": "code",
   "execution_count": 11,
   "metadata": {
    "deletable": false,
    "nbgrader": {
     "cell_type": "code",
     "checksum": "5575b4a10677310a03bbaf2c2fd4965e",
     "grade": true,
     "grade_id": "cell-6e885dd0313883a1",
     "locked": false,
     "points": 1,
     "schema_version": 3,
     "solution": true,
     "task": false
    }
   },
   "outputs": [
    {
     "name": "stdout",
     "output_type": "stream",
     "text": [
      "313\n",
      "17\n"
     ]
    }
   ],
   "source": [
    "# COMPLETE\n",
    "# YOUR CODE HERE\n",
    "\n",
    "# total words in the list\n",
    "print(len(textList))\n",
    "\n",
    "print(textList.count(\"he\")) # find all instances of \"he\"\n",
    "\n",
    "# raise NotImplementedError()"
   ]
  },
  {
   "cell_type": "markdown",
   "metadata": {
    "deletable": false,
    "nbgrader": {
     "cell_type": "markdown",
     "checksum": "53b88972cb79abe71d19552c7640315b",
     "grade": true,
     "grade_id": "cell-fabf0ebc115053cf",
     "locked": false,
     "points": 1,
     "schema_version": 3,
     "solution": true,
     "task": false
    }
   },
   "source": [
    "313 total words in the list\n",
    "17 instances of \"he\""
   ]
  },
  {
   "cell_type": "markdown",
   "metadata": {
    "deletable": false,
    "editable": false,
    "nbgrader": {
     "cell_type": "markdown",
     "checksum": "2c1348e4dd63fa18eff4e5f0478b0f87",
     "grade": false,
     "grade_id": "cell-c0ad33a5db7f9482",
     "locked": true,
     "schema_version": 3,
     "solution": false,
     "task": false
    }
   },
   "source": [
    "e) How many distinct (different) words appear in the first three paragragraphs?"
   ]
  },
  {
   "cell_type": "code",
   "execution_count": 12,
   "metadata": {
    "deletable": false,
    "nbgrader": {
     "cell_type": "code",
     "checksum": "101e34d5cc002ae92867b0775099b32e",
     "grade": true,
     "grade_id": "cell-b7c0416724c28ac2",
     "locked": false,
     "points": 1,
     "schema_version": 3,
     "solution": true,
     "task": false
    }
   },
   "outputs": [
    {
     "name": "stdout",
     "output_type": "stream",
     "text": [
      "194\n"
     ]
    }
   ],
   "source": [
    "# COMPLETE\n",
    "# YOUR CODE HERE\n",
    "unique = set(textList) # find only the unique words in the paragraph from the list\n",
    "print(len(unique))\n",
    "# raise NotImplementedError()"
   ]
  },
  {
   "cell_type": "markdown",
   "metadata": {
    "deletable": false,
    "nbgrader": {
     "cell_type": "markdown",
     "checksum": "e3e0b20946d0579d7870ceff6441ed6c",
     "grade": true,
     "grade_id": "cell-7f9326ad65184f44",
     "locked": false,
     "points": 1,
     "schema_version": 3,
     "solution": true,
     "task": false
    }
   },
   "source": [
    "194 unique words in the string"
   ]
  }
 ],
 "metadata": {
  "kernelspec": {
   "display_name": "Python 3 (ipykernel)",
   "language": "python",
   "name": "python3"
  },
  "language_info": {
   "codemirror_mode": {
    "name": "ipython",
    "version": 3
   },
   "file_extension": ".py",
   "mimetype": "text/x-python",
   "name": "python",
   "nbconvert_exporter": "python",
   "pygments_lexer": "ipython3",
   "version": "3.9.7"
  }
 },
 "nbformat": 4,
 "nbformat_minor": 2
}
