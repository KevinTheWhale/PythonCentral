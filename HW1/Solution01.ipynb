{
 "cells": [
  {
   "cell_type": "markdown",
   "metadata": {},
   "source": [
    "# Solution for Homework 1"
   ]
  },
  {
   "cell_type": "markdown",
   "metadata": {
    "nbgrader": {
     "grade": false,
     "grade_id": "cell-ef495698be86d216",
     "locked": true,
     "schema_version": 3,
     "solution": false,
     "task": false
    }
   },
   "source": [
    "## Problem 1\n",
    "\n",
    "The file \"Temp.txt\" which you can download from the homework tab on Canvas, contains the monthly high-temperatures (in degrees Celsius) at Heathrow airport for the years 1948 through 2016. Save the file on your computer (in a folder that you can find again). Run the code below, changing the path to the appropriate path on **your** computer. It's ok to use forward slashes in the path name, regardless of whether you're working on Windows or MacOS. "
   ]
  },
  {
   "cell_type": "code",
   "execution_count": 1,
   "metadata": {},
   "outputs": [],
   "source": [
    "temperatures = []\n",
    "\n",
    "from pathlib import Path\n",
    "\n",
    "data_folder = Path('/Users/mbremer/SJSU/Math167PS/Data/HomeworkData')\n",
    "# make sure to change this path to the actual folder where YOU have saved the data file. \n",
    "\n",
    "file_to_open = data_folder / \"Temp.txt\"\n",
    "\n",
    "file_to_open\n",
    "f = open(file_to_open)\n",
    "\n",
    "for row in f:\n",
    "    temperatures.append(float(row))"
   ]
  },
  {
   "cell_type": "markdown",
   "metadata": {
    "nbgrader": {
     "grade": false,
     "grade_id": "cell-90600cd732395818",
     "locked": true,
     "schema_version": 3,
     "solution": false,
     "task": false
    }
   },
   "source": [
    "You have now created an object called temperatures. \n",
    "\n",
    "Answer the following questions by inserting your code into the code box (after the \"# your code here\" prompt. Comment out or delete the \"raise NotImplementedError()\") and answering the question in the form of a complete English sentence in the respective Markdown box. \n",
    "\n",
    "a) What kind of object type is \"temperatures\"?"
   ]
  },
  {
   "cell_type": "code",
   "execution_count": 2,
   "metadata": {
    "nbgrader": {
     "grade": true,
     "grade_id": "cell-1274844462a16520",
     "locked": false,
     "points": 1,
     "schema_version": 3,
     "solution": true,
     "task": false
    }
   },
   "outputs": [
    {
     "data": {
      "text/plain": [
       "list"
      ]
     },
     "execution_count": 2,
     "metadata": {},
     "output_type": "execute_result"
    }
   ],
   "source": [
    "type(temperatures)"
   ]
  },
  {
   "cell_type": "markdown",
   "metadata": {
    "nbgrader": {
     "grade": true,
     "grade_id": "cell-34240bd2605d2f58",
     "locked": false,
     "points": 1,
     "schema_version": 3,
     "solution": true,
     "task": false
    }
   },
   "source": [
    "`temperatures` is a list object. "
   ]
  },
  {
   "cell_type": "markdown",
   "metadata": {},
   "source": [
    "b) Describe what the \"float()\" and \"append()\" commands do, respectively, that have been applied above. Try to leave out the \"float()\" command. What happens then? "
   ]
  },
  {
   "cell_type": "markdown",
   "metadata": {
    "nbgrader": {
     "grade": true,
     "grade_id": "cell-500e86f52b100e06",
     "locked": false,
     "points": 2,
     "schema_version": 3,
     "solution": true,
     "task": false
    }
   },
   "source": [
    "The \"float()\" method translates the entries in the rows of the file temperature into float objects (that is, numbers). Without it, the data would be read in as strings complete with line-break characters. The append command creates a list that adds the recorded temperatures row by row. That is, each row will become one entry. "
   ]
  },
  {
   "cell_type": "markdown",
   "metadata": {
    "nbgrader": {
     "grade": false,
     "grade_id": "cell-1ed6dd0ce4068fd0",
     "locked": true,
     "schema_version": 3,
     "solution": false,
     "task": false
    }
   },
   "source": [
    "c) How many temperatures have been recorded in the file?"
   ]
  },
  {
   "cell_type": "code",
   "execution_count": 3,
   "metadata": {
    "nbgrader": {
     "grade": true,
     "grade_id": "cell-4102cec12478cb95",
     "locked": false,
     "points": 0.5,
     "schema_version": 3,
     "solution": true,
     "task": false
    }
   },
   "outputs": [
    {
     "data": {
      "text/plain": [
       "828"
      ]
     },
     "execution_count": 3,
     "metadata": {},
     "output_type": "execute_result"
    }
   ],
   "source": [
    "len(temperatures)"
   ]
  },
  {
   "cell_type": "markdown",
   "metadata": {
    "nbgrader": {
     "grade": true,
     "grade_id": "cell-6ad7e392521a4a0e",
     "locked": false,
     "points": 0.5,
     "schema_version": 3,
     "solution": true,
     "task": false
    }
   },
   "source": [
    "828 temperatures have been recorded. "
   ]
  },
  {
   "cell_type": "markdown",
   "metadata": {
    "nbgrader": {
     "grade": false,
     "grade_id": "cell-5d583cf14544aa4b",
     "locked": true,
     "schema_version": 3,
     "solution": false,
     "task": false
    }
   },
   "source": [
    "d) What are the highest and lowest temperatures recorded?"
   ]
  },
  {
   "cell_type": "code",
   "execution_count": 4,
   "metadata": {
    "nbgrader": {
     "grade": true,
     "grade_id": "cell-31ed00b609d91dea",
     "locked": false,
     "points": 1,
     "schema_version": 3,
     "solution": true,
     "task": false
    }
   },
   "outputs": [
    {
     "name": "stdout",
     "output_type": "stream",
     "text": [
      "0.8\n",
      "28.2\n"
     ]
    }
   ],
   "source": [
    "print(min(temperatures))\n",
    "print(max(temperatures))"
   ]
  },
  {
   "cell_type": "markdown",
   "metadata": {
    "nbgrader": {
     "grade": true,
     "grade_id": "cell-c0b16d7f7383f06d",
     "locked": false,
     "points": 1,
     "schema_version": 3,
     "solution": true,
     "task": false
    }
   },
   "source": [
    "The lowest recorded monthly high temperature is 0.8 degrees Celsius and the highest recorded monthly high temperature is 28.2 degrees Celsius in this file. Instead of using min and max functions, you could have also sorted the list and looked at the first and last entry, respectively. "
   ]
  },
  {
   "cell_type": "markdown",
   "metadata": {
    "nbgrader": {
     "grade": false,
     "grade_id": "cell-7a234034741311d6",
     "locked": true,
     "schema_version": 3,
     "solution": false,
     "task": false
    }
   },
   "source": [
    "e) The first observation in the `temperatures` object is from a January 1948. Using only the commands you learned from chapter 5 (that is, using base python and no additional python libraries), find the the mean January high temperature at London Heathrow between the years 1948 and 2016. Have your code round your answer to two decimal digits accuracy and return the answer as a float.  "
   ]
  },
  {
   "cell_type": "code",
   "execution_count": 5,
   "metadata": {
    "nbgrader": {
     "grade": true,
     "grade_id": "cell-befa8725c629dacc",
     "locked": false,
     "points": 2,
     "schema_version": 3,
     "solution": true,
     "task": false
    }
   },
   "outputs": [
    {
     "data": {
      "text/plain": [
       "7.56"
      ]
     },
     "execution_count": 5,
     "metadata": {},
     "output_type": "execute_result"
    }
   ],
   "source": [
    "round(sum(temperatures[::12])/len(temperatures[::12]),2)"
   ]
  },
  {
   "cell_type": "markdown",
   "metadata": {
    "nbgrader": {
     "grade": false,
     "grade_id": "cell-339113f64bcb4534",
     "locked": true,
     "schema_version": 3,
     "solution": false,
     "task": false
    }
   },
   "source": [
    "f) Find the median monthly high temperature (using only the commands you learned from chapter 5 and base python, not using additional modules or libraries). Use Python to round your result to two after-decimal digits. State the result and explain briefly how you find the median in the markdown box below. "
   ]
  },
  {
   "cell_type": "code",
   "execution_count": 6,
   "metadata": {
    "nbgrader": {
     "grade": true,
     "grade_id": "cell-559818acd1c52615",
     "locked": false,
     "points": 1,
     "schema_version": 3,
     "solution": true,
     "task": false
    }
   },
   "outputs": [
    {
     "data": {
      "text/plain": [
       "[14.7, 14.7]"
      ]
     },
     "execution_count": 6,
     "metadata": {},
     "output_type": "execute_result"
    }
   ],
   "source": [
    "temperatures.sort()\n",
    "temperatures[413:415]"
   ]
  },
  {
   "cell_type": "markdown",
   "metadata": {
    "nbgrader": {
     "grade": true,
     "grade_id": "cell-522e5e9fef2c8465",
     "locked": false,
     "points": 1,
     "schema_version": 3,
     "solution": true,
     "task": false
    }
   },
   "source": [
    "Since the number of observations is even, the median is the average of the two \"middle\" observations which are both 14.7. Hence, the median monthly high temperature is 14.7 degrees Celsius. "
   ]
  },
  {
   "cell_type": "markdown",
   "metadata": {
    "nbgrader": {
     "grade": false,
     "grade_id": "cell-fba2aab074745cee",
     "locked": true,
     "schema_version": 3,
     "solution": false,
     "task": false
    }
   },
   "source": [
    "## Problem 2 \n",
    "\n",
    "Much of data science these days is based on text data. The text to be analyzed may be literature or postings on social media. The tasks to be performed could be sentiment analysis (trying to guess whether the writing is \"pro\" or \"con\" on a certain issue) to automatically detecting postings by Malicious bots. However, before you can perform any kind of machine learning procedure on a text, you have to first learn how to \"clean\" the text. That usually means removing all non-text elements and sometimes also removing filler words such as \"the\", \"it\", \"and\" etc. After that, what is usually analyzed is the frequency with which certain words appear and most often actually not the *order* in which they appear. \n",
    "\n",
    "The text below are the first three paragraphs of Franz Kafka's book \"Metamorphosis\". Our goal is to clean this text passage. "
   ]
  },
  {
   "cell_type": "code",
   "execution_count": 8,
   "metadata": {
    "nbgrader": {
     "grade": false,
     "grade_id": "cell-6b3f5de1cf97e9e0",
     "locked": true,
     "schema_version": 3,
     "solution": false,
     "task": false
    }
   },
   "outputs": [],
   "source": [
    "text = \"\"\"One morning, when Gregor Samsa woke from troubled dreams, he found\n",
    "himself transformed in his bed into a horrible vermin.  He lay on\n",
    "his armour-like back, and if he lifted his head a little he could\n",
    "see his brown belly, slightly domed and divided by arches into stiff\n",
    "sections.  The bedding was hardly able to cover it and seemed ready\n",
    "to slide off any moment.  His many legs, pitifully thin compared\n",
    "with the size of the rest of him, waved about helplessly as he\n",
    "looked.\n",
    "\n",
    "\"What's happened to me?\" he thought.  It wasn't a dream.  His room,\n",
    "a proper human room although a little too small, lay peacefully\n",
    "between its four familiar walls.  A collection of textile samples\n",
    "lay spread out on the table - Samsa was a travelling salesman - and\n",
    "above it there hung a picture that he had recently cut out of an\n",
    "illustrated magazine and housed in a nice, gilded frame.  It showed\n",
    "a lady fitted out with a fur hat and fur boa who sat upright,\n",
    "raising a heavy fur muff that covered the whole of her lower arm\n",
    "towards the viewer.\n",
    "\n",
    "Gregor then turned to look out the window at the dull weather.\n",
    "Drops of rain could be heard hitting the pane, which made him feel\n",
    "quite sad.  \"How about if I sleep a little bit longer and forget all\n",
    "this nonsense\", he thought, but that was something he was unable to\n",
    "do because he was used to sleeping on his right, and in his present\n",
    "state couldn't get into that position.  However hard he threw\n",
    "himself onto his right, he always rolled back to where he was.  He\n",
    "must have tried it a hundred times, shut his eyes so that he\n",
    "wouldn't have to look at the floundering legs, and only stopped when\n",
    "he began to feel a mild, dull pain there that he had never felt\n",
    "before.\"\"\""
   ]
  },
  {
   "cell_type": "markdown",
   "metadata": {
    "nbgrader": {
     "grade": false,
     "grade_id": "cell-4859f6c152b98634",
     "locked": true,
     "schema_version": 3,
     "solution": false,
     "task": false
    }
   },
   "source": [
    "a) Look at the text. What non-alphabetic character elements do you see in the text?"
   ]
  },
  {
   "cell_type": "markdown",
   "metadata": {
    "nbgrader": {
     "grade": true,
     "grade_id": "cell-b91c05534addb82e",
     "locked": false,
     "points": 1,
     "schema_version": 3,
     "solution": true,
     "task": false
    }
   },
   "source": [
    "The non-character elements in this text (that you can see) are: . , \" ' - ? There are also \"\\\\n\" and \"\\\\t\" characters (which you cannot see). "
   ]
  },
  {
   "cell_type": "markdown",
   "metadata": {
    "nbgrader": {
     "grade": false,
     "grade_id": "cell-48d73327e92845c7",
     "locked": true,
     "schema_version": 3,
     "solution": false,
     "task": false
    }
   },
   "source": [
    "b) Using only the commands covered in class so far (in base python without use of additional libraries), write code to remove all non-alphabetic characters (such as punctuation or hyphens)."
   ]
  },
  {
   "cell_type": "code",
   "execution_count": 9,
   "metadata": {
    "nbgrader": {
     "grade": true,
     "grade_id": "cell-4b64fbe18b6c49ed",
     "locked": false,
     "points": 2,
     "schema_version": 3,
     "solution": true,
     "task": false
    }
   },
   "outputs": [],
   "source": [
    "text = text.replace(\".\",\"\")\n",
    "text = text.replace(\",\",\"\")\n",
    "text = text.replace(\"\\'\",\"\")\n",
    "text = text.replace('\"',\"\")\n",
    "text = text.replace('?',\"\")\n",
    "text = text.replace(\"-\",\" \")\n",
    "#text = text.replace(\"\\n\", \" \") # optional, the split command will also take care of these. \n",
    "#text = text.replace(\"\\t\", \"\")"
   ]
  },
  {
   "cell_type": "markdown",
   "metadata": {
    "nbgrader": {
     "grade": false,
     "grade_id": "cell-d3b4342173920c17",
     "locked": true,
     "schema_version": 3,
     "solution": false,
     "task": false
    }
   },
   "source": [
    "c) Write code to make everything lower case and convert the text into a list of single words. "
   ]
  },
  {
   "cell_type": "code",
   "execution_count": 10,
   "metadata": {
    "nbgrader": {
     "grade": true,
     "grade_id": "cell-1f0da4f57b41fe5e",
     "locked": false,
     "points": 2,
     "schema_version": 3,
     "solution": true,
     "task": false
    }
   },
   "outputs": [],
   "source": [
    "text = text.lower()\n",
    "word_list = text.split()"
   ]
  },
  {
   "cell_type": "markdown",
   "metadata": {
    "nbgrader": {
     "grade": false,
     "grade_id": "cell-c6d3acee7f698a50",
     "locked": true,
     "schema_version": 3,
     "solution": false,
     "task": false
    }
   },
   "source": [
    "d) How many total words are in the list (if armour-like is considered to be two words)? Count, how often the word \"he\" appears in the three paragraphs. Don't count if \"he\" is part of another word, e.g., \"tHEn\". "
   ]
  },
  {
   "cell_type": "code",
   "execution_count": 11,
   "metadata": {
    "nbgrader": {
     "grade": true,
     "grade_id": "cell-6e885dd0313883a1",
     "locked": false,
     "points": 1,
     "schema_version": 3,
     "solution": true,
     "task": false
    }
   },
   "outputs": [
    {
     "name": "stdout",
     "output_type": "stream",
     "text": [
      "314\n"
     ]
    },
    {
     "data": {
      "text/plain": [
       "17"
      ]
     },
     "execution_count": 11,
     "metadata": {},
     "output_type": "execute_result"
    }
   ],
   "source": [
    "print(len(word_list))\n",
    "word_list.count(\"he\")"
   ]
  },
  {
   "cell_type": "markdown",
   "metadata": {
    "nbgrader": {
     "grade": true,
     "grade_id": "cell-fabf0ebc115053cf",
     "locked": false,
     "points": 1,
     "schema_version": 3,
     "solution": true,
     "task": false
    }
   },
   "source": [
    "There are 314 words. The word \"he\" appears 17 times. "
   ]
  },
  {
   "cell_type": "markdown",
   "metadata": {
    "nbgrader": {
     "grade": false,
     "grade_id": "cell-c0ad33a5db7f9482",
     "locked": true,
     "schema_version": 3,
     "solution": false,
     "task": false
    }
   },
   "source": [
    "e) How many distinct (different) words appear in the first three paragragraphs?"
   ]
  },
  {
   "cell_type": "code",
   "execution_count": 12,
   "metadata": {
    "nbgrader": {
     "grade": true,
     "grade_id": "cell-b7c0416724c28ac2",
     "locked": false,
     "points": 1,
     "schema_version": 3,
     "solution": true,
     "task": false
    }
   },
   "outputs": [
    {
     "data": {
      "text/plain": [
       "195"
      ]
     },
     "execution_count": 12,
     "metadata": {},
     "output_type": "execute_result"
    }
   ],
   "source": [
    "unique_words = set(word_list)\n",
    "len(unique_words)"
   ]
  },
  {
   "cell_type": "markdown",
   "metadata": {
    "nbgrader": {
     "grade": true,
     "grade_id": "cell-7f9326ad65184f44",
     "locked": false,
     "points": 1,
     "schema_version": 3,
     "solution": true,
     "task": false
    }
   },
   "source": [
    "There are 195 unique words. "
   ]
  }
 ],
 "metadata": {
  "celltoolbar": "Create Assignment",
  "kernelspec": {
   "display_name": "Python 3 (ipykernel)",
   "language": "python",
   "name": "python3"
  },
  "language_info": {
   "codemirror_mode": {
    "name": "ipython",
    "version": 3
   },
   "file_extension": ".py",
   "mimetype": "text/x-python",
   "name": "python",
   "nbconvert_exporter": "python",
   "pygments_lexer": "ipython3",
   "version": "3.9.13"
  }
 },
 "nbformat": 4,
 "nbformat_minor": 2
}
