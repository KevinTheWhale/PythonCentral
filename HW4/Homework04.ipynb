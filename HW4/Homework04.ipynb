{
 "cells": [
  {
   "cell_type": "markdown",
   "metadata": {},
   "source": [
    "Before you turn this homework in, make sure everything runs as expected. First, **restart the kernel** and then **run all cells** (in the menubar, select Kernel$\\rightarrow$Restart \\& Run all). If you get error messages, the grader will get the same errors and won't be able to grade your work. \n",
    "\n",
    "Make sure you fill in any place that says `YOUR CODE HERE` or \"YOUR ANSWER HERE\". You may delete the line(s) that say \"**raise** NotImplementedError()\" and replace them with your actual work. Write all your work in the cells provided in this notebook. **DO NOT** add or delete any cells. \n",
    "\n",
    "Please fill in your name in the cell below."
   ]
  },
  {
   "cell_type": "code",
   "execution_count": 1,
   "metadata": {},
   "outputs": [],
   "source": [
    "NAME = \"Kevin Pham\""
   ]
  },
  {
   "cell_type": "markdown",
   "metadata": {},
   "source": [
    "---"
   ]
  },
  {
   "cell_type": "markdown",
   "metadata": {
    "deletable": false,
    "editable": false,
    "nbgrader": {
     "cell_type": "markdown",
     "checksum": "6ebd25e0548583f7c366018f32178203",
     "grade": false,
     "grade_id": "cell-d52a593a8c020deb",
     "locked": true,
     "schema_version": 3,
     "solution": false,
     "task": false
    }
   },
   "source": [
    "# Homework 4\n",
    "\n",
    "In all problems below, please comment your code sufficiently well so that the grader can follow what you are doing with ease. For non-coding answers, please make sure to formulate your explanation and answers in the form of complete English sentences. It is not sufficient to just leave comments in the code (without a full sentence explanations in problems that ask for those) or vice versa (to leave full sentence explanations but not code comments). You will need both to get full credit. "
   ]
  },
  {
   "cell_type": "markdown",
   "metadata": {
    "deletable": false,
    "editable": false,
    "nbgrader": {
     "cell_type": "markdown",
     "checksum": "4ceca1bb8b27c313e58c1301ab13faa3",
     "grade": false,
     "grade_id": "cell-08e2c1b9a5e96a6c",
     "locked": true,
     "schema_version": 3,
     "solution": false,
     "task": false
    }
   },
   "source": [
    "## Problem 1\n",
    "\n",
    "(4 points) Write a function named \"border\" that takes as its input two integers n and m ($1 \\le n,m \\le 100$) and outputs a 2-dimensional NumPy array of size $(n,m)$. Your array should be filled with zeros except for the \"border\" (that is, the first and last column and the first and last row) which should be filled with ones. "
   ]
  },
  {
   "cell_type": "code",
   "execution_count": 2,
   "metadata": {
    "deletable": false,
    "nbgrader": {
     "cell_type": "code",
     "checksum": "f8d494b5fd6e517a3d1ee283fc13d652",
     "grade": true,
     "grade_id": "cell-d88b7ac9277ed9ae",
     "locked": false,
     "points": 0,
     "schema_version": 3,
     "solution": true,
     "task": false
    }
   },
   "outputs": [],
   "source": [
    "# COMPLETE\n",
    "# Takes in 2 ints\n",
    "# outputs a 2D array of size (nxm) \n",
    "# borders and corners should be ones\n",
    "\n",
    "import numpy as np\n",
    "\n",
    "def border(n, m):\n",
    "    \"\"\"Creates an array with shape (n, m) that is all zeros\n",
    "    except for the border (i.e., the first and last rows and\n",
    "    columns), which should be filled with ones.\"\"\"\n",
    "    # YOUR CODE HERE\n",
    "    new = np.zeros((n,m)) # make a matrix of zeroes\n",
    "    for i in range(n): # establish a nested loop\n",
    "        for j in range(m):\n",
    "            # change the border rows here\n",
    "            new[0,j] = 1 # top row\n",
    "            new[n-1,j] = 1 # bottom row\n",
    "            \n",
    "            # change the border columns here\n",
    "            new[i,0] = 1 # leftmost column\n",
    "            new[i,m-1] = 1 # rightmost column\n",
    "               \n",
    "    return new # return the edited matrix\n",
    "# Test\n",
    "    # raise NotImplementedError()"
   ]
  },
  {
   "cell_type": "code",
   "execution_count": 3,
   "metadata": {
    "deletable": false,
    "editable": false,
    "nbgrader": {
     "cell_type": "code",
     "checksum": "246a23e75e2fef2ef911463664681435",
     "grade": true,
     "grade_id": "cell-ac2448c418e1ed11",
     "locked": true,
     "points": 4,
     "schema_version": 3,
     "solution": false,
     "task": false
    }
   },
   "outputs": [
    {
     "name": "stdout",
     "output_type": "stream",
     "text": [
      "True\n",
      "True\n"
     ]
    }
   ],
   "source": [
    "# check that your function works as expected (if it does these checks should return \"True\")\n",
    "print(np.array_equal(border(3,3), np.array([[1, 1, 1], [1, 0, 1], [1, 1, 1]])))\n",
    "print(np.array_equal(border(4,5), np.array([[1., 1., 1., 1., 1.],\n",
    "       [1., 0., 0., 0., 1.],\n",
    "       [1., 0., 0., 0., 1.],\n",
    "       [1., 1., 1., 1., 1.]])))\n"
   ]
  },
  {
   "cell_type": "markdown",
   "metadata": {
    "deletable": false,
    "editable": false,
    "nbgrader": {
     "cell_type": "markdown",
     "checksum": "7270be8b427a620449c2cba3626552c5",
     "grade": false,
     "grade_id": "cell-ef495698be86d216",
     "locked": true,
     "schema_version": 3,
     "solution": false,
     "task": false
    }
   },
   "source": [
    "## Problem 2\n",
    "\n",
    "(a) (2 points) Suppose that x and y are both NumPy arrays of size $(1,n)$. \n",
    "Write a function that computes Pearson's sample correlation coefficient $r$ \n",
    "between the entries in x and y. \n",
    "\n",
    "Recall, that Pearson's sample correlation coefficient is defined as \n",
    "$$r(x,y) = \\frac{\\sum_{i=1}^n (x_i - \\bar{x})(y_i - \\bar{y})}{\\sqrt{\\sum\\limits_{i=1}^n (x_i - \\bar{x})^2 \\sum\\limits_{i=1}^n(y_i - \\bar{y})^2}} $$\n",
    "\n",
    "**Note:** Do *not* use the built in Numpy function ```np.corrcoef()```. Instead, please use Numpy ufuncs for sums, means, and squareroots."
   ]
  },
  {
   "cell_type": "code",
   "execution_count": 4,
   "metadata": {
    "deletable": false,
    "nbgrader": {
     "cell_type": "code",
     "checksum": "0d14252215c21f2d67a4d431b78536f4",
     "grade": true,
     "grade_id": "cell-9754a5d15b00302f",
     "locked": false,
     "points": 0,
     "schema_version": 3,
     "solution": true,
     "task": false
    }
   },
   "outputs": [],
   "source": [
    "# COMPLETE \n",
    "\n",
    "def pearsons_correlation(x, y):\n",
    "    \"\"\"Computes Pearson's correlation coefficient between vectors x and y.\"\"\"\n",
    "    # ESTABLISH COMPONENTS HERE\n",
    "    me_x = np.mean(x)\n",
    "    me_y = np.mean(y)\n",
    "    \n",
    "    # note: When doing component-wise multiplication (x*y) is already doing multiplication component-wise\n",
    "    numer = np.sum((x-me_x)*(y-me_y)) # numerator of the pearson coeff.\n",
    "    \n",
    "    # components of the denominator for pearson corr.\n",
    "    denom_01 = np.sum((x-me_x)**2)\n",
    "    denom_02 = np.sum((y-me_y)**2)\n",
    "    \n",
    "    # full denominator\n",
    "    denom = np.sqrt(denom_01*denom_02)\n",
    "    \n",
    "    pCoeff = numer/denom # compute full pearson corr.\n",
    "    \n",
    "    return pCoeff # return the corr.\n",
    "   \n",
    "    # YOUR CODE HERE\n",
    "    # raise NotImplementedError()\n",
    "\n",
    "\n",
    "x = np.random.random((1,10))\n",
    "y = np.random.random((1,10)) \n",
    "\n",
    "# what is the difference between manually doing 1/len(x)*sum(x) and mean(x)?\n"
   ]
  },
  {
   "cell_type": "code",
   "execution_count": 5,
   "metadata": {
    "deletable": false,
    "editable": false,
    "nbgrader": {
     "cell_type": "code",
     "checksum": "ba3fc6481da19320f8bc3c1ec5ca2391",
     "grade": true,
     "grade_id": "cell-521e67c6270b8d3a",
     "locked": true,
     "points": 2,
     "schema_version": 3,
     "solution": false,
     "task": false
    }
   },
   "outputs": [
    {
     "data": {
      "text/plain": [
       "True"
      ]
     },
     "execution_count": 5,
     "metadata": {},
     "output_type": "execute_result"
    }
   ],
   "source": [
    "# check that your function works\n",
    "# if it does, the comparison below should return \"True\"\n",
    "\n",
    "import numpy as np\n",
    "\n",
    "np.random.seed(10)\n",
    "n = 10\n",
    "x = np.random.random((1,10))\n",
    "y = np.random.random((1,10))    \n",
    "\n",
    "round(pearsons_correlation(x,y),6) == round(np.corrcoef(x,y)[0,1],6)\n",
    "# we're rounding, because the built-in NumPy method for correlation \n",
    "# may use more efficient arithmetic than we do in our home-made function. \n"
   ]
  },
  {
   "cell_type": "markdown",
   "metadata": {
    "deletable": false,
    "editable": false,
    "nbgrader": {
     "cell_type": "markdown",
     "checksum": "26505044becdc599585119ade13bee9f",
     "grade": false,
     "grade_id": "cell-e442fd55faf8a5da",
     "locked": true,
     "schema_version": 3,
     "solution": false,
     "task": false
    }
   },
   "source": [
    "(b) (6 points) Create a NumPy array filled with uniform(0,1) random values with n rows and m columns (for the combinations of n and m listed below). In each case, find the maximum of the Pearson correlation coefficients for each of the $\\binom{m}{2}$ pairs of columns in your array. \n",
    "\n",
    "That is, if the columns of your array are $x_1, \\ldots, x_m$, find \n",
    "$$\\max(r) = \\max\\limits_{a,b \\in \\{1,\\ldots,m\\}, a \\neq b} r(x_a, x_b)$$\n",
    "\n",
    "Enter the values you find into the table below (rounded to two after decimal digits)."
   ]
  },
  {
   "cell_type": "code",
   "execution_count": 6,
   "metadata": {
    "deletable": false,
    "nbgrader": {
     "cell_type": "code",
     "checksum": "41a0c38abdd31fac03a7be0283ce0550",
     "grade": true,
     "grade_id": "cell-20394b7ebd8256da",
     "locked": false,
     "points": 3,
     "schema_version": 3,
     "solution": true,
     "task": false
    }
   },
   "outputs": [
    {
     "name": "stdout",
     "output_type": "stream",
     "text": [
      "0.7339282571155442\n",
      "0.8176873855394016\n",
      "0.9272644039978728\n",
      "0.2642408264268438\n",
      "0.35895309673824183\n",
      "0.3861266885311635\n"
     ]
    }
   ],
   "source": [
    "# COMPLETE\n",
    "\n",
    "# Find the max pearson coeff.\n",
    "import numpy as np\n",
    "np.random.seed(10)\n",
    "\n",
    "def max_corr(n,m):\n",
    "    array = np.random.random((n,m)) \n",
    "    \"\"\"find maximum correlation between columns of (n,m) random uniform (0,1) array\"\"\"\n",
    "    \n",
    "    # 'm' total col. vectors and you will choose 2.\n",
    "    pearson_list = [] # empty list for each pearson coeff calculated.\n",
    "    \n",
    "    # choosing between the COLUMNS ONLY!\n",
    "    for i in range(m): # FIRST CHOICE\n",
    "        for j in range(m): # SECOND CHOICE\n",
    "            if(i < j): # accounts for repetitions and choosing 2 of the same col. arrays\n",
    "                pearson_list.append(pearsons_correlation(array[:,i],array[:,j])) # perform each pearson coeff and queue results\n",
    "                # note: array[:,i] -> Whatever row, ith column.\n",
    "    return np.max(pearson_list) # return the max result from that list\n",
    "                \n",
    "\n",
    "\n",
    "# Testing here performing the rows/cols of the below table:\n",
    "print(max_corr(10,20))\n",
    "print(max_corr(10,50))\n",
    "print(max_corr(10,100))\n",
    "print(max_corr(100,20))\n",
    "print(max_corr(100,50))\n",
    "print(max_corr(100,100))\n",
    "\n",
    "        \n",
    "    # YOUR CODE HERE\n",
    "    # raise NotImplementedError()"
   ]
  },
  {
   "cell_type": "markdown",
   "metadata": {
    "deletable": false,
    "editable": false,
    "nbgrader": {
     "cell_type": "markdown",
     "checksum": "5329aac73d517f77c5de3db217beee64",
     "grade": false,
     "grade_id": "cell-ca6ecb726083d277",
     "locked": true,
     "schema_version": 3,
     "solution": false,
     "task": false
    }
   },
   "source": [
    "|  rows n | columns m  | max(r)  |\n",
    "|:-:|:-:|:-:|\n",
    "| 10  | 20  | |\n",
    "| 10  | 50  |  |\n",
    "| 10  | 100  |  |\n",
    "| 100  | 20  |  |\n",
    "| 100  | 50  |  |\n",
    "| 100  | 100  |  |\n",
    "\n",
    "Copy and paste this table to the Markdown cell below and complete it. Describe what you observe. Is the maximal correlation between columns (representing features here) an increasing function of n (number of rows or cases)? Is an increasing function of m (number of features)?\n",
    "\n",
    "Since the data are entirely random, please note that any correlations you observe are entirely [spurious](https://www.tylervigen.com/spurious-correlations). "
   ]
  },
  {
   "cell_type": "markdown",
   "metadata": {
    "deletable": false,
    "nbgrader": {
     "cell_type": "markdown",
     "checksum": "19a92d05a6d179144ed558b75f0394e1",
     "grade": true,
     "grade_id": "cell-194e6a4ffc1e1d7f",
     "locked": false,
     "points": 3,
     "schema_version": 3,
     "solution": true,
     "task": false
    }
   },
   "source": [
    "|  rows n | columns m  | max(r)  |\n",
    "|:-:|:-:|:-:|\n",
    "| 10  | 20  |0.7339282571155442 |\n",
    "| 10  | 50  | 0.8176873855394016 |\n",
    "| 10  | 100  |0.9272644039978728  |\n",
    "| 100  | 20  |0.2642408264268438  |\n",
    "| 100  | 50  | 0.35895309673824183 |\n",
    "| 100  | 100  |0.3861266885311635  |\n",
    "\n",
    "\n",
    "It appears that whenever we have a lower 'n' with incremented 'm', we have a substantially maximal higher pearson correlation in contrast to higher 'n' with incremented 'm'. The rate at which the the maximums is also greater when we have lower 'n' in contrast to when we have higher 'n'. The maximal correlation between the columns is an increasing function of 'n'."
   ]
  },
  {
   "cell_type": "markdown",
   "metadata": {
    "deletable": false,
    "editable": false,
    "nbgrader": {
     "cell_type": "markdown",
     "checksum": "e67b5df8eba34ec68d6e0a74d28d4a1b",
     "grade": false,
     "grade_id": "cell-4f4a6888d3287d05",
     "locked": true,
     "schema_version": 3,
     "solution": false,
     "task": false
    }
   },
   "source": [
    "## Problem 3\n",
    "\n",
    "(4 points) Suppose that $X$ is a matrix with n rows and m columns. In statistics, these matrices arise freqently when we collect (numerical) data on m variables which are each observed on n independent individuals. Suppose we denote the columns of $X = (x_1, \\ldots, x_m)$. Then the covariance matrix of $X$ is defined as \n",
    "\n",
    "$$ \\mbox{Cov}(X) = \\left( \\begin{array}{cccc}\n",
    "Var(x_1) & Cov(x_1, x_2) & \\cdots & Cov(x_1, x_m) \\\\\n",
    "Cov(x_2, x_1) & Var(x_2) & \\cdots & Cov(x_2, x_m) \\\\\n",
    "\\vdots & \\vdots & \\ddots & \\vdots \\\\\n",
    "Cov(x_m, x_1) & Cov(x_m, x_2) & \\cdots & Var(x_m) \n",
    "\\end{array} \\right) $$\n",
    "\n",
    "where Var($x_i$) is the sample variance of the entries in the $i^{th}$ column of $X$ and Cov($x_i, x_j$) ($i \\neq j$) is the sample covariance of the entries in columns $i$ and $j$. \n",
    "\n",
    "$$ Cov(x_i, x_j) = \\frac{1}{n-1}\\sum\\limits_{k=1}^n (x_{ki} - \\bar{x}_i)(x_{kj}-\\bar{x_j})$$\n",
    "\n",
    "That is, the covariance matrix is a square $m\\times m$ matrix whose diagonal entries are the sample variances of the columns of $X$ and whose off-diagonal entries are covariances between two columns of $X$, respectively. \n",
    "\n",
    "Write *your own* function that takes a Numpy array of shape (n,m) as its input and returns the  Covariance matrix of the array. Do not use any built-in functions to compute variance and/or covariance. Write your own functions, instead. It's ok to use NumPy routines for sums, squares, or square-roots. \n",
    "\n",
    "Check your work by comparing your result to that of the ```np.cov()``` function applied to the same input."
   ]
  },
  {
   "cell_type": "code",
   "execution_count": 7,
   "metadata": {
    "deletable": false,
    "nbgrader": {
     "cell_type": "code",
     "checksum": "689676c99eebbc08cae6657252b8f121",
     "grade": true,
     "grade_id": "cell-4be095f622a53663",
     "locked": false,
     "points": 0,
     "schema_version": 3,
     "solution": true,
     "task": false
    }
   },
   "outputs": [],
   "source": [
    "# COMPLETE\n",
    "import numpy as np\n",
    "\n",
    "def covariance_matrix(X): # Define the function.\n",
    "    \"\"\" Finds the covariance matrix of (n,m) shaped array X\"\"\"\n",
    "    \n",
    "    # Traverse through each column even if it's a duplicate\n",
    "    col_num = len(X[0,:]) # total number of columns (m)\n",
    "    row_num = len(X[:,0]) # total number of rows per array (n)\n",
    "    cov_matrix = np.zeros((col_num,col_num)) # define an empty SQUARE matrix for all computed inputs\n",
    "    for i in range(col_num): # FIRST CHOICE\n",
    "        for j in range(col_num): # SECOND CHOICE\n",
    "            if(i == j): # SAMPLE VAR. CASE\n",
    "                # get the average\n",
    "                xbar = (1/row_num)*np.sum(X[:,i])\n",
    "                cov_matrix[i,i] = (1/(row_num-1))*sum((X[:,i]-xbar)**2)  # Assign the SAMPLE var. to the main diagonal position, MAKE YOUR OWN VARIANCE FUNCTION\n",
    "                # note: I am dumb and accidentally made the population variance algorithm at some point instead of the SAMPLE variance.\n",
    "            else:\n",
    "                # get the averages of xi and xj\n",
    "                xbar_i = (1/row_num)*np.sum(X[:,i])\n",
    "                xbar_j = (1/row_num)*np.sum(X[:,j])\n",
    "                \n",
    "                # Construct algorithm for covariance between the two column arrays with the given formula above.\n",
    "                cov_matrix[i,j] = (1/(row_num - 1))*sum((X[:,i] - xbar_i)*(X[:,j] - xbar_j))\n",
    "                \n",
    "    return cov_matrix # return the covariance matrix\n",
    "\n",
    "    # YOUR CODE HERE\n",
    "    # raise NotImplementedError()"
   ]
  },
  {
   "cell_type": "code",
   "execution_count": 8,
   "metadata": {
    "deletable": false,
    "editable": false,
    "nbgrader": {
     "cell_type": "code",
     "checksum": "786f91ef44ff1982e5877745776bc7f5",
     "grade": true,
     "grade_id": "cell-dc941a20c3689be5",
     "locked": true,
     "points": 4,
     "schema_version": 3,
     "solution": false,
     "task": false
    }
   },
   "outputs": [
    {
     "data": {
      "text/plain": [
       "True"
      ]
     },
     "execution_count": 8,
     "metadata": {},
     "output_type": "execute_result"
    }
   ],
   "source": [
    "## check your work\n",
    "X = np.random.random((5,3))  # or make up some other matrix for X \n",
    "np.array_equal(np.round(np.cov(X.T),4), np.round(covariance_matrix(X),4)) \n",
    "\n",
    "# again, we're rounding because your \"by-hand\" computation will differ slightly from NumPy's internal computations\n"
   ]
  },
  {
   "cell_type": "markdown",
   "metadata": {
    "deletable": false,
    "editable": false,
    "nbgrader": {
     "cell_type": "markdown",
     "checksum": "854f1c4e46ffd84f51af5fd2c3914c40",
     "grade": false,
     "grade_id": "cell-d9b5d806720e1dd1",
     "locked": true,
     "schema_version": 3,
     "solution": false,
     "task": false
    }
   },
   "source": [
    "## Problem 4\n",
    "\n",
    "The code below generates a NumPy array X of shape (12,8) filled with integers. Please don't change the seed."
   ]
  },
  {
   "cell_type": "code",
   "execution_count": 9,
   "metadata": {
    "deletable": false,
    "editable": false,
    "nbgrader": {
     "cell_type": "code",
     "checksum": "36330a051f62c327f26997cf18e75ebe",
     "grade": false,
     "grade_id": "cell-15df1d305d4a6c46",
     "locked": true,
     "schema_version": 3,
     "solution": false,
     "task": false
    }
   },
   "outputs": [
    {
     "data": {
      "text/plain": [
       "array([[9, 4, 0, 1, 9, 0, 1, 8],\n",
       "       [9, 0, 8, 6, 4, 3, 0, 4],\n",
       "       [6, 8, 1, 8, 4, 1, 3, 6],\n",
       "       [5, 3, 9, 6, 9, 1, 9, 4],\n",
       "       [2, 6, 7, 8, 8, 9, 2, 0],\n",
       "       [6, 7, 8, 1, 7, 1, 4, 0],\n",
       "       [8, 5, 4, 7, 8, 8, 2, 6],\n",
       "       [2, 8, 8, 6, 6, 5, 6, 0],\n",
       "       [0, 6, 9, 1, 8, 9, 1, 2],\n",
       "       [8, 9, 9, 5, 0, 2, 7, 3],\n",
       "       [0, 4, 2, 0, 3, 3, 1, 2],\n",
       "       [5, 9, 0, 1, 0, 1, 9, 0]])"
      ]
     },
     "execution_count": 9,
     "metadata": {},
     "output_type": "execute_result"
    }
   ],
   "source": [
    "import numpy as np\n",
    "\n",
    "np.random.seed(10)\n",
    "X = np.random.randint(10,size = (12,8)) \n",
    "X"
   ]
  },
  {
   "cell_type": "markdown",
   "metadata": {
    "deletable": false,
    "editable": false,
    "nbgrader": {
     "cell_type": "markdown",
     "checksum": "a0ca83f8fc195b1caf19121ac804cb8d",
     "grade": false,
     "grade_id": "cell-0e3f935dbeb324b8",
     "locked": true,
     "schema_version": 3,
     "solution": false,
     "task": false
    }
   },
   "source": [
    "(a) (2 points) Write a function called \"swap\" that takes as its input the array $X$ and two integers n and m ($ 1 \\le n,m \\le 12, n \\neq m$) and returns the matrix X in which rows n and m have been swapped. "
   ]
  },
  {
   "cell_type": "code",
   "execution_count": 10,
   "metadata": {
    "deletable": false,
    "nbgrader": {
     "cell_type": "code",
     "checksum": "14d9acf62452ca2a16e323f8cb924760",
     "grade": true,
     "grade_id": "cell-93c2f40bf4c9acbc",
     "locked": false,
     "points": 0,
     "schema_version": 3,
     "solution": true,
     "task": false
    }
   },
   "outputs": [],
   "source": [
    "# COMPLETE\n",
    "# input is a given array 'X' and two integers n,m.\n",
    "# swap the rows 'n' and 'm'\n",
    "def swap(X,n,m):\n",
    "    \"\"\"swaps rows n and m of array X\"\"\"\n",
    "    # assign to variables to make swapping easier? Make sure to account for row 0\n",
    "    row_n = X[n-1,:].copy() # choice 'n' row\n",
    "    row_m = X[m-1,:].copy() # choice 'm' row\n",
    "    \n",
    "    # Start replacing each row\n",
    "    X[n-1,:] = row_m # swap out row 'n' with row 'm'\n",
    "    X[m-1,:] = row_n # swap out row 'm' with row 'n'\n",
    "    \n",
    "    return X # return the new array 'X'\n",
    "\n",
    "        \n",
    "    # YOUR CODE HERE\n",
    "    # raise NotImplementedError()"
   ]
  },
  {
   "cell_type": "code",
   "execution_count": 11,
   "metadata": {
    "deletable": false,
    "editable": false,
    "nbgrader": {
     "cell_type": "code",
     "checksum": "b1f23a3892b9e78d59ed560aec10aa93",
     "grade": true,
     "grade_id": "cell-a578d9193efd5cad",
     "locked": true,
     "points": 2,
     "schema_version": 3,
     "solution": false,
     "task": false
    }
   },
   "outputs": [
    {
     "data": {
      "text/plain": [
       "True"
      ]
     },
     "execution_count": 11,
     "metadata": {},
     "output_type": "execute_result"
    }
   ],
   "source": [
    "# check your work\n",
    "np.array_equal(swap(X,1,2), np.array([[9, 0, 8, 6, 4, 3, 0, 4],\n",
    "       [9, 4, 0, 1, 9, 0, 1, 8],\n",
    "       [6, 8, 1, 8, 4, 1, 3, 6],\n",
    "       [5, 3, 9, 6, 9, 1, 9, 4],\n",
    "       [2, 6, 7, 8, 8, 9, 2, 0],\n",
    "       [6, 7, 8, 1, 7, 1, 4, 0],\n",
    "       [8, 5, 4, 7, 8, 8, 2, 6],\n",
    "       [2, 8, 8, 6, 6, 5, 6, 0],\n",
    "       [0, 6, 9, 1, 8, 9, 1, 2],\n",
    "       [8, 9, 9, 5, 0, 2, 7, 3],\n",
    "       [0, 4, 2, 0, 3, 3, 1, 2],\n",
    "       [5, 9, 0, 1, 0, 1, 9, 0]]))  \n"
   ]
  },
  {
   "cell_type": "markdown",
   "metadata": {
    "deletable": false,
    "editable": false,
    "nbgrader": {
     "cell_type": "markdown",
     "checksum": "b509f7e60a88e06f426efd2b143e69ab",
     "grade": false,
     "grade_id": "cell-c29fe23b05545cf5",
     "locked": true,
     "schema_version": 3,
     "solution": false,
     "task": false
    }
   },
   "source": [
    "(b) (2 points) Write a function called \"sort_by_column\" that takes as its input the array X and an integer k ($1\\le k \\le 8$) and sorts the rows of X by the values of column k. Numbers that were in the same row before, should still be in the same row. Don't worry about ties - if there are ties, I don't care how you order them. "
   ]
  },
  {
   "cell_type": "code",
   "execution_count": 12,
   "metadata": {
    "deletable": false,
    "nbgrader": {
     "cell_type": "code",
     "checksum": "bf5e3fc18398f0ce21b9091c22ae5203",
     "grade": true,
     "grade_id": "cell-1145135ea21a0d9f",
     "locked": false,
     "points": 2,
     "schema_version": 3,
     "solution": true,
     "task": false
    }
   },
   "outputs": [
    {
     "name": "stdout",
     "output_type": "stream",
     "text": [
      "[[9 0 8 6 4 3 0 4]\n",
      " [9 4 0 1 9 0 1 8]\n",
      " [6 8 1 8 4 1 3 6]\n",
      " [5 3 9 6 9 1 9 4]\n",
      " [2 6 7 8 8 9 2 0]\n",
      " [6 7 8 1 7 1 4 0]\n",
      " [8 5 4 7 8 8 2 6]\n",
      " [2 8 8 6 6 5 6 0]\n",
      " [0 6 9 1 8 9 1 2]\n",
      " [8 9 9 5 0 2 7 3]\n",
      " [0 4 2 0 3 3 1 2]\n",
      " [5 9 0 1 0 1 9 0]]\n",
      "[[2 6 7 8 8 9 2 0]\n",
      " [6 7 8 1 7 1 4 0]\n",
      " [2 8 8 6 6 5 6 0]\n",
      " [5 9 0 1 0 1 9 0]\n",
      " [0 6 9 1 8 9 1 2]\n",
      " [0 4 2 0 3 3 1 2]\n",
      " [8 9 9 5 0 2 7 3]\n",
      " [9 0 8 6 4 3 0 4]\n",
      " [5 3 9 6 9 1 9 4]\n",
      " [6 8 1 8 4 1 3 6]\n",
      " [8 5 4 7 8 8 2 6]\n",
      " [9 4 0 1 9 0 1 8]]\n"
     ]
    }
   ],
   "source": [
    "# COMPLETE\n",
    "def sort_by_column(X,k):\n",
    "    \"\"\" sort rows of X by values in column k\"\"\"\n",
    "    # When col 'k' (1,8) gets sorted, the order the values change in the column change for all the rows.\n",
    "    Y = X.copy() # make a copy of the original\n",
    "    \n",
    "    # Retrieve an array of just the ordered POSITIONS\n",
    "    col_order = np.argsort(Y[:,k-1])\n",
    "    for i in range(len(X[:,0])): # traverse by ordered positions and start swapping accordingly by what positions were changed in the column\n",
    "        X[i,:] = Y[col_order[i],:]\n",
    "    \n",
    "    return X # return the newly sorted array 'X'\n",
    "\n",
    "print(X)\n",
    "print(sort_by_column(X,8))\n",
    "    # YOUR CODE HERE\n",
    "    # raise NotImplementedError()"
   ]
  },
  {
   "cell_type": "code",
   "execution_count": null,
   "metadata": {},
   "outputs": [],
   "source": []
  }
 ],
 "metadata": {
  "kernelspec": {
   "display_name": "Python 3 (ipykernel)",
   "language": "python",
   "name": "python3"
  },
  "language_info": {
   "codemirror_mode": {
    "name": "ipython",
    "version": 3
   },
   "file_extension": ".py",
   "mimetype": "text/x-python",
   "name": "python",
   "nbconvert_exporter": "python",
   "pygments_lexer": "ipython3",
   "version": "3.9.7"
  }
 },
 "nbformat": 4,
 "nbformat_minor": 2
}
