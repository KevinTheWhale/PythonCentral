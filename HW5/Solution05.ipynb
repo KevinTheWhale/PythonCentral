{
 "cells": [
  {
   "cell_type": "markdown",
   "metadata": {
    "nbgrader": {
     "grade": false,
     "grade_id": "cell-d52a593a8c020deb",
     "locked": true,
     "schema_version": 3,
     "solution": false,
     "task": false
    }
   },
   "source": [
    "# Solution for Homework 5\n",
    "\n",
    "In all problems below, please comment your code sufficiently well so that the grader can follow what you are doing with ease. For non-coding answers, please make sure to formulate your explanation and answers in the form of complete English sentences. It is not sufficient to just leave comments in the code (without full sentence explanations in problems that ask for those) or vice versa (to leave full sentence explanations but not code comments). You will need both to get full credit. "
   ]
  },
  {
   "cell_type": "markdown",
   "metadata": {
    "nbgrader": {
     "grade": false,
     "grade_id": "cell-e67ddc33ea17b2b2",
     "locked": true,
     "schema_version": 3,
     "solution": false,
     "task": false
    }
   },
   "source": [
    "## Problem 1\n",
    "\n",
    "**Background:** A one-sample t-test can be used to decide whether or not a population mean is equal to a hypothesized value based on a sample drawn at random from a Normal population. More precisely, consider some measurable trait $X$ which has Normal distribution with mean $\\mu$ and variance $\\sigma^2$ in a population. Suppose we want to test the (one-sided) hypotheses \n",
    "\n",
    "$$ H_0: \\mu = \\mu_0 \\qquad \\mbox{ against } \\qquad H_a: \\mu > \\mu_0$$\n",
    "\n",
    "To perform a one-sample t-test for a data sample $(x_1, \\ldots, x_n)$, we would calculate the test statistic \n",
    "$$t = \\frac{\\bar{x} - \\mu_0}{s/\\sqrt{n}} \\sim t(n-1)$$\n",
    "where $\\bar{x} = \\frac{1}{n} \\sum\\limits_{i=1}^n x_i$ is the sample mean and $s = \\sqrt{\\frac{1}{n-1} \\sum\\limits_{i=1}^n (x_i - \\bar{x})^2}$ is the sample standard deviation. Then we would reject the null hypothesis in favor of the alternative at significance level $\\alpha$, whenever the calculated test statistic value $t$ exceeds the $(1-\\alpha)$-quantile of the t-distribution with n-1 degrees of freedom. \n",
    "\n",
    "The power of a statistical hypothesis test is defined as the probability to reject the null hyopothesis if the alternative hypothesis is true. The probability to reject the null hypothesis if it is actually true is called the type I error probability of the test. For a one-sample $t$-test the power depends on the sample size n, the effect size $\\frac{\\mu - \\mu_0}{\\sigma}$, and the significance level $\\alpha$. \n",
    "\n",
    "**End of Background**\n",
    "\n",
    "(a) Consider a Normal population with mean $\\mu$ and variance $\\sigma^2$. For random samples of size $n$ drawn from this population, we would like to find the power of a  1-sample t-test at significance level $\\alpha = 0.05$ for the hypotheses:\n",
    "\n",
    "$$ H_0: \\mu = \\mu_0 \\qquad \\mbox{ against } \\qquad H_a: \\mu > \\mu_0$$\n",
    "\n",
    "To simulate the power of this test, one would generate many independent samples of the same size n, find the t-test statistic value for each sample, compare them to the appropriate quantile and decide for each sample whether to reject the null hypothesis or not. The results can be used to estimate the power or type I error probability.\n",
    "\n",
    "Write a function called `simulate_power(n, alpha, mu, mu_0, sigma)` that estimates the power of this test based on $m=10,000$ simulated samples. To get you started, you can find code below to generate a random sample from a specific Normal distribution and to compute sample mean $\\bar{x}$ and sample standard deviation $s$ as well as the $(1-\\alpha)$ t-quantile. "
   ]
  },
  {
   "cell_type": "code",
   "execution_count": 1,
   "metadata": {
    "nbgrader": {
     "grade": true,
     "grade_id": "cell-7f13c7dc79d55f81",
     "locked": false,
     "points": 3,
     "schema_version": 3,
     "solution": true,
     "task": false
    }
   },
   "outputs": [],
   "source": [
    "from scipy import stats\n",
    "import numpy as np\n",
    "import math\n",
    "\n",
    "np.random.seed(10)\n",
    "\n",
    "# Example with specific parameter values\n",
    "mu = 8              # true population mean \n",
    "mu_0 = 5            # hypothesized population mean \n",
    "sigma = 10          # true population variance\n",
    "n=10                # sample size \n",
    "alpha = 0.05        # significance level \n",
    "m=10000             # number of independent samples simulated to estimate power\n",
    "                    # Note: power estimates should converge to about 2 decimals \n",
    "                    # for this m-value. \n",
    "\n",
    "sample = stats.norm(mu,sigma).rvs(n) # generate random sample\n",
    "x_bar = np.mean(sample)              # sample mean \n",
    "s = np.std(sample, ddof=1)           # sample standard deviation\n",
    "t = (x_bar-mu_0)/(s/math.sqrt(n))    # calculated t-test statistic\n",
    "quantile = stats.t(n-1).ppf(1-alpha) # quantile\n",
    "\n",
    "def simulate_power(n, alpha, mu, mu_0, sigma):\n",
    "\n",
    "    results = []\n",
    "    for i in range(m):\n",
    "        sample = stats.norm(mu,sigma).rvs(n) # generate random sample\n",
    "        x_bar = np.mean(sample)              # sample mean \n",
    "        s = np.std(sample, ddof=1)           # sample standard deviation\n",
    "        t = (x_bar-mu_0)/(s/math.sqrt(n))    # calculate t-test statistic\n",
    "        results.append(t>quantile)           # compare test statistic to quantile and record decision\n",
    "    return sum(results)/m                    # aggregate decisions to count errors. "
   ]
  },
  {
   "cell_type": "markdown",
   "metadata": {
    "nbgrader": {
     "grade": false,
     "grade_id": "cell-1cfc1866db5b33fa",
     "locked": true,
     "schema_version": 3,
     "solution": false,
     "task": false
    }
   },
   "source": [
    "(b) Use your function to estimate the power of the one-sided 1-sample t-test for different values of $\\mu$. Assume that $\\mu_0 =5$, $\\sigma = 10$, $n=10$, and $\\alpha = 0.05$. Consider the values $\\mu = 5,8,10,12$. Note, that if $\\mu=5$ the null hypothesis is actually true. Recall, that in that case, the probability to reject the null is the type I error of the test. In the other cases, you are estimating the power of the test. \n",
    "\n",
    "Copy the table below into your answer and fill in the type I error and power estimates you obtained. \n",
    "\n",
    "\n",
    "| population mean $\\mu$  | effect size  | estimated power |\n",
    "|:-:|:-:|:-:|\n",
    "| 5 | 0 | | \n",
    "    | 8  |     0.3  |   |\n",
    "| 10  | 0.5  |   |\n",
    "| 12  | 0.7|   |"
   ]
  },
  {
   "cell_type": "code",
   "execution_count": 2,
   "metadata": {
    "nbgrader": {
     "grade": true,
     "grade_id": "cell-ee779b9e332840b8",
     "locked": false,
     "points": 1,
     "schema_version": 3,
     "solution": true,
     "task": false
    }
   },
   "outputs": [
    {
     "name": "stdout",
     "output_type": "stream",
     "text": [
      "0.0454\n",
      "0.2212\n",
      "0.4336\n",
      "0.657\n"
     ]
    }
   ],
   "source": [
    "# repeat power simulations for different values of mu\n",
    "\n",
    "print(simulate_power(10, 0.05, 5, 5, 10))\n",
    "print(simulate_power(10, 0.05, 8, 5, 10))\n",
    "print(simulate_power(10, 0.05, 10, 5, 10))\n",
    "print(simulate_power(10, 0.05, 12, 5, 10))"
   ]
  },
  {
   "cell_type": "markdown",
   "metadata": {
    "nbgrader": {
     "grade": true,
     "grade_id": "cell-9d18f14246eae334",
     "locked": false,
     "points": 1,
     "schema_version": 3,
     "solution": true,
     "task": false
    }
   },
   "source": [
    "| population mean $\\mu$  | effect size  | estimated power | true calculated power |\n",
    "|:-:|:-:|:-:|:-:|\n",
    "| 5 | 0 | 0.0454 | 0.05 | \n",
    "    | 8  |     0.3  | 0.2212 | 0.2216 |\n",
    "| 10  | 0.5  | 0.4336  | 0.4273|\n",
    "| 12  | 0.7| 0.657  | 0.6548 | \n",
    "\n",
    "**Note:** your solution does not need to include the calculated power values. I am including them here for comparison. "
   ]
  },
  {
   "cell_type": "code",
   "execution_count": 3,
   "metadata": {
    "nbgrader": {
     "grade": false,
     "grade_id": "cell-db887dc6d0a73bd3",
     "locked": true,
     "schema_version": 3,
     "solution": false,
     "task": false
    }
   },
   "outputs": [
    {
     "data": {
      "text/plain": [
       "0.05000000000020677"
      ]
     },
     "execution_count": 3,
     "metadata": {},
     "output_type": "execute_result"
    }
   ],
   "source": [
    "# Check your work: In the statsmodels package, there is a function that can calculate the \n",
    "# theoretical power of 1-sample t-tests (if the test assumptions are met)\n",
    "# Note: I do NOT expect that your simulated power estimates are equal to these calculated \n",
    "# power values, but they should be close to the first two decimal digits for m=10000 simulated samples.\n",
    "\n",
    "import statsmodels.stats.power as smp\n",
    "import math\n",
    "\n",
    "mu = 5\n",
    "mu_0 = 5\n",
    "sigma = 10\n",
    "n=10\n",
    "\n",
    "smp.ttest_power((mu-mu_0)/sigma, nobs=n, alpha=0.05, alternative='larger')"
   ]
  },
  {
   "cell_type": "markdown",
   "metadata": {},
   "source": [
    "(c) The above power calculation from the `statsmodels` package is only valid if the assumption of the 1-sample t-test, which is that the data are a random sample from a **Normal** population are indeed satisfied. What happens to the power if that is not the case? Write a new simulation function called `simulate_power_uniform` for the same t-test \n",
    "\n",
    "$$ H_0: \\mu = 5 \\qquad \\mbox{ against } \\qquad H_a: \\mu > 5$$\n",
    "\n",
    "but in this case draw the sample of size $n=10$ from a continuous uniform(a,b) distribution with the same means $\\mu = \\frac{a+b}{2}$ (for $\\mu = 5,8,10,12$) and the same variance $\\frac{(b-a)^2}{12} = \\sigma^2 = 100$ as in the previous example. Recall, that Scipy Stats uses parameters loc = a and scale = b-a to define uniform random variables. \n",
    "\n",
    "| population distribution | population parameters | estimated power |\n",
    "|:-:|:-:|:-:|\n",
    "| Uniform | loc = $5 - \\frac{1}{2}\\sqrt{1200}$, scale = $\\sqrt{1200}$ |  | \n",
    "| Uniform   | loc = $8 - \\frac{1}{2}\\sqrt{1200}$, scale = $\\sqrt{1200}$ |    |\n",
    "| Uniform  |  loc = $10 - \\frac{1}{2}\\sqrt{1200}$, scale = $\\sqrt{1200}$  |  |\n",
    "| Uniform  | loc = $12 - \\frac{1}{2}\\sqrt{1200}$, scale = $\\sqrt{1200}$   |  |\n",
    "\n",
    "Cut and paste the table above into your answer Markdown box and complete it. What do you notice compared to the power of the t-test for normally distributed data? Is it a good idea to use a t-test for data that comes from a non-Normal distribution? Explain why or why not. "
   ]
  },
  {
   "cell_type": "code",
   "execution_count": 4,
   "metadata": {
    "nbgrader": {
     "grade": true,
     "grade_id": "cell-bcba82b129b9e5ee",
     "locked": false,
     "points": 2,
     "schema_version": 3,
     "solution": true,
     "task": false
    }
   },
   "outputs": [
    {
     "name": "stdout",
     "output_type": "stream",
     "text": [
      "0.0454\n",
      "0.206\n",
      "0.3985\n",
      "0.6295\n"
     ]
    }
   ],
   "source": [
    "# Example of drawing data from uniform(a,b) distribution \n",
    "\n",
    "n=10                   # sample size\n",
    "mu = 8                 # population mean (example)\n",
    "m = 10000              # number of simulated samples for power estimation\n",
    "\n",
    "scale = math.sqrt(12*100)      # scale = (b-a). Recall, that Var(U) = (b-a)^2/12\n",
    "loc = mu -0.5*scale            # loc is the lower bound of the uniform (loc = a)\n",
    "\n",
    "stats.uniform(loc = loc,scale = scale).rvs(n) # this code draws ONE uniform(a,b) sample of size n\n",
    "\n",
    "np.random.seed(10)\n",
    "m=10000\n",
    "\n",
    "def simulate_power_uniform(n, alpha, loc, scale, mu_0):\n",
    "    results = []\n",
    "    for i in range(m):\n",
    "        sample = stats.uniform(loc=loc, scale=scale).rvs(n) # generate random sample\n",
    "        x_bar = np.mean(sample)              # sample mean \n",
    "        s = np.std(sample, ddof=1)           # sample standard deviation\n",
    "        t = (x_bar-mu_0)/(s/math.sqrt(n))\n",
    "        results.append(t>quantile)\n",
    "    return sum(results)/m\n",
    "\n",
    "print(simulate_power_uniform(10,0.05, 5-0.5*math.sqrt(12*100), math.sqrt(12*100), 5))\n",
    "print(simulate_power_uniform(10,0.05, 8-0.5*math.sqrt(12*100), math.sqrt(12*100),  5))\n",
    "print(simulate_power_uniform(10,0.05, 10-0.5*math.sqrt(12*100), math.sqrt(12*100), 5))\n",
    "print(simulate_power_uniform(10,0.05, 12-0.5*math.sqrt(12*100), math.sqrt(12*100), 5))"
   ]
  },
  {
   "cell_type": "markdown",
   "metadata": {
    "nbgrader": {
     "grade": true,
     "grade_id": "cell-a14cddf597049d12",
     "locked": false,
     "points": 2,
     "schema_version": 3,
     "solution": true,
     "task": false
    }
   },
   "source": [
    "| population distribution | population parameters | estimated power |\n",
    "|:-:|:-:|:-:|\n",
    "| Uniform | loc = $5 - \\frac{1}{2}\\sqrt{1200}$, scale = $\\sqrt{1200}$ | 0.0454 | \n",
    "| Uniform   | loc = $8 - \\frac{1}{2}\\sqrt{1200}$, scale = $\\sqrt{1200}$ | 0.206   |\n",
    "| Uniform  |  loc = $10 - \\frac{1}{2}\\sqrt{1200}$, scale = $\\sqrt{1200}$  | 0.3985 |\n",
    "| Uniform  | loc = $12 - \\frac{1}{2}\\sqrt{1200}$, scale = $\\sqrt{1200}$   | 0.6295 |\n",
    "\n",
    "\n",
    "If the data are uniformly distributed, then the (estimated) power of the t-test procedure is lower compared to normally distributed data while the type I error probability stays about the same. "
   ]
  },
  {
   "cell_type": "markdown",
   "metadata": {
    "nbgrader": {
     "grade": false,
     "grade_id": "cell-5001ea8e93e8e42d",
     "locked": true,
     "schema_version": 3,
     "solution": false,
     "task": false
    }
   },
   "source": [
    "## Problem 2\n",
    "\n",
    "Conway's [game of life](https://en.wikipedia.org/wiki/Conway%27s_Game_of_Life) is a cellular automaton. There aren't any actual players in this \"game\". Instead the game board evolves according to some specific rules. In this problem, we will simlulate a game board for the game-of-life and study its evolution. Check out [this website](https://academo.org/demos/conways-game-of-life/) if you would like to make your own game board and watch it evolve. \n",
    "\n",
    "Consider a two-dimensional $m \\times n$ grid (think two-dimensional NumPy array). Each entry in the array is either 1 (represents a \"live\" cell) or 0 (represents a dead cell). Time is discrete. That is, we consider time points $t_1, t_2 \\ldots$. \n",
    "\n",
    "Here are the rules for evolution from some time point $t_n$ to the next $t_{n+1}$:\n",
    "\n",
    "- Any live cell with fewer than two live neighbours dies, as if by underpopulation.\n",
    "- Any live cell with two or three live neighbours lives on to the next generation.\n",
    "- Any live cell with more than three live neighbours dies, as if by overpopulation.\n",
    "- Any dead cell with exactly three live neighbours becomes a live cell, as if by reproduction.\n",
    "\n",
    "Please note, that changes are only implemented in the next time-step. That means for each cell in the array, we will apply the above rules to decide whether it will live or die and then implement the changed board for the next time step after evaluating all cells. We will assume that the board has a torus structure. That means cells in the upper-most row are assumed to neighbor the cells in the lower-most row and similarly, the cells in the left-most column are assumed to neighbor the cells in the right-most column.\n",
    "\n",
    "**Example**: each cell on the board has eight neighbors. The four cells to the top, bottom, left, and right as well as the four diagonally bordering cells. In the $5 \\times 5$ example shown below, the eight neighbors of the black cell at (0,0) are shown in red. Execute the code below to see the image. "
   ]
  },
  {
   "cell_type": "code",
   "execution_count": 1,
   "metadata": {
    "nbgrader": {
     "grade": false,
     "grade_id": "cell-250e77f28885f4b8",
     "locked": true,
     "schema_version": 3,
     "solution": false,
     "task": false
    }
   },
   "outputs": [
    {
     "data": {
      "image/png": "[encoded data removed]",
      "text/plain": [
       "<Figure size 640x480 with 1 Axes>"
      ]
     },
     "metadata": {},
     "output_type": "display_data"
    }
   ],
   "source": [
    "import numpy as np\n",
    "import matplotlib.pyplot as plt\n",
    "\n",
    "a = 2*np.ones((5, 5), int) # make numpy array with data\n",
    "a[0,0] = 0                 # black cell\n",
    "a[0,1] = a[1,0] = a[1,1] = a[4,4] = a[4,0] = a[4,1] = a[0,4] = a[1,4] = 1 # red cells\n",
    "plt.imshow(a, cmap='hot');            # create heatmap 0 is black, 1 is red, 2 is white\n",
    "                                      # don't worry - you don't have to understand the plot commands, yet. "
   ]
  },
  {
   "cell_type": "markdown",
   "metadata": {
    "nbgrader": {
     "grade": false,
     "grade_id": "cell-71ba0963ca8206d3",
     "locked": true,
     "schema_version": 3,
     "solution": false,
     "task": false
    }
   },
   "source": [
    "(a) (2 points) Write a function called `valid_board()` that determines whether a $m\\times n$ numpy array is a valid game-of-life board. That means that your function should return the boolean value `True` if every entry in the array is either 0 or 1 and otherwise should return `False`. "
   ]
  },
  {
   "cell_type": "code",
   "execution_count": 6,
   "metadata": {
    "nbgrader": {
     "grade": true,
     "grade_id": "cell-df1254b47a71068d",
     "locked": false,
     "points": 0,
     "schema_version": 3,
     "solution": true,
     "task": false
    }
   },
   "outputs": [],
   "source": [
    "def valid_board(array):\n",
    "    \"\"\"checks whether NumPy array is valid game board for game-of-life\"\"\"\n",
    "    return ((array==0)|(array==1)).all()\n",
    "\n",
    "    # create boolean for each entry which is true if the entry is either 0 or 1. \n",
    "    # Return True if all entries of the mask are True"
   ]
  },
  {
   "cell_type": "code",
   "execution_count": 7,
   "metadata": {
    "nbgrader": {
     "grade": true,
     "grade_id": "cell-44ded26717289dfd",
     "locked": true,
     "points": 2,
     "schema_version": 3,
     "solution": false,
     "task": false
    }
   },
   "outputs": [
    {
     "data": {
      "text/plain": [
       "True"
      ]
     },
     "execution_count": 7,
     "metadata": {},
     "output_type": "execute_result"
    }
   ],
   "source": [
    "# Check that your function works as it is supposed to \n",
    "valid_board(np.array([[0,1,0],[1,1,0]]))==True\n",
    "valid_board(np.array([[0,3,0],[-1,1,0]]))==False"
   ]
  },
  {
   "cell_type": "markdown",
   "metadata": {
    "nbgrader": {
     "grade": false,
     "grade_id": "cell-e9b7de9967373330",
     "locked": true,
     "schema_version": 3,
     "solution": false,
     "task": false
    }
   },
   "source": [
    "(b) (5 points) Write a function called `evolution()` that takes as its input a two-dimendional Numpy array. Check, whether the array is a valid game-of-life board. If it is, return the board at the next evolution time step (that is apply the above rules to every cell and return a game board with live or dead cells one time step later). If the board is not valid, return the print statement \"your board is not valid\". \n",
    "\n",
    "Don't forget to comment your code!"
   ]
  },
  {
   "cell_type": "code",
   "execution_count": 8,
   "metadata": {
    "nbgrader": {
     "grade": true,
     "grade_id": "cell-913c67203c7a5103",
     "locked": false,
     "points": 0,
     "schema_version": 3,
     "solution": true,
     "task": false
    }
   },
   "outputs": [],
   "source": [
    "def evolution(array):\n",
    "    \"\"\"evolves game board for game-of-life for one time-step\"\"\"\n",
    "    if valid_board(array):\n",
    "        a = array # making the name shorter so that we don't have to type so much\n",
    "        m,n = a.shape # find shape (rows, columns) of input array\n",
    "                      # we're making a new array with two more rows and two more \n",
    "                      # columns by replicating the \"border\" rows/columns on the respective other sides.   \n",
    "                \n",
    "        b = (-1)*np.ones((m,n)) # make new array for the next time step (currently filled with negative ones)\n",
    "        \n",
    "        left = a[:,0] # replicate left-most and right-most column\n",
    "        right = a[:,n-1]\n",
    "\n",
    "        new_a = np.concatenate((right[:, np.newaxis],a, left[:,np.newaxis]), axis = 1) # glue on right,left\n",
    "        \n",
    "        top = new_a[0,:] # replicate top and bottom row (already includes \"corners\") \n",
    "        bottom = new_a[m-1,:]\n",
    "        \n",
    "        new_a = np.concatenate((bottom[np.newaxis,:],new_a, top[np.newaxis,:]), axis = 0) # glue on top, bottom\n",
    "        \n",
    "        for r in range(1,m+1):\n",
    "            for c in range(1,n+1): # go through each cell in original array \n",
    "                \n",
    "                cell = new_a[r,c]  # value of the cell itself\n",
    "                neighbors = new_a[r-1:r+2, c-1:c+2] # neighbor arrays (inlcudes cell itself at the center)\n",
    "\n",
    "                if cell == 1:  # for live cells\n",
    "                    if np.sum(neighbors)-cell <2: # if there are fewer than 2 live neighbors, kill the cell\n",
    "                        b[r-1,c-1] = 0\n",
    "                    elif np.sum(neighbors)-cell >3: # if there are more than 3 live neighbors, kill the cell\n",
    "                        b[r-1,c-1] = 0\n",
    "                    else:                        # if there are 2 or 3 live neighbors, cell stays alive\n",
    "                        b[r-1,c-1] = 1\n",
    "                    \n",
    "                if cell == 0:  # for dead cells\n",
    "                    if np.sum(neighbors) ==3: # if there are exactly three live neighbors, cell comes alive\n",
    "                        b[r-1,c-1] = 1\n",
    "                    else:                  # otherwise it stays dead\n",
    "                        b[r-1,c-1] = 0\n",
    "                        \n",
    "        return b\n",
    "        \n",
    "    else:\n",
    "        return print(\"your board is not valid\")"
   ]
  },
  {
   "cell_type": "markdown",
   "metadata": {
    "nbgrader": {
     "grade": false,
     "grade_id": "cell-d1f88e07e1278b59",
     "locked": true,
     "schema_version": 3,
     "solution": false,
     "task": false
    }
   },
   "source": [
    "**Optional:** If you are not able to implement the `evolution()` function above, provide a written description of your algorithm here instead for potential partial credit. "
   ]
  },
  {
   "cell_type": "markdown",
   "metadata": {
    "nbgrader": {
     "grade": true,
     "grade_id": "cell-5c9b5e32ba2fbf53",
     "locked": false,
     "points": 0,
     "schema_version": 3,
     "solution": true,
     "task": false
    }
   },
   "source": [
    "Algorithm description:"
   ]
  },
  {
   "cell_type": "code",
   "execution_count": 9,
   "metadata": {
    "nbgrader": {
     "grade": true,
     "grade_id": "cell-93251a291726e494",
     "locked": true,
     "points": 5,
     "schema_version": 3,
     "solution": false,
     "task": false
    }
   },
   "outputs": [
    {
     "data": {
      "text/plain": [
       "array([[ True,  True,  True,  True,  True],\n",
       "       [ True,  True,  True,  True,  True],\n",
       "       [ True,  True,  True,  True,  True],\n",
       "       [ True,  True,  True,  True,  True],\n",
       "       [ True,  True,  True,  True,  True]])"
      ]
     },
     "execution_count": 9,
     "metadata": {},
     "output_type": "execute_result"
    }
   ],
   "source": [
    "# Check your evolution function \n",
    "\n",
    "evolution(np.array([[1, 0, 0, 1, 0],\n",
    "       [0, 0, 1, 0, 0],\n",
    "       [0, 1, 0, 0, 1],\n",
    "       [0, 1, 0, 1, 1],\n",
    "       [0, 0, 0, 0, 0]]))==np.array([[0., 0., 0., 0., 0.],\n",
    "       [1., 1., 1., 1., 1.],\n",
    "       [0., 1., 0., 0., 1.],\n",
    "       [0., 0., 1., 1., 1.],\n",
    "       [1., 0., 1., 1., 0.]])"
   ]
  },
  {
   "cell_type": "markdown",
   "metadata": {
    "nbgrader": {
     "grade": false,
     "grade_id": "cell-4990640d655a5eaa",
     "locked": true,
     "schema_version": 3,
     "solution": false,
     "task": false
    }
   },
   "source": [
    "**Remark:** The function `print_board()` defined below takes a $m \\times n$ NumPy array as its input and returns a printed image of the live (black) and dead (white) cells. Execute the code below to define the function. "
   ]
  },
  {
   "cell_type": "code",
   "execution_count": 10,
   "metadata": {
    "nbgrader": {
     "grade": false,
     "grade_id": "cell-ff6a95c41f5f4046",
     "locked": true,
     "schema_version": 3,
     "solution": false,
     "task": false
    }
   },
   "outputs": [],
   "source": [
    "import numpy as np\n",
    "import matplotlib.pyplot as plt\n",
    "\n",
    "def print_board(array):\n",
    "    \"\"\"visualizes game board for game of life\"\"\"\n",
    "    plt.imshow(array, cmap = 'binary');"
   ]
  },
  {
   "cell_type": "markdown",
   "metadata": {
    "nbgrader": {
     "grade": false,
     "grade_id": "cell-d4f40477e9d9e311",
     "locked": true,
     "schema_version": 3,
     "solution": false,
     "task": false
    }
   },
   "source": [
    "(c) (4 points) Use either NumPy or Scipy to generate a game-of-life board of size $10 \\times 10$ in which each cell is a Bernoulli(p) random variable. That is, assume that cells are independent and that each value is 1 with probability p or otherwise 0. Start with p=0.5. Look at your initial board (you don't have to show the image). Show the visualization of the board after 100 steps of evolution. Repeat this process for a number of different random seeds (at least 10 different seeds). You do not have to show us your plots (you can only show one plot at a time per Juypter Notebook cell with the `print_board()` function). What happens if you start with a different (larger, smaller) value of p? Please describe what you observe. "
   ]
  },
  {
   "cell_type": "code",
   "execution_count": 34,
   "metadata": {
    "nbgrader": {
     "grade": true,
     "grade_id": "cell-c31ce8e6272572e0",
     "locked": false,
     "points": 2,
     "schema_version": 3,
     "solution": true,
     "task": false
    }
   },
   "outputs": [
    {
     "data": {
      "image/png": "[encoded data removed]",
      "text/plain": [
       "<Figure size 640x480 with 1 Axes>"
      ]
     },
     "metadata": {},
     "output_type": "display_data"
    }
   ],
   "source": [
    "p = 0.5\n",
    "\n",
    "#np.random.seed(10)\n",
    "gol = np.random.binomial(1,p,(10,10))    \n",
    "#print_board(gol) # visualize original random board\n",
    "\n",
    "for i in range(100):\n",
    "    gol = evolution(gol)\n",
    "        \n",
    "print_board(gol) #visualize board after 100 steps"
   ]
  },
  {
   "cell_type": "markdown",
   "metadata": {
    "nbgrader": {
     "grade": true,
     "grade_id": "cell-4ddc784173123670",
     "locked": false,
     "points": 2,
     "schema_version": 3,
     "solution": true,
     "task": false
    }
   },
   "source": [
    "When we start with p=0.5, there are sometimes several shapes and sometimes none. For larger values of p (e.g., p=0.8) we are much more likely to end up with an all blank board. For smaller values of p (e.g., p=0.3) the board is often blank and has sometimes regular figures (regular in the sense that they are still lifes or oscillators). The more extreme p is (closer to 0 or 1) the more likely are we to see an all blank board after 100 iterations. If the board is not blank for more extreme values of p, then the shapes that remain are regular. "
   ]
  }
 ],
 "metadata": {
  "celltoolbar": "Create Assignment",
  "kernelspec": {
   "display_name": "Python 3 (ipykernel)",
   "language": "python",
   "name": "python3"
  },
  "language_info": {
   "codemirror_mode": {
    "name": "ipython",
    "version": 3
   },
   "file_extension": ".py",
   "mimetype": "text/x-python",
   "name": "python",
   "nbconvert_exporter": "python",
   "pygments_lexer": "ipython3",
   "version": "3.9.13"
  }
 },
 "nbformat": 4,
 "nbformat_minor": 2
}
