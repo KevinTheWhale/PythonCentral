{
 "cells": [
  {
   "cell_type": "markdown",
   "metadata": {},
   "source": [
    "Before you turn this homework in, make sure everything runs as expected. First, **restart the kernel** and then **run all cells** (in the menubar, select Kernel$\\rightarrow$Restart \\& Run all). If you get error messages, the grader will get the same errors and won't be able to grade your work. \n",
    "\n",
    "Make sure you fill in any place that says `YOUR CODE HERE` or \"YOUR ANSWER HERE\". You may delete the line(s) that say \"**raise** NotImplementedError()\" and replace them with your actual work. Write all your work in the cells provided in this notebook. **DO NOT** add or delete any cells. \n",
    "\n",
    "Please fill in your name in the cell below."
   ]
  },
  {
   "cell_type": "code",
   "execution_count": null,
   "metadata": {},
   "outputs": [],
   "source": [
    "NAME = \"Kevin Pham\""
   ]
  },
  {
   "cell_type": "markdown",
   "metadata": {},
   "source": [
    "---"
   ]
  },
  {
   "cell_type": "markdown",
   "metadata": {
    "deletable": false,
    "editable": false,
    "nbgrader": {
     "cell_type": "markdown",
     "checksum": "14dca6b286e1119dbd8bfa6307e2703d",
     "grade": false,
     "grade_id": "cell-d52a593a8c020deb",
     "locked": true,
     "schema_version": 3,
     "solution": false,
     "task": false
    }
   },
   "source": [
    "# Homework 5\n",
    "\n",
    "In all problems below, please comment your code sufficiently well so that the grader can follow what you are doing with ease. For non-coding answers, please make sure to formulate your explanation and answers in the form of complete English sentences. It is not sufficient to just leave comments in the code (without full sentence explanations in problems that ask for those) or vice versa (to leave full sentence explanations but not code comments). You will need both to get full credit. "
   ]
  },
  {
   "cell_type": "markdown",
   "metadata": {
    "deletable": false,
    "editable": false,
    "nbgrader": {
     "cell_type": "markdown",
     "checksum": "60f570473fa4eec87663560216f1e6bb",
     "grade": false,
     "grade_id": "cell-e67ddc33ea17b2b2",
     "locked": true,
     "schema_version": 3,
     "solution": false,
     "task": false
    }
   },
   "source": [
    "## Problem 1\n",
    "\n",
    "**Background:** A one-sample t-test can be used to decide whether or not a population mean is equal to a hypothesized value based on a sample drawn at random from a Normal population. More precisely, consider some measurable trait $X$ which has Normal distribution with mean $\\mu$ and variance $\\sigma^2$ in a population. Suppose we want to test the (one-sided) hypotheses \n",
    "\n",
    "$$ H_0: \\mu = \\mu_0 \\qquad \\mbox{ against } \\qquad H_a: \\mu > \\mu_0$$\n",
    "\n",
    "To perform a one-sample t-test for a data sample $(x_1, \\ldots, x_n)$, we would calculate the test statistic \n",
    "$$t = \\frac{\\bar{x} - \\mu_0}{s/\\sqrt{n}} \\sim t(n-1)$$\n",
    "where $\\bar{x} = \\frac{1}{n} \\sum\\limits_{i=1}^n x_i$ is the sample mean and $s = \\sqrt{\\frac{1}{n-1} \\sum\\limits_{i=1}^n (x_i - \\bar{x})^2}$ is the sample standard deviation. Then we would reject the null hypothesis in favor of the alternative at significance level $\\alpha$, whenever the calculated test statistic value $t$ exceeds the $(1-\\alpha)$-quantile of the t-distribution with n-1 degrees of freedom. \n",
    "\n",
    "The power of a statistical hypothesis test is defined as the probability to reject the null hyopothesis if the alternative hypothesis is true. The probability to reject the null hypothesis if it is actually true is called the type I error probability of the test. For a one-sample $t$-test the power depends on the sample size n, the effect size $\\frac{\\mu - \\mu_0}{\\sigma}$, and the significance level $\\alpha$. \n",
    "\n",
    "**End of Background**\n",
    "\n",
    "(a) Consider a Normal population with mean $\\mu$ and variance $\\sigma^2$. For random samples of size $n$ drawn from this population, we would like to find the power of a  1-sample t-test at significance level $\\alpha = 0.05$ for the hypotheses:\n",
    "\n",
    "$$ H_0: \\mu = \\mu_0 \\qquad \\mbox{ against } \\qquad H_a: \\mu > \\mu_0$$\n",
    "\n",
    "To simulate the power of this test, one would generate many independent samples of the same size n, find the t-test statistic value for each sample, compare them to the appropriate quantile and decide for each sample whether to reject the null hypothesis or not. The results can be used to estimate the power or type I error probability.\n",
    "\n",
    "Write a function called `simulate_power(n, alpha, mu, mu_0, sigma)` that estimates the power of this test based on $m=10,000$ simulated samples. To get you started, you can find code below to generate a random sample from a specific Normal distribution and to compute sample mean $\\bar{x}$ and sample standard deviation $s$ as well as the $(1-\\alpha)$ t-quantile. "
   ]
  },
  {
   "cell_type": "code",
   "execution_count": 22,
   "metadata": {
    "deletable": false,
    "nbgrader": {
     "cell_type": "code",
     "checksum": "5a96164160d36f68b18bdb3b3922af55",
     "grade": true,
     "grade_id": "cell-7f13c7dc79d55f81",
     "locked": false,
     "points": 3,
     "schema_version": 3,
     "solution": true,
     "task": false
    }
   },
   "outputs": [
    {
     "name": "stdout",
     "output_type": "stream",
     "text": [
      "0.05\n"
     ]
    }
   ],
   "source": [
    "# COMPLETE\n",
    "from scipy import stats\n",
    "import numpy as np\n",
    "import math\n",
    "\n",
    "np.random.seed(10)\n",
    "\n",
    "# Example with specific parameter values\n",
    "mu = 8              # true population mean \n",
    "mu_0 = 5            # hypothesized population mean \n",
    "sigma = 10          # true population variance\n",
    "n=10                # sample size \n",
    "alpha = 0.05        # significance level \n",
    "m=10000             # number of independent samples simulated to estimate power\n",
    "                    # Note: power estimates should converge to about 2 decimals \n",
    "                    # for this m-value. \n",
    "\n",
    "sample = stats.norm(mu,sigma).rvs(n) # generate random sample\n",
    "x_bar = np.mean(sample)              # sample mean \n",
    "s = np.std(sample, ddof=1)           # sample standard deviation\n",
    "t = (x_bar-mu_0)/(s/math.sqrt(n))    # calculated t-test statistic\n",
    "quantile = stats.t(n-1).ppf(1-alpha) # quantile for alp = 0.05\n",
    "\n",
    "# POWER OF A TEST or TYPE I ERROR\n",
    "def simulate_power(n, alpha, mu, mu_0, sigma): #given sample size 'n', significance 'alpha', true mean mu, hyp mean mu_0, true SD sigma\n",
    "    # note: Power is the probability of rejecting the null hypothesis when in fact it is false. (1 - beta)\n",
    "    # YOUR CODE HERE\n",
    "    # bounds: only an upper bound. Anything less we accept, otherwise we reject.\n",
    "    # Declare a success counter for all the times the 'Test stat' has been false\n",
    "    success = 0\n",
    "    \n",
    "    # declare the desired quantile\n",
    "    quantile = stats.t(n-1).ppf(1-alpha)\n",
    "    \n",
    "    for i in range(m): # get 'm' simulated samples\n",
    "        sample = stats.norm(mu,sigma).rvs(n) # declare the ith random sample of a normal dist.\n",
    "        x_bar = np.mean(sample) # xbar of that random sample\n",
    "        s = np.std(sample,ddof = 1) # sample sd of the random sample\n",
    "        \n",
    "        # perform the test stat\n",
    "        test = (x_bar-mu_0)/(s/math.sqrt(n))\n",
    "        if(test > quantile): # Check if it falls within the rejection region\n",
    "            success += 1 # increment if it's true, and has been successfully rejected\n",
    "            \n",
    "    return round(success/m,2) # return the probability, estimating it to 2 decimal digits\n",
    "        \n",
    "    \n",
    "\n",
    "    # raise NotImplementedError()\n",
    "\n",
    "\n",
    "\n"
   ]
  },
  {
   "cell_type": "markdown",
   "metadata": {
    "deletable": false,
    "editable": false,
    "nbgrader": {
     "cell_type": "markdown",
     "checksum": "768cc1b0e4248a686316d0e8e9080e91",
     "grade": false,
     "grade_id": "cell-1cfc1866db5b33fa",
     "locked": true,
     "schema_version": 3,
     "solution": false,
     "task": false
    }
   },
   "source": [
    "(b) Use your function to estimate the power of the one-sided 1-sample t-test for different values of $\\mu$. Assume that $\\mu_0 =5$, $\\sigma = 10$, $n=10$, and $\\alpha = 0.05$. Consider the values $\\mu = 5,8,10,12$. Note, that if $\\mu=5$ the null hypothesis is actually true. Recall, that in that case, the probability to reject the null is the type I error of the test. In the other cases, you are estimating the power of the test. \n",
    "\n",
    "Copy the table below into your answer and fill in the type I error and power estimates you obtained. \n",
    "\n",
    "\n",
    "| population mean $\\mu$  | effect size  | estimated power |\n",
    "|:-:|:-:|:-:|\n",
    "| 5 | 0 | | \n",
    "    | 8  |     0.3  |   |\n",
    "| 10  | 0.5  |   |\n",
    "| 12  | 0.7|   |"
   ]
  },
  {
   "cell_type": "code",
   "execution_count": 23,
   "metadata": {
    "deletable": false,
    "nbgrader": {
     "cell_type": "code",
     "checksum": "e811ef5dc827971dbbd5c6c92d2245b8",
     "grade": true,
     "grade_id": "cell-ee779b9e332840b8",
     "locked": false,
     "points": 1,
     "schema_version": 3,
     "solution": true,
     "task": false
    }
   },
   "outputs": [
    {
     "name": "stdout",
     "output_type": "stream",
     "text": [
      "0.05\n",
      "0.23\n",
      "0.43\n",
      "0.66\n"
     ]
    }
   ],
   "source": [
    "# YOUR CODE HERE\n",
    "print(simulate_power(n, alpha, 5, mu_0, 10))\n",
    "print(simulate_power(n, alpha, 8, mu_0, 10))\n",
    "print(simulate_power(n, alpha, 10, mu_0, 10))\n",
    "print(simulate_power(n, alpha, 12, mu_0, 10))\n",
    "# raise NotImplementedError()"
   ]
  },
  {
   "cell_type": "markdown",
   "metadata": {
    "deletable": false,
    "nbgrader": {
     "cell_type": "markdown",
     "checksum": "3d1c711e0d090b6c496149f16e6945ff",
     "grade": true,
     "grade_id": "cell-9d18f14246eae334",
     "locked": false,
     "points": 1,
     "schema_version": 3,
     "solution": true,
     "task": false
    }
   },
   "source": [
    "| population mean $\\mu$  | effect size  | estimated power |\n",
    "|:-:|:-:|:-:|\n",
    "| 5 | 0 |0.05 | \n",
    "    | 8  |     0.3  | 0.23  |\n",
    "| 10  | 0.5  | 0.43  |\n",
    "| 12  | 0.7|  0.66 |"
   ]
  },
  {
   "cell_type": "code",
   "execution_count": 20,
   "metadata": {
    "deletable": false,
    "editable": false,
    "nbgrader": {
     "cell_type": "code",
     "checksum": "5e8e93737dd863ba6b28676b1f82051d",
     "grade": false,
     "grade_id": "cell-db887dc6d0a73bd3",
     "locked": true,
     "schema_version": 3,
     "solution": false,
     "task": false
    }
   },
   "outputs": [
    {
     "data": {
      "text/plain": [
       "0.05000000000020677"
      ]
     },
     "execution_count": 20,
     "metadata": {},
     "output_type": "execute_result"
    }
   ],
   "source": [
    "# Check your work: In the statsmodels package, there is a function that can calculate the \n",
    "# theoretical power of 1-sample t-tests (if the test assumptions are met)\n",
    "# Note: I do NOT expect that your simulated power estimates are equal to these calculated \n",
    "# power values, but they should be close to the first two decimal digits for m=10000 simulated samples.\n",
    "\n",
    "import statsmodels.stats.power as smp\n",
    "import math\n",
    "\n",
    "mu = 5\n",
    "mu_0 = 5\n",
    "sigma = 10\n",
    "n=10\n",
    "\n",
    "smp.ttest_power((mu-mu_0)/sigma, nobs=n, alpha=0.05, alternative='larger')"
   ]
  },
  {
   "cell_type": "markdown",
   "metadata": {},
   "source": [
    "(c) The above power calculation from the `statsmodels` package is only valid if the assumption of the 1-sample t-test, which is that the data are a random sample from a **Normal** population are indeed satisfied. What happens to the power if that is not the case? Write a new simulation function called `simulate_power_uniform` for the same t-test \n",
    "\n",
    "$$ H_0: \\mu = 5 \\qquad \\mbox{ against } \\qquad H_a: \\mu > 5$$\n",
    "\n",
    "but in this case draw the sample of size $n=10$ from a continuous uniform(a,b) distribution with the same means $\\mu = \\frac{a+b}{2}$ (for $\\mu = 5,8,10,12$) and the same variance $\\frac{(b-a)^2}{12} = \\sigma^2 = 100$ as in the previous example. Recall, that Scipy Stats uses parameters loc = a and scale = b-a to define uniform random variables. \n",
    "\n",
    "| population distribution | population parameters | estimated power |\n",
    "|:-:|:-:|:-:|\n",
    "| Uniform | loc = $5 - \\frac{1}{2}\\sqrt{1200}$, scale = $\\sqrt{1200}$ |  | \n",
    "| Uniform   | loc = $8 - \\frac{1}{2}\\sqrt{1200}$, scale = $\\sqrt{1200}$ |    |\n",
    "| Uniform  |  loc = $10 - \\frac{1}{2}\\sqrt{1200}$, scale = $\\sqrt{1200}$  |  |\n",
    "| Uniform  | loc = $12 - \\frac{1}{2}\\sqrt{1200}$, scale = $\\sqrt{1200}$   |  |\n",
    "\n",
    "Cut and paste the table above into your answer Markdown box and complete it. What do you notice compared to the power of the t-test for normally distributed data? Is it a good idea to use a t-test for data that comes from a non-Normal distribution? Explain why or why not. "
   ]
  },
  {
   "cell_type": "code",
   "execution_count": 59,
   "metadata": {
    "deletable": false,
    "nbgrader": {
     "cell_type": "code",
     "checksum": "0859c11c6b9b9eafd4b8b502b1950ec5",
     "grade": true,
     "grade_id": "cell-bcba82b129b9e5ee",
     "locked": false,
     "points": 2,
     "schema_version": 3,
     "solution": true,
     "task": false
    }
   },
   "outputs": [
    {
     "name": "stdout",
     "output_type": "stream",
     "text": [
      "0.1727\n",
      "0.1748\n",
      "0.1766\n",
      "0.1736\n"
     ]
    }
   ],
   "source": [
    "# COMPLETE\n",
    "# Example of drawing data from uniform(a,b) distribution \n",
    "\n",
    "n=10                   # sample size\n",
    "mu = 8                 # population mean (example)\n",
    "m = 10000              # number of simulated samples for power estimation\n",
    "\n",
    "scale = math.sqrt(12*100)      # scale = (b-a). Recall, that Var(U) = (b-a)^2/12\n",
    "loc = mu -0.5*scale            # loc is the lower bound of the uniform (loc = a)\n",
    "sigma = ((scale)**2)/12        # variance of the uniform dist.\n",
    "\n",
    "\n",
    "# YOUR CODE HERE\n",
    "def simulate_power_uniform(n,mu,alpha,scale):\n",
    "    success = 0 # new counter for every time it has been rejected when it has been hyp has been false!\n",
    "    \n",
    "    # declare a desired quantile for a UNIFORM DIST.\n",
    "    quantile = stats.uniform.ppf(1-alpha)\n",
    "    \n",
    "    # formulate variance of a uniform distribution\n",
    "    loc = mu -0.5*scale # lower bound for uniform dist.\n",
    "    b = loc + scale # upper bound for uniform dist.\n",
    "    \n",
    "    var = ((b - loc)**2)/12 # true variance since you know the BOUNDS\n",
    "    for i in range(m): # simulate 10000 samples\n",
    "        sample = stats.uniform(loc = loc, scale = scale).rvs(n) # random sample from a unif dist of size 'n'\n",
    "        x_bar = np.mean(sample) # xbar from the unif dist random sample\n",
    "        s = np.sqrt(var) # true standard deviation\n",
    "        # note: What's the difference between using np.std(sample) to obtain sqrt(var) vs. just using the true variance?\n",
    "        \n",
    "        # perform the test stat.\n",
    "        test = (x_bar-mu)/(s/math.sqrt(n))\n",
    "        if(test > quantile): # Check if it falls within the rejection region\n",
    "            success += 1 # increment if it's true, and has been successfully rejected\n",
    "    \n",
    "    return (success/m) # return the probability\n",
    "\n",
    "# execute function with different values of 'mu'\n",
    "print(simulate_power_uniform(n,5,alpha,scale))\n",
    "print(simulate_power_uniform(n,8,alpha,scale))\n",
    "print(simulate_power_uniform(n,10,alpha,scale))\n",
    "print(simulate_power_uniform(n,12,alpha,scale))\n",
    "\n",
    "# raise NotImplementedError()"
   ]
  },
  {
   "cell_type": "markdown",
   "metadata": {
    "deletable": false,
    "nbgrader": {
     "cell_type": "markdown",
     "checksum": "58ce7414a327ba686ea7db23a94c55fe",
     "grade": true,
     "grade_id": "cell-a14cddf597049d12",
     "locked": false,
     "points": 2,
     "schema_version": 3,
     "solution": true,
     "task": false
    }
   },
   "source": [
    "| population distribution | population parameters | estimated power |\n",
    "|:-:|:-:|:-:|\n",
    "| Uniform | loc = $5 - \\frac{1}{2}\\sqrt{1200}$, scale = $\\sqrt{1200}$ | 0.1751 | \n",
    "| Uniform   | loc = $8 - \\frac{1}{2}\\sqrt{1200}$, scale = $\\sqrt{1200}$ | 0.1733|\n",
    "| Uniform  |  loc = $10 - \\frac{1}{2}\\sqrt{1200}$, scale = $\\sqrt{1200}$  |0.1793  |\n",
    "| Uniform  | loc = $12 - \\frac{1}{2}\\sqrt{1200}$, scale = $\\sqrt{1200}$   |0.1818  |\n",
    "\n",
    "Comment:\n",
    "The higher the choice of the population 'mu' or rather the farther it deviates from the fixed hypothesized mu_0 for the normally distributed data, the higher the power. It is not a good idea to take from the non-normally distributed because the above table of the uniformly distributed data shows that the power does not change despite the different choices of 'mu' deviating away from the hypothesized mu_0. "
   ]
  },
  {
   "cell_type": "markdown",
   "metadata": {
    "deletable": false,
    "editable": false,
    "nbgrader": {
     "cell_type": "markdown",
     "checksum": "150df52582138d4acb274ba5230a46fd",
     "grade": false,
     "grade_id": "cell-5001ea8e93e8e42d",
     "locked": true,
     "schema_version": 3,
     "solution": false,
     "task": false
    }
   },
   "source": [
    "## Problem 2\n",
    "\n",
    "Conway's [game of life](https://en.wikipedia.org/wiki/Conway%27s_Game_of_Life) is a cellular automaton. There aren't any actual players in this \"game\". Instead the game board evolves according to some specific rules. In this problem, we will simlulate a game board for the game-of-life and study its evolution. Check out [this website](https://academo.org/demos/conways-game-of-life/) if you would like to make your own game board and watch it evolve. \n",
    "\n",
    "Consider a two-dimensional $m \\times n$ grid (think two-dimensional NumPy array). Each entry in the array is either 1 (represents a \"live\" cell) or 0 (represents a dead cell). Time is discrete. That is, we consider time points $t_1, t_2 \\ldots$. \n",
    "\n",
    "Here are the rules for evolution from some time point $t_n$ to the next $t_{n+1}$:\n",
    "\n",
    "- Any live cell with fewer than two live neighbours dies, as if by underpopulation.\n",
    "- Any live cell with two or three live neighbours lives on to the next generation.\n",
    "- Any live cell with more than three live neighbours dies, as if by overpopulation.\n",
    "- Any dead cell with exactly three live neighbours becomes a live cell, as if by reproduction.\n",
    "\n",
    "Please note, that changes are only implemented in the next time-step. That means for each cell in the array, we will apply the above rules to decide whether it will live or die and then implement the changed board for the next time step after evaluating all cells. We will assume that the board has a torus structure. That means cells in the upper-most row are assumed to neighbor the cells in the lower-most row and similarly, the cells in the left-most column are assumed to neighbor the cells in the right-most column.\n",
    "\n",
    "**Example**: each cell on the board has eight neighbors. The four cells to the top, bottom, left, and right as well as the four diagonally bordering cells. In the $5 \\times 5$ example shown below, the eight neighbors of the black cell at (0,0) are shown in red. Execute the code below to see the image. "
   ]
  },
  {
   "cell_type": "code",
   "execution_count": 1,
   "metadata": {
    "deletable": false,
    "editable": false,
    "nbgrader": {
     "cell_type": "code",
     "checksum": "49d9ac7ce4f42d7d01bc52b8d3d59003",
     "grade": false,
     "grade_id": "cell-250e77f28885f4b8",
     "locked": true,
     "schema_version": 3,
     "solution": false,
     "task": false
    }
   },
   "outputs": [
    {
     "data": {
      "image/png": "[encoded data removed]",
      "text/plain": [
       "<Figure size 432x288 with 1 Axes>"
      ]
     },
     "metadata": {
      "needs_background": "light"
     },
     "output_type": "display_data"
    }
   ],
   "source": [
    "import numpy as np\n",
    "import matplotlib.pyplot as plt\n",
    "\n",
    "a = 2*np.ones((5, 5), int) # make numpy array with data\n",
    "a[0,0] = 0                 # black cell\n",
    "a[0,1] = a[1,0] = a[1,1] = a[4,4] = a[4,0] = a[4,1] = a[0,4] = a[1,4] = 1 # red cells\n",
    "plt.imshow(a, cmap='hot');            # create heatmap 0 is black, 1 is red, 2 is white\n",
    "                                      # don't worry - you don't have to understand the plot commands, yet. "
   ]
  },
  {
   "cell_type": "markdown",
   "metadata": {
    "deletable": false,
    "editable": false,
    "nbgrader": {
     "cell_type": "markdown",
     "checksum": "e26ad6ce7bd7ea64ebf0660468a7cfe4",
     "grade": false,
     "grade_id": "cell-71ba0963ca8206d3",
     "locked": true,
     "schema_version": 3,
     "solution": false,
     "task": false
    }
   },
   "source": [
    "(a) (2 points) Write a function called `valid_board()` that determines whether a $m\\times n$ numpy array is a valid game-of-life board. That means that your function should return the boolean value `True` if every entry in the array is either 0 or 1 and otherwise should return `False`. "
   ]
  },
  {
   "cell_type": "code",
   "execution_count": 6,
   "metadata": {
    "deletable": false,
    "nbgrader": {
     "cell_type": "code",
     "checksum": "401361f363248b2ef3a2ed0895669ee9",
     "grade": true,
     "grade_id": "cell-df1254b47a71068d",
     "locked": false,
     "points": 0,
     "schema_version": 3,
     "solution": true,
     "task": false
    }
   },
   "outputs": [],
   "source": [
    "# COMPLETE\n",
    "def valid_board(array):\n",
    "    \"\"\"checks whether NumPy array is valid game board for game-of-life\"\"\"\n",
    "    # YOUR CODE HERE\n",
    "    # return boolean for each entry that is true if entry is 0 or 1.\n",
    "    return bool(np.array([val.prod() for val in (array==0)|(array==1)]).prod())\n",
    "    # raise NotImplementedError()"
   ]
  },
  {
   "cell_type": "code",
   "execution_count": 7,
   "metadata": {
    "deletable": false,
    "editable": false,
    "nbgrader": {
     "cell_type": "code",
     "checksum": "c8e64bf9556b2da03a94cbd24aaff1ee",
     "grade": true,
     "grade_id": "cell-44ded26717289dfd",
     "locked": true,
     "points": 2,
     "schema_version": 3,
     "solution": false,
     "task": false
    }
   },
   "outputs": [
    {
     "data": {
      "text/plain": [
       "True"
      ]
     },
     "execution_count": 7,
     "metadata": {},
     "output_type": "execute_result"
    }
   ],
   "source": [
    "# Check that your function works as it is supposed to \n",
    "valid_board(np.array([[0,1,0],[1,1,0]]))==True\n",
    "valid_board(np.array([[0,3,0],[-1,1,0]]))==False\n"
   ]
  },
  {
   "cell_type": "markdown",
   "metadata": {
    "deletable": false,
    "editable": false,
    "nbgrader": {
     "cell_type": "markdown",
     "checksum": "424b63990ccd546247a42ab530a69c87",
     "grade": false,
     "grade_id": "cell-e9b7de9967373330",
     "locked": true,
     "schema_version": 3,
     "solution": false,
     "task": false
    }
   },
   "source": [
    "(b) (5 points) Write a function called `evolution()` that takes as its input a two-dimendional Numpy array. Check, whether the array is a valid game-of-life board. If it is, return the board at the next evolution time step (that is apply the above rules to every cell and return a game board with live or dead cells one time step later). If the board is not valid, return the print statement \"your board is not valid\". \n",
    "\n",
    "Don't forget to comment your code!"
   ]
  },
  {
   "cell_type": "code",
   "execution_count": 12,
   "metadata": {
    "deletable": false,
    "nbgrader": {
     "cell_type": "code",
     "checksum": "a09c2892e02bfe031fcad44f344d2f21",
     "grade": true,
     "grade_id": "cell-913c67203c7a5103",
     "locked": false,
     "points": 0,
     "schema_version": 3,
     "solution": true,
     "task": false
    }
   },
   "outputs": [],
   "source": [
    "# COMPLETE\n",
    "def evolution(array):\n",
    "    \"\"\"evolves game board for game-of-life for one time-step\"\"\"\n",
    "    # YOUR CODE HERE\n",
    "    if(valid_board(array)): # check board\n",
    "        arr_0 = array # duplicate array\n",
    "        m,n = arr_0.shape # find shape (rows, columns) of the input array\n",
    "        arr_1 = (-1)*np.ones((m,n)) # make new array for recurring timestep\n",
    "        \n",
    "        # left-most and right-most column placeholders\n",
    "        left = arr_0[:,0] \n",
    "        right = arr_0[:,n-1]\n",
    "\n",
    "        new_arr = np.concatenate((right[:, np.newaxis],arr_0, left[:,np.newaxis]), axis = 1) # attach right and left\n",
    "        \n",
    "        # top and bottom rows\n",
    "        top = new_arr[0,:] \n",
    "        bottom = new_arr[m-1,:]\n",
    "        \n",
    "        new_arr = np.concatenate((bottom[np.newaxis,:],new_arr, top[np.newaxis,:]), axis = 0) # attach top and bottom\n",
    "        \n",
    "        for r in range(1,m+1): # Traverse rowcount\n",
    "            for c in range(1,n+1): # Traverse colcount\n",
    "                \n",
    "                cell = new_arr[r,c]  # value of the cell\n",
    "                neighbors = new_arr[r-1:r+2, c-1:c+2] # neighboring arrays\n",
    "\n",
    "                if(cell == 1):  # live cells\n",
    "                    if(np.sum(neighbors)-cell<2): # if there are fewer than 2 live neighbors, kill the cell\n",
    "                        arr_1[r-1,c-1] = 0\n",
    "                    elif(np.sum(neighbors)-cell>3): # if there are more than 3 live neighbors, kill the cell\n",
    "                        arr_1[r-1,c-1] = 0\n",
    "                    else:                        # if there are 2 or 3 live neighbors, cell remains\n",
    "                        arr_1[r-1,c-1] = 1\n",
    "                    \n",
    "                if(cell == 0):  # Checking for dead cells\n",
    "                    if(np.sum(neighbors)==3): # if there are exactly three live neighbors, cell is active\n",
    "                        arr_1[r-1,c-1] = 1\n",
    "                    else:                  # otherwise cell remains dead\n",
    "                        arr_1[r-1,c-1] = 0\n",
    "                        \n",
    "        return arr_1 # return board\n",
    "        \n",
    "    else: # check board validity\n",
    "        return print(\"invalid board\") \n",
    "    # raise NotImplementedError()"
   ]
  },
  {
   "cell_type": "markdown",
   "metadata": {
    "deletable": false,
    "editable": false,
    "nbgrader": {
     "cell_type": "markdown",
     "checksum": "aaabfc7dc0a399816439066c1ad0533a",
     "grade": false,
     "grade_id": "cell-d1f88e07e1278b59",
     "locked": true,
     "schema_version": 3,
     "solution": false,
     "task": false
    }
   },
   "source": [
    "**Optional:** If you are not able to implement the `evolution()` function above, provide a written description of your algorithm here instead for potential partial credit. "
   ]
  },
  {
   "cell_type": "markdown",
   "metadata": {
    "deletable": false,
    "nbgrader": {
     "cell_type": "markdown",
     "checksum": "50cd10396fb7512327148cbd9bb24e68",
     "grade": true,
     "grade_id": "cell-5c9b5e32ba2fbf53",
     "locked": false,
     "points": 0,
     "schema_version": 3,
     "solution": true,
     "task": false
    }
   },
   "source": [
    "YOUR ANSWER HERE"
   ]
  },
  {
   "cell_type": "code",
   "execution_count": 13,
   "metadata": {
    "deletable": false,
    "editable": false,
    "nbgrader": {
     "cell_type": "code",
     "checksum": "ea7713237c5d6852430d17051ef15635",
     "grade": true,
     "grade_id": "cell-93251a291726e494",
     "locked": true,
     "points": 5,
     "schema_version": 3,
     "solution": false,
     "task": false
    }
   },
   "outputs": [
    {
     "data": {
      "text/plain": [
       "array([[ True,  True,  True,  True,  True],\n",
       "       [ True,  True,  True,  True,  True],\n",
       "       [ True,  True,  True,  True,  True],\n",
       "       [ True,  True,  True,  True,  True],\n",
       "       [ True,  True,  True,  True,  True]])"
      ]
     },
     "execution_count": 13,
     "metadata": {},
     "output_type": "execute_result"
    }
   ],
   "source": [
    "# Check your evolution function \n",
    "\n",
    "evolution(np.array([[1, 0, 0, 1, 0],\n",
    "       [0, 0, 1, 0, 0],\n",
    "       [0, 1, 0, 0, 1],\n",
    "       [0, 1, 0, 1, 1],\n",
    "       [0, 0, 0, 0, 0]]))==np.array([[0., 0., 0., 0., 0.],\n",
    "       [1., 1., 1., 1., 1.],\n",
    "       [0., 1., 0., 0., 1.],\n",
    "       [0., 0., 1., 1., 1.],\n",
    "       [1., 0., 1., 1., 0.]])\n"
   ]
  },
  {
   "cell_type": "markdown",
   "metadata": {
    "deletable": false,
    "editable": false,
    "nbgrader": {
     "cell_type": "markdown",
     "checksum": "e0a32e57bb55c42741038069945aa003",
     "grade": false,
     "grade_id": "cell-4990640d655a5eaa",
     "locked": true,
     "schema_version": 3,
     "solution": false,
     "task": false
    }
   },
   "source": [
    "**Remark:** The function `print_board()` defined below takes a $m \\times n$ NumPy array as its input and returns a printed image of the live (black) and dead (white) cells. Execute the code below to define the function. "
   ]
  },
  {
   "cell_type": "code",
   "execution_count": 16,
   "metadata": {
    "deletable": false,
    "editable": false,
    "nbgrader": {
     "cell_type": "code",
     "checksum": "660d418144d4dad73e7bf3af4b8820b0",
     "grade": false,
     "grade_id": "cell-ff6a95c41f5f4046",
     "locked": true,
     "schema_version": 3,
     "solution": false,
     "task": false
    }
   },
   "outputs": [],
   "source": [
    "import numpy as np\n",
    "import matplotlib.pyplot as plt\n",
    "\n",
    "def print_board(array):\n",
    "    \"\"\"visualizes game board for game of life\"\"\"\n",
    "    plt.imshow(array, cmap = 'binary');"
   ]
  },
  {
   "cell_type": "markdown",
   "metadata": {
    "deletable": false,
    "editable": false,
    "nbgrader": {
     "cell_type": "markdown",
     "checksum": "5479e20bd5da867cf019f1e851037907",
     "grade": false,
     "grade_id": "cell-d4f40477e9d9e311",
     "locked": true,
     "schema_version": 3,
     "solution": false,
     "task": false
    }
   },
   "source": [
    "(c) (4 points) Use either NumPy or Scipy to generate a game-of-life board of size $10 \\times 10$ in which each cell is a Bernoulli(p) random variable. That is, assume that cells are independent and that each value is 1 with probability p or otherwise 0. Start with p=0.5. Look at your initial board (you don't have to show the image). Show the visualization of the board after 100 steps of evolution. Repeat this process for a number of different random seeds (at least 10 different seeds). You do not have to show us your plots (you can only show one plot at a time per Juypter Notebook cell with the `print_board()` function). What happens if you start with a different (larger, smaller) value of p? Please describe what you observe. "
   ]
  },
  {
   "cell_type": "code",
   "execution_count": 17,
   "metadata": {
    "deletable": false,
    "nbgrader": {
     "cell_type": "code",
     "checksum": "986e6ba1d33391ced6ba9444d24304ec",
     "grade": true,
     "grade_id": "cell-c31ce8e6272572e0",
     "locked": false,
     "points": 2,
     "schema_version": 3,
     "solution": true,
     "task": false
    }
   },
   "outputs": [
    {
     "data": {
      "image/png": "[encoded data removed]",
      "text/plain": [
       "<Figure size 432x288 with 1 Axes>"
      ]
     },
     "metadata": {
      "needs_background": "light"
     },
     "output_type": "display_data"
    }
   ],
   "source": [
    "# COMPLETE\n",
    "# YOUR CODE HERE\n",
    "\n",
    "# set a random seed\n",
    "np.random.seed(10)\n",
    "p = 0.5 # predefined probability\n",
    "\n",
    "dist = np.random.binomial(1,p,(10,10)) # 10x10 board with bernoulli(p) per each cell\n",
    "for i in range(10*10):\n",
    "    dist = evolution(dist) # run it through 'evolution'\n",
    "\n",
    "#inspect board\n",
    "print_board(dist)\n",
    "\n",
    "# raise NotImplementedError()"
   ]
  },
  {
   "cell_type": "markdown",
   "metadata": {
    "deletable": false,
    "nbgrader": {
     "cell_type": "markdown",
     "checksum": "ee3fe807dd374d058a4b7d787f023712",
     "grade": true,
     "grade_id": "cell-4ddc784173123670",
     "locked": false,
     "points": 2,
     "schema_version": 3,
     "solution": true,
     "task": false
    }
   },
   "source": [
    "Under the predetermined p = 0.5, when it elapses 100 time steps, the board will be sometimes empty. Other times, some shapes will remain."
   ]
  },
  {
   "cell_type": "code",
   "execution_count": null,
   "metadata": {},
   "outputs": [],
   "source": []
  }
 ],
 "metadata": {
  "kernelspec": {
   "display_name": "Python 3 (ipykernel)",
   "language": "python",
   "name": "python3"
  },
  "language_info": {
   "codemirror_mode": {
    "name": "ipython",
    "version": 3
   },
   "file_extension": ".py",
   "mimetype": "text/x-python",
   "name": "python",
   "nbconvert_exporter": "python",
   "pygments_lexer": "ipython3",
   "version": "3.9.7"
  }
 },
 "nbformat": 4,
 "nbformat_minor": 2
}
