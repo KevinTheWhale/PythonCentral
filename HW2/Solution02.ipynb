{
 "cells": [
  {
   "cell_type": "markdown",
   "metadata": {
    "nbgrader": {
     "grade": false,
     "grade_id": "cell-a6f3f12388a2e526",
     "locked": true,
     "schema_version": 3,
     "solution": false,
     "task": false
    }
   },
   "source": [
    "# Solution for Homework 2\n",
    "\n",
    "**Remark:** If you are starting on the homework before Monday (and you do not yet know how to code a function in Python), please start by solving all the problems based on the given example first (and then spend a few minutes after Monday's class to \"wrap\" your code inside a newly defined function. That is, define the object you want to feed into your function (e.g., x=[2,3,5,1,1,2,0,5,9,0,8,4,3,2] for Problem 1 or string = \"Happy CODING!\" for Problem 2) and write code to do what the problems is asking you do to. Then later, make the object (here x or string) the variable of your function and add a return statement. \n",
    "\n",
    "In all problems below, please make sure to comment your code sufficiently well so that the grader can follow what you are doing with ease. If you do not know how to code the solution to a problem, you can get partial credit by providing a description of the algorithm you intended to implement in English (in form of an itemized list, for example). "
   ]
  },
  {
   "cell_type": "markdown",
   "metadata": {
    "nbgrader": {
     "grade": false,
     "grade_id": "cell-ef495698be86d216",
     "locked": true,
     "schema_version": 3,
     "solution": false,
     "task": false
    }
   },
   "source": [
    "## Problem 1\n",
    "\n",
    "Given a list x of numbers, write a function called `sum_to_first_zero()` which returns the sum of all elements up to the first zero in the list as a float or integer.  \n",
    "\n",
    "Example: If the list is x=[2,3,5,1,1,2,0,5,9,0,8,4,3,2] then your code should return 14.\n",
    "Your code should work, even if I change the list x. Obviously, then the code might produce a different answer. "
   ]
  },
  {
   "cell_type": "code",
   "execution_count": 2,
   "metadata": {
    "nbgrader": {
     "grade": true,
     "grade_id": "cell-631ba149fea50a1d",
     "locked": false,
     "points": 2,
     "schema_version": 3,
     "solution": true,
     "task": false
    }
   },
   "outputs": [],
   "source": [
    "def sum_to_first_zero(x):\n",
    "\n",
    "    n= x.index(0) # find position of first 0, call that n\n",
    "    return sum(x[:n]) # sum all of the first n elements and return that sum\n",
    "\n",
    "# Uncomment the statement below to test your function. \n",
    "# If your function works as intended, you should NOT get an error statement. \n",
    "x=[2,3,5,1,1,2,0,5,9,0,8,4,3,2]\n",
    "assert sum_to_first_zero(x)==14"
   ]
  },
  {
   "cell_type": "markdown",
   "metadata": {
    "nbgrader": {
     "grade": false,
     "grade_id": "cell-432173397f4b26ab",
     "locked": true,
     "schema_version": 3,
     "solution": false,
     "task": false
    }
   },
   "source": [
    "## Problem 2\n",
    "\n",
    "Suppose you are given a string. The string may include spaces and/or punctuation. \n",
    "    Write a function called `case_swap()` to swap the cases of the letters in the string. That is, make what's currently lower-case upper-case and vice-versa. Leave non-character elements the same. Return the case-swapped string. \n",
    "\n",
    "Example: If the input is \"Happy CODING!\" then the output should be \"hAPPY coding!\""
   ]
  },
  {
   "cell_type": "code",
   "execution_count": 3,
   "metadata": {
    "nbgrader": {
     "grade": true,
     "grade_id": "cell-bc49b385c82b4c2a",
     "locked": false,
     "points": 4,
     "schema_version": 3,
     "solution": true,
     "task": false
    }
   },
   "outputs": [],
   "source": [
    "def case_swap(s):\n",
    "\n",
    "    l = len(s)\n",
    "    new_string = []\n",
    "    \n",
    "    for i in range(l):\n",
    "        if s[i].islower():\n",
    "            new_string.append(s[i].upper())\n",
    "        else:\n",
    "            new_string.append(s[i].lower())\n",
    "        \n",
    "    output_string = \"\".join(new_string)\n",
    "        \n",
    "    return output_string\n",
    "\n",
    "# Uncomment the statement below to test your function. \n",
    "# If your function works as intended, you should NOT get an error statement. \n",
    "assert case_swap(\"Happy CODING!\" )==\"hAPPY coding!\""
   ]
  },
  {
   "cell_type": "markdown",
   "metadata": {
    "nbgrader": {
     "grade": false,
     "grade_id": "cell-7a07a53e4b1ccec4",
     "locked": true,
     "schema_version": 3,
     "solution": false,
     "task": false
    }
   },
   "source": [
    "## Problem 3\n",
    "\n",
    "Suppose you are given two names (in form of two separate strings). Write a function called `common_letters` that returns the letters that appear in both names, capitalized in alphabetical order as a string. If a letter appears twice in each name, it should only be listed once. \n",
    "\n",
    "Example: Entering Lisabet and Isabell should return 'ABEILS'."
   ]
  },
  {
   "cell_type": "code",
   "execution_count": 4,
   "metadata": {
    "nbgrader": {
     "grade": true,
     "grade_id": "cell-1c008267775e6d65",
     "locked": false,
     "points": 4,
     "schema_version": 3,
     "solution": true,
     "task": false
    }
   },
   "outputs": [],
   "source": [
    "def common_letters(name1, name2):\n",
    "\n",
    "    n1 = name1.upper() # convert all letter to upper case\n",
    "    n2 = name2.upper()\n",
    "\n",
    "    int = list(set(n1)&set(n2)) # convert both strings into sets and take intersection \n",
    "    int.sort()                  # sort alphabetically\n",
    "\n",
    "    return \"\".join(int)\n",
    "\n",
    "# Uncomment the statements below to test your function. \n",
    "# If your function works as intended, you should NOT get an error statement. \n",
    "assert common_letters(\"Lisabet\", \"Isabell\") == \"ABEILS\"\n",
    "assert common_letters(\"Otto\", \"Fred\") == \"\""
   ]
  },
  {
   "cell_type": "markdown",
   "metadata": {
    "nbgrader": {
     "grade": false,
     "grade_id": "cell-a0600661f6082e7c",
     "locked": true,
     "schema_version": 3,
     "solution": false,
     "task": false
    }
   },
   "source": [
    "## Problem 4\n",
    "\n",
    "A palindrome is a word or a phrase that reads the same forwards as backwards. Suppose you are given a string. Disregard capitalization, punctuation or spaces. Write a function called `palindrome()` that returns a message (in form of a print statement) that tells the user whether or not the string they provided is a palindrome. \n",
    "\n",
    "Examples of palindrome words or phrases: the name \"Otto\", the prase \"Never odd or even\"."
   ]
  },
  {
   "cell_type": "code",
   "execution_count": 5,
   "metadata": {
    "nbgrader": {
     "grade": true,
     "grade_id": "cell-cc4b6a0071177f26",
     "locked": false,
     "points": 4,
     "schema_version": 3,
     "solution": true,
     "task": false
    }
   },
   "outputs": [
    {
     "name": "stdout",
     "output_type": "stream",
     "text": [
      "Your phrase is a palindrome!\n",
      "Your phrase is not a palindrome!\n"
     ]
    }
   ],
   "source": [
    "def palindrome(phrase):\n",
    "    \n",
    "    phrase_lower = phrase.lower() # convert all letters to lower-case\n",
    "    letters = [letter for letter in phrase_lower if letter.isalpha()] # keep only letters, remove all else\n",
    "    new_list = letters.copy()     # making a deep copy of the list to mess with, keeping the original intact\n",
    "    new_list.reverse()            # reverse order  \n",
    "\n",
    "    if new_list == letters:     # check for palindrome (reads same backward as forwards)\n",
    "        statement = print(\"Your phrase is a palindrome!\")\n",
    "    else:\n",
    "        statement = print(\"Your phrase is not a palindrome!\")\n",
    "    return statement\n",
    "\n",
    "# Uncomment the statements below to test your function. \n",
    "palindrome(\"never odd or even\") # should return a message that this is a palindrome\n",
    "palindrome(\"this is a test\") # should return a message that this is not a palindrome"
   ]
  },
  {
   "cell_type": "markdown",
   "metadata": {
    "nbgrader": {
     "grade": false,
     "grade_id": "cell-cdb4c72e9c1a60da",
     "locked": true,
     "schema_version": 3,
     "solution": false,
     "task": false
    }
   },
   "source": [
    "## Problem 5\n",
    "\n",
    "We want to use random numbers to estimate the value of $\\pi$. Consider a unit circle (that is a circle around the origin of radius 1) and consider the smallest square with sides parallel to the axes that contains that circle. Write code below to generate n random vectors ${\\bf u} = (u_1, u_2)$ which are uniformly distributed over the area of the square.  \n",
    "\n",
    "Hint: Recall, that a circle of radius $r$ has area $\\pi r^2$. What is the area of the smallest square  with sides parallel to the axes that contains the unit circle? What is the probability that a random variable distributed randomly on this square lands in the unit circle?\n",
    "\n",
    "Use your simulated random vectors to estimate the value of $\\pi$ for different values of n. Explain (in the Form of complete English sentences) how your code works: what are you counting and why is it reasonable to use this count as an estimate for $\\pi$? Make sure to comment your code well enough so that a reader can follow the steps in your description and find each one reflected in the code. \n",
    "\n",
    "Your code should be a function that takes as its input the value of n and output a formatted print statement that reads: \"For n=_______ iterations, the estimate of pi is _______\" where both blanks should be filled in with meaningful values derived from your code. \n",
    "\n",
    "Describe your program/algorithm in English (in complete sentences or in the form of an itemized list) in the Markdown box below. "
   ]
  },
  {
   "cell_type": "markdown",
   "metadata": {
    "nbgrader": {
     "grade": true,
     "grade_id": "cell-a7e254d6006f7c51",
     "locked": false,
     "points": 3,
     "schema_version": 3,
     "solution": true,
     "task": false
    }
   },
   "source": [
    "**Algorithm outline:**\n",
    "\n",
    "For a given value of n create a for-loop with n iterations. In each iteration:\n",
    "\n",
    "* generate a vector of length two with coordinates jointly uniformly distributed on [-1,1]\n",
    "* determine whether the vector falls into the unit circle (that is, whether its euclidean norm is less than or equal to one). \n",
    "* store result as a Boolean outside the loop\n",
    "\n",
    "Aggregate the booleans. The proportion of vectors that fall inside the circle (sample proportion) will converge to P(random vector falls inside the circle)=pi/4 = (area of circle/area of rectangle). Hence our estimate of pi should be four times the sample proportion of vectors falling inside the circle. \n",
    "\n",
    "Return estimated value of pi in print statement.\n",
    "\n",
    "As we all hopefully remember from school, the (rounded) value of pi is 3.14. We need an n of ~100,000 to reliably estimate pi correctly up to those first two decimal digits. "
   ]
  },
  {
   "cell_type": "code",
   "execution_count": 12,
   "metadata": {
    "nbgrader": {
     "grade": true,
     "grade_id": "cell-4465b86fd7df34aa",
     "locked": false,
     "points": 3,
     "schema_version": 3,
     "solution": true,
     "task": false
    }
   },
   "outputs": [
    {
     "name": "stdout",
     "output_type": "stream",
     "text": [
      "For n=100000 iterations, the estimate of pi is 3.14312\n"
     ]
    }
   ],
   "source": [
    "def estimate_pi(n):\n",
    "\n",
    "    import random as random\n",
    "    random.seed(10)\n",
    "\n",
    "    x=[] # initialize three empty lists. x and y for the random coordinates of the points\n",
    "    y=[]\n",
    "    z=[] # y will hold Boolean values for whether or not points fall into the unit circle. \n",
    "\n",
    "    for i in range(n):\n",
    "        x.append(random.uniform(-1,1)) # draw x-coordinate of point from Uniform(-1,1) distribution\n",
    "        y.append(random.uniform(-1,1)) # draw y-coordinate of point from Uniform(-1,1) distribution\n",
    "        z.append(x[i]**2 + y[i]**2 < 1) # check whether point falls into unit circle (in circle -> True)\n",
    "\n",
    "    pi_estimate = 4*sum(z)/n # count how many points fall into unit circle with sum(z). \n",
    "\n",
    "    return print(\"For n={0} iterations, the estimate of pi is {1}\".format(n, pi_estimate))\n",
    "\n",
    "estimate_pi(100000)"
   ]
  }
 ],
 "metadata": {
  "celltoolbar": "Create Assignment",
  "kernelspec": {
   "display_name": "Python 3 (ipykernel)",
   "language": "python",
   "name": "python3"
  },
  "language_info": {
   "codemirror_mode": {
    "name": "ipython",
    "version": 3
   },
   "file_extension": ".py",
   "mimetype": "text/x-python",
   "name": "python",
   "nbconvert_exporter": "python",
   "pygments_lexer": "ipython3",
   "version": "3.9.13"
  }
 },
 "nbformat": 4,
 "nbformat_minor": 2
}
