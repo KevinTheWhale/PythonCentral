{
 "cells": [
  {
   "cell_type": "markdown",
   "metadata": {},
   "source": [
    "Before you turn this homework in, make sure everything runs as expected. First, **restart the kernel** and then **run all cells** (in the menubar, select Kernel$\\rightarrow$Restart \\& Run all). If you get error messages, the grader will get the same errors and won't be able to grade your work. \n",
    "\n",
    "Make sure you fill in any place that says `YOUR CODE HERE` or \"YOUR ANSWER HERE\". You may delete the line(s) that say \"**raise** NotImplementedError()\" and replace them with your actual work. Write all your work in the cells provided in this notebook. **DO NOT** add or delete any cells. \n",
    "\n",
    "Please fill in your name in the cell below."
   ]
  },
  {
   "cell_type": "code",
   "execution_count": 1,
   "metadata": {},
   "outputs": [],
   "source": [
    "NAME = \"Kevin Pham\""
   ]
  },
  {
   "cell_type": "markdown",
   "metadata": {},
   "source": [
    "---"
   ]
  },
  {
   "cell_type": "markdown",
   "metadata": {
    "deletable": false,
    "editable": false,
    "nbgrader": {
     "cell_type": "markdown",
     "checksum": "7879f480dff201e37975c2f28a718b4b",
     "grade": false,
     "grade_id": "cell-a6f3f12388a2e526",
     "locked": true,
     "schema_version": 3,
     "solution": false,
     "task": false
    }
   },
   "source": [
    "# Homework 2\n",
    "\n",
    "**Remark:** If you are starting on the homework before Monday (and you do not yet know how to code a function in Python), please start by solving all the problems based on the given example first (and then spend a few minutes after Monday's class to \"wrap\" your code inside a newly defined function. That is, define the object you want to feed into your function (e.g., x=[2,3,5,1,1,2,0,5,9,0,8,4,3,2] for Problem 1 or string = \"Happy CODING!\" for Problem 2) and write code to do what the problems is asking you do to. Then later, make the object (here x or string) the variable of your function and add a return statement. \n",
    "\n",
    "In all problems below, please make sure to comment your code sufficiently well so that the grader can follow what you are doing with ease. If you do not know how to code the solution to a problem, you can get partial credit by providing a description of the algorithm you intended to implement in English (in form of an itemized list, for example). "
   ]
  },
  {
   "cell_type": "markdown",
   "metadata": {
    "deletable": false,
    "editable": false,
    "nbgrader": {
     "cell_type": "markdown",
     "checksum": "818d43a4b1b8ba48f6c5755a39a825e6",
     "grade": false,
     "grade_id": "cell-ef495698be86d216",
     "locked": true,
     "schema_version": 3,
     "solution": false,
     "task": false
    }
   },
   "source": [
    "## Problem 1\n",
    "\n",
    "Given a list x of numbers, write a function called `sum_to_first_zero()` which returns the sum of all elements up to the first zero in the list as a float or integer.  \n",
    "\n",
    "Example: If the list is x=[2,3,5,1,1,2,0,5,9,0,8,4,3,2] then your code should return 14.\n",
    "Your code should work, even if I change the list x. Obviously, then the code might produce a different answer. "
   ]
  },
  {
   "cell_type": "code",
   "execution_count": 2,
   "metadata": {
    "deletable": false,
    "nbgrader": {
     "cell_type": "code",
     "checksum": "2816de9e6fc795cb5e40a78298041d28",
     "grade": true,
     "grade_id": "cell-631ba149fea50a1d",
     "locked": false,
     "points": 2,
     "schema_version": 3,
     "solution": true,
     "task": false
    }
   },
   "outputs": [],
   "source": [
    "# COMPLETE\n",
    "def sum_to_first_zero(x): # pass in argument. i.e. A list\n",
    "\n",
    "# YOUR CODE HERE\n",
    "    for i in range(len(x)): # traverse through the given list using its length\n",
    "        if(x[i] == 0): # check each position if a '0' is present\n",
    "            return int(sum(x[:i])) # if found, sum only up to that point and return as output while only making it an integer\n",
    "# end of function            \n",
    "# raise NotImplementedError()\n",
    "\n",
    "# Uncomment the statement below to test your function. \n",
    "# If your function works as intended, you should NOT get an error statement. \n",
    "x=[2,3,5,1,1,2,0,5,9,0,8,4,3,2]\n",
    "assert sum_to_first_zero(x)==14 # check for errors. If no errors, function is successful."
   ]
  },
  {
   "cell_type": "markdown",
   "metadata": {
    "deletable": false,
    "editable": false,
    "nbgrader": {
     "cell_type": "markdown",
     "checksum": "c9564019ea767c38819ef30659c79def",
     "grade": false,
     "grade_id": "cell-432173397f4b26ab",
     "locked": true,
     "schema_version": 3,
     "solution": false,
     "task": false
    }
   },
   "source": [
    "## Problem 2\n",
    "\n",
    "Suppose you are given a string. The string may include spaces and/or punctuation. \n",
    "    Write a function called `case_swap()` to swap the cases of the letters in the string. That is, make what's currently lower-case upper-case and vice-versa. Leave non-character elements the same. Return the case-swapped string. \n",
    "\n",
    "Example: If the input is \"Happy CODING!\" then the output should be \"hAPPY coding!\""
   ]
  },
  {
   "cell_type": "code",
   "execution_count": 3,
   "metadata": {
    "deletable": false,
    "nbgrader": {
     "cell_type": "code",
     "checksum": "091e774cba723d020a1ddf4d822e75a0",
     "grade": true,
     "grade_id": "cell-bc49b385c82b4c2a",
     "locked": false,
     "points": 4,
     "schema_version": 3,
     "solution": true,
     "task": false
    }
   },
   "outputs": [],
   "source": [
    "# COMPLETE\n",
    "def case_swap(string): # input only takes in a string\n",
    "    string = list(string)  # recall that strings cannot be modified so convert it into a list first to modify it.\n",
    "    for i in range(len(string)): # traverse through the string as a list\n",
    "        if(string[i].islower()):  # check if it's lowercase to make it into uppercase\n",
    "            string[i] = string[i].upper() # change each lowercase to upper by each position\n",
    "        else: # otherwise make it lowercase to account for uppercase letters\n",
    "            string[i] = string[i].lower() # change each uppercase to lower by each position otherwise\n",
    "    \n",
    "    # make back into a string using the join method\n",
    "    string = ''.join(string)\n",
    "    \n",
    "    return(string) # return the string to check\n",
    "\n",
    "    # end of function\n",
    "    \n",
    "\n",
    "\n",
    "#raise NotImplementedError()\n",
    "\n",
    "\n",
    "# Uncomment the statement below to test your function. \n",
    "# If your function works as intended, you should NOT get an error statement. \n",
    "assert case_swap(\"Happy CODING!\")==\"hAPPY coding!\""
   ]
  },
  {
   "cell_type": "markdown",
   "metadata": {
    "deletable": false,
    "editable": false,
    "nbgrader": {
     "cell_type": "markdown",
     "checksum": "a98e854876a94d157d02b02dd2afd4aa",
     "grade": false,
     "grade_id": "cell-7a07a53e4b1ccec4",
     "locked": true,
     "schema_version": 3,
     "solution": false,
     "task": false
    }
   },
   "source": [
    "## Problem 3\n",
    "\n",
    "Suppose you are given two names (in form of two separate strings). Write a function called `common_letters` that returns the letters that appear in both names, capitalized in alphabetical order as a string. If a letter appears twice in each name, it should only be listed once. \n",
    "\n",
    "Example: Entering Lisabet and Isabell should return 'ABEILS'."
   ]
  },
  {
   "cell_type": "code",
   "execution_count": 4,
   "metadata": {
    "deletable": false,
    "nbgrader": {
     "cell_type": "code",
     "checksum": "f706ea2e673b6279940b08c4f29f9908",
     "grade": true,
     "grade_id": "cell-1c008267775e6d65",
     "locked": false,
     "points": 4,
     "schema_version": 3,
     "solution": true,
     "task": false
    }
   },
   "outputs": [],
   "source": [
    "# COMPLETE\n",
    "def common_letters(name01, name02):\n",
    "    # find the unique chars in each name, making sure to make them all the same capitalization\n",
    "    unique01 = set(name01.upper())\n",
    "    unique02 = set(name02.upper())\n",
    "    \n",
    "    # find the intersection between the two names while sorting it\n",
    "    inter = sorted(unique01.intersection(unique02))\n",
    "    # combine into one string\n",
    "    inter = ''.join(inter)\n",
    "\n",
    "    \n",
    "    # return the string\n",
    "    return inter\n",
    "\n",
    "    \n",
    "    \n",
    "\n",
    "# YOUR CODE HERE\n",
    "# raise NotImplementedError()\n",
    "# Uncomment the statements below to test your function. \n",
    "# If your function works as intended, you should NOT get an error statement. \n",
    "assert common_letters(\"Lisabet\", \"Isabell\") == \"ABEILS\"\n",
    "assert common_letters(\"Otto\", \"Fred\") == \"\""
   ]
  },
  {
   "cell_type": "markdown",
   "metadata": {
    "deletable": false,
    "editable": false,
    "nbgrader": {
     "cell_type": "markdown",
     "checksum": "42b3892958d699bcb2b26ace8f08cc71",
     "grade": false,
     "grade_id": "cell-a0600661f6082e7c",
     "locked": true,
     "schema_version": 3,
     "solution": false,
     "task": false
    }
   },
   "source": [
    "## Problem 4\n",
    "\n",
    "A palindrome is a word or a phrase that reads the same forwards as backwards. Suppose you are given a string. Disregard capitalization, punctuation or spaces. Write a function called `palindrome()` that returns a message (in form of a print statement) that tells the user whether or not the string they provided is a palindrome. \n",
    "\n",
    "Examples of palindrome words or phrases: the name \"Otto\", the prase \"Never odd or even\"."
   ]
  },
  {
   "cell_type": "code",
   "execution_count": 5,
   "metadata": {
    "deletable": false,
    "nbgrader": {
     "cell_type": "code",
     "checksum": "8e8fc406a22fe9d637738e42d5fd62c1",
     "grade": true,
     "grade_id": "cell-cc4b6a0071177f26",
     "locked": false,
     "points": 4,
     "schema_version": 3,
     "solution": true,
     "task": false
    }
   },
   "outputs": [
    {
     "name": "stdout",
     "output_type": "stream",
     "text": [
      "This is a palindrome\n",
      "This is NOT a palindrome\n"
     ]
    }
   ],
   "source": [
    "# COMPLETE\n",
    "def palindrome(string):\n",
    "    # Traverse through the string to disregard all punctuation, spaces, and capitalization\n",
    "    \n",
    "    # remove the whitespaces\n",
    "    string = string.strip() \n",
    "    string = string.replace(\" \",\"\")\n",
    "    \n",
    "    string = list(string) # convert into a list\n",
    "    \n",
    "    # check for palindrome by checking each char from forward vs. backwards\n",
    "    if(string[::] == string[::-1]):\n",
    "        print(\"This is a palindrome\") # if successful\n",
    "    else:\n",
    "        print(\"This is NOT a palindrome\") # fail otherwise\n",
    "\n",
    "    \n",
    "    \n",
    "    \n",
    "    \n",
    "            \n",
    "        \n",
    "            \n",
    "            \n",
    "#raise NotImplementedError()\n",
    "\n",
    "# Uncomment the statements below to test your function. \n",
    "palindrome(\"never odd or even\") # should return a message that this is a palindrome\n",
    "palindrome(\"this is a test\") # should return a message that this is not a palindrome"
   ]
  },
  {
   "cell_type": "markdown",
   "metadata": {
    "deletable": false,
    "editable": false,
    "nbgrader": {
     "cell_type": "markdown",
     "checksum": "08ebfba763563b7d18efa0a0ce0fe430",
     "grade": false,
     "grade_id": "cell-cdb4c72e9c1a60da",
     "locked": true,
     "schema_version": 3,
     "solution": false,
     "task": false
    }
   },
   "source": [
    "## Problem 5\n",
    "\n",
    "We want to use random numbers to estimate the value of $\\pi$. Consider a unit circle (that is a circle around the origin of radius 1) and consider the smallest square with sides parallel to the axes that contains that circle. Write code below to generate n random vectors ${\\bf u} = (u_1, u_2)$ which are uniformly distributed over the area of the square.  \n",
    "\n",
    "Hint: Recall, that a circle of radius $r$ has area $\\pi r^2$. What is the area of the smallest square  with sides parallel to the axes that contains the unit circle? What is the probability that a random variable distributed randomly on this square lands in the unit circle?\n",
    "\n",
    "Use your simulated random vectors to estimate the value of $\\pi$ for different values of n. Explain (in the Form of complete English sentences) how your code works: what are you counting and why is it reasonable to use this count as an estimate for $\\pi$? Make sure to comment your code well enough so that a reader can follow the steps in your description and find each one reflected in the code. \n",
    "\n",
    "Your code should be a function that takes as its input the value of n and output a formatted print statement that reads: \"For n=_______ iterations, the estimate of pi is _______\" where both blanks should be filled in with meaningful values derived from your code. \n",
    "\n",
    "Describe your program/algorithm in English (in complete sentences or in the form of an itemized list) in the Markdown box below. \n",
    "\n",
    "Finally, run your function and justify your choice of n. How do you decide which n is big enough?"
   ]
  },
  {
   "cell_type": "markdown",
   "metadata": {
    "deletable": false,
    "nbgrader": {
     "cell_type": "markdown",
     "checksum": "43894cd2fda4ab72391312c33f9040b8",
     "grade": true,
     "grade_id": "cell-a7e254d6006f7c51",
     "locked": false,
     "points": 3,
     "schema_version": 3,
     "solution": true,
     "task": false
    }
   },
   "source": [
    "It will first grab the user's integer input via prompt before it queues into the function to estimate pi.\n",
    "Within the function itself, two separate counters are set first to count how many times it lands within the unit circle and how many land within the square that the unit circle is embedded in. This will calculate the following algorithm: success/total.\n",
    "From there, it will traverse through NxN trials in a for-loop where N is the user's integer input and use the following variables to account for randomness being 'X' to represent our horizontal axis between -1 and 1, and 'Y' to represent our vertical axis between -1 to 1. Using the formula for a circle being (x)^2 + (Y)^2 to contain each individual trial in the loop and we check if it's within 1 to see if it does in fact land in the unit circle. If it does, we increment the counter from the circle and we by default increment the counter for square since the circle is embedded in the square. Now with each incremented counter, we can calculate the final estimation via pi = 4x(circle count / square count) and display our results with a proper print statement."
   ]
  },
  {
   "cell_type": "code",
   "execution_count": 6,
   "metadata": {
    "deletable": false,
    "nbgrader": {
     "cell_type": "code",
     "checksum": "0614ae37f10a886f704112f2457c8510",
     "grade": true,
     "grade_id": "cell-4465b86fd7df34aa",
     "locked": false,
     "points": 3,
     "schema_version": 3,
     "solution": true,
     "task": false
    }
   },
   "outputs": [
    {
     "name": "stdout",
     "output_type": "stream",
     "text": [
      "Please enter a number: 100\n",
      "For n =  100  iterations, the estimate of pi is  3.1468\n"
     ]
    }
   ],
   "source": [
    "# \n",
    "# get appropriate package\n",
    "import random\n",
    "\n",
    "\n",
    "def estimate_pi(N):\n",
    "    circle_count = 0 # set a counter for how many times it has landed in the circle\n",
    "    square_count = 0 # set a counter for how many times it has landed in the square\n",
    "    \n",
    "    for i in range(N*N):\n",
    "        X = random.uniform(-1,1) # set for horizontal axis\n",
    "        Y = random.uniform(-1,1) # set for vertical axis\n",
    "        \n",
    "        prob_dist = X**2 + Y**2 # get results\n",
    "        \n",
    "        if(prob_dist <= 1): # check if it lands within the unit circle\n",
    "            circle_count += 1 # increment if it does land in the unit circle\n",
    "        \n",
    "        square_count+=1 # increment square since circle is embedded in the square.\n",
    "    \n",
    "        # final estimation of pi\n",
    "        pi = 4*(circle_count/square_count) # number of times it lands within circle overall when embedded inside square\n",
    "    print(\"For n = \",N,\" iterations, the estimate of pi is \" , pi)\n",
    "\n",
    "# Testing it here\n",
    "# Get user input on 'n' number of trials (making sure it is an integer)\n",
    "N = int(input(\"Please enter a number: \"))\n",
    "estimate_pi(N)\n",
    "\n",
    "    \n",
    "\n",
    "# YOUR CODE HERE\n",
    "# raise NotImplementedError()"
   ]
  },
  {
   "cell_type": "code",
   "execution_count": null,
   "metadata": {},
   "outputs": [],
   "source": []
  }
 ],
 "metadata": {
  "kernelspec": {
   "display_name": "Python 3 (ipykernel)",
   "language": "python",
   "name": "python3"
  },
  "language_info": {
   "codemirror_mode": {
    "name": "ipython",
    "version": 3
   },
   "file_extension": ".py",
   "mimetype": "text/x-python",
   "name": "python",
   "nbconvert_exporter": "python",
   "pygments_lexer": "ipython3",
   "version": "3.9.7"
  }
 },
 "nbformat": 4,
 "nbformat_minor": 2
}
